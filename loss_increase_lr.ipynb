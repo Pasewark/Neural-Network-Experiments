{
 "cells": [
  {
   "cell_type": "code",
   "execution_count": 1,
   "metadata": {},
   "outputs": [
    {
     "name": "stderr",
     "output_type": "stream",
     "text": [
      "/usr/local/lib/python3.5/dist-packages/tensorflow/python/framework/dtypes.py:516: FutureWarning: Passing (type, 1) or '1type' as a synonym of type is deprecated; in a future version of numpy, it will be understood as (type, (1,)) / '(1,)type'.\n",
      "  _np_qint8 = np.dtype([(\"qint8\", np.int8, 1)])\n",
      "/usr/local/lib/python3.5/dist-packages/tensorflow/python/framework/dtypes.py:517: FutureWarning: Passing (type, 1) or '1type' as a synonym of type is deprecated; in a future version of numpy, it will be understood as (type, (1,)) / '(1,)type'.\n",
      "  _np_quint8 = np.dtype([(\"quint8\", np.uint8, 1)])\n",
      "/usr/local/lib/python3.5/dist-packages/tensorflow/python/framework/dtypes.py:518: FutureWarning: Passing (type, 1) or '1type' as a synonym of type is deprecated; in a future version of numpy, it will be understood as (type, (1,)) / '(1,)type'.\n",
      "  _np_qint16 = np.dtype([(\"qint16\", np.int16, 1)])\n",
      "/usr/local/lib/python3.5/dist-packages/tensorflow/python/framework/dtypes.py:519: FutureWarning: Passing (type, 1) or '1type' as a synonym of type is deprecated; in a future version of numpy, it will be understood as (type, (1,)) / '(1,)type'.\n",
      "  _np_quint16 = np.dtype([(\"quint16\", np.uint16, 1)])\n",
      "/usr/local/lib/python3.5/dist-packages/tensorflow/python/framework/dtypes.py:520: FutureWarning: Passing (type, 1) or '1type' as a synonym of type is deprecated; in a future version of numpy, it will be understood as (type, (1,)) / '(1,)type'.\n",
      "  _np_qint32 = np.dtype([(\"qint32\", np.int32, 1)])\n",
      "/usr/local/lib/python3.5/dist-packages/tensorflow/python/framework/dtypes.py:525: FutureWarning: Passing (type, 1) or '1type' as a synonym of type is deprecated; in a future version of numpy, it will be understood as (type, (1,)) / '(1,)type'.\n",
      "  np_resource = np.dtype([(\"resource\", np.ubyte, 1)])\n",
      "/usr/local/lib/python3.5/dist-packages/tensorboard/compat/tensorflow_stub/dtypes.py:541: FutureWarning: Passing (type, 1) or '1type' as a synonym of type is deprecated; in a future version of numpy, it will be understood as (type, (1,)) / '(1,)type'.\n",
      "  _np_qint8 = np.dtype([(\"qint8\", np.int8, 1)])\n",
      "/usr/local/lib/python3.5/dist-packages/tensorboard/compat/tensorflow_stub/dtypes.py:542: FutureWarning: Passing (type, 1) or '1type' as a synonym of type is deprecated; in a future version of numpy, it will be understood as (type, (1,)) / '(1,)type'.\n",
      "  _np_quint8 = np.dtype([(\"quint8\", np.uint8, 1)])\n",
      "/usr/local/lib/python3.5/dist-packages/tensorboard/compat/tensorflow_stub/dtypes.py:543: FutureWarning: Passing (type, 1) or '1type' as a synonym of type is deprecated; in a future version of numpy, it will be understood as (type, (1,)) / '(1,)type'.\n",
      "  _np_qint16 = np.dtype([(\"qint16\", np.int16, 1)])\n",
      "/usr/local/lib/python3.5/dist-packages/tensorboard/compat/tensorflow_stub/dtypes.py:544: FutureWarning: Passing (type, 1) or '1type' as a synonym of type is deprecated; in a future version of numpy, it will be understood as (type, (1,)) / '(1,)type'.\n",
      "  _np_quint16 = np.dtype([(\"quint16\", np.uint16, 1)])\n",
      "/usr/local/lib/python3.5/dist-packages/tensorboard/compat/tensorflow_stub/dtypes.py:545: FutureWarning: Passing (type, 1) or '1type' as a synonym of type is deprecated; in a future version of numpy, it will be understood as (type, (1,)) / '(1,)type'.\n",
      "  _np_qint32 = np.dtype([(\"qint32\", np.int32, 1)])\n",
      "/usr/local/lib/python3.5/dist-packages/tensorboard/compat/tensorflow_stub/dtypes.py:550: FutureWarning: Passing (type, 1) or '1type' as a synonym of type is deprecated; in a future version of numpy, it will be understood as (type, (1,)) / '(1,)type'.\n",
      "  np_resource = np.dtype([(\"resource\", np.ubyte, 1)])\n"
     ]
    }
   ],
   "source": [
    "#resnet from https://keras.io/examples/cifar10_resnet/\n",
    "from __future__ import print_function\n",
    "import tensorflow.keras as keras\n",
    "from tensorflow.keras.layers import Dense, Conv2D, BatchNormalization, Activation\n",
    "from tensorflow.keras.layers import AveragePooling2D, Input, Flatten\n",
    "from tensorflow.keras.optimizers import Adam,SGD\n",
    "from tensorflow.keras.callbacks import ModelCheckpoint, LearningRateScheduler\n",
    "from tensorflow.keras.callbacks import ReduceLROnPlateau\n",
    "from tensorflow.keras.preprocessing.image import ImageDataGenerator\n",
    "from tensorflow.keras.regularizers import l2\n",
    "from tensorflow.keras import backend as K\n",
    "from tensorflow.keras.models import Model\n",
    "from tensorflow.keras.datasets import cifar10\n",
    "import numpy as np\n",
    "import os\n",
    "import tensorflow as tf\n",
    "\n",
    "%matplotlib inline\n",
    "import matplotlib.pyplot as plt\n",
    "plt.style.use('seaborn-whitegrid')"
   ]
  },
  {
   "cell_type": "code",
   "execution_count": 2,
   "metadata": {},
   "outputs": [
    {
     "data": {
      "text/plain": [
       "'1.14.0'"
      ]
     },
     "execution_count": 2,
     "metadata": {},
     "output_type": "execute_result"
    }
   ],
   "source": [
    "tf.VERSION"
   ]
  },
  {
   "cell_type": "code",
   "execution_count": 3,
   "metadata": {},
   "outputs": [
    {
     "name": "stdout",
     "output_type": "stream",
     "text": [
      "Downloading data from https://www.cs.toronto.edu/~kriz/cifar-10-python.tar.gz\n",
      "170500096/170498071 [==============================] - 4s 0us/step\n",
      "x_train shape: (50000, 32, 32, 3)\n",
      "50000 train samples\n",
      "10000 test samples\n",
      "y_train shape: (50000, 1)\n"
     ]
    }
   ],
   "source": [
    "# Training parameters\n",
    "batch_size = 128  # orig paper trained all networks with batch_size=128\n",
    "epochs = 200\n",
    "data_augmentation = False\n",
    "num_classes = 10\n",
    "\n",
    "# Subtracting pixel mean improves accuracy\n",
    "subtract_pixel_mean = True\n",
    "\n",
    "# Model parameter\n",
    "# ----------------------------------------------------------------------------\n",
    "#           |      | 200-epoch | Orig Paper| 200-epoch | Orig Paper| sec/epoch\n",
    "# Model     |  n   | ResNet v1 | ResNet v1 | ResNet v2 | ResNet v2 | GTX1080Ti\n",
    "#           |v1(v2)| %Accuracy | %Accuracy | %Accuracy | %Accuracy | v1 (v2)\n",
    "# ----------------------------------------------------------------------------\n",
    "# ResNet20  | 3 (2)| 92.16     | 91.25     | -----     | -----     | 35 (---)\n",
    "# ResNet32  | 5(NA)| 92.46     | 92.49     | NA        | NA        | 50 ( NA)\n",
    "# ResNet44  | 7(NA)| 92.50     | 92.83     | NA        | NA        | 70 ( NA)\n",
    "# ResNet56  | 9 (6)| 92.71     | 93.03     | 93.01     | NA        | 90 (100)\n",
    "# ResNet110 |18(12)| 92.65     | 93.39+-.16| 93.15     | 93.63     | 165(180)\n",
    "# ResNet164 |27(18)| -----     | 94.07     | -----     | 94.54     | ---(---)\n",
    "# ResNet1001| (111)| -----     | 92.39     | -----     | 95.08+-.14| ---(---)\n",
    "# ---------------------------------------------------------------------------\n",
    "n = 3\n",
    "\n",
    "# Model version\n",
    "# Orig paper: version = 1 (ResNet v1), Improved ResNet: version = 2 (ResNet v2)\n",
    "version = 2\n",
    "\n",
    "# Computed depth from supplied model parameter n\n",
    "if version == 1:\n",
    "    depth = n * 6 + 2\n",
    "elif version == 2:\n",
    "    depth = n * 9 + 2\n",
    "\n",
    "# Model name, depth and version\n",
    "model_type = 'ResNet%dv%d' % (depth, version)\n",
    "\n",
    "# Load the CIFAR10 data.\n",
    "(x_train, y_train), (x_test, y_test) = cifar10.load_data()\n",
    "\n",
    "# Input image dimensions.\n",
    "input_shape = x_train.shape[1:]\n",
    "\n",
    "# Normalize data.\n",
    "x_train = x_train.astype('float32') / 255\n",
    "x_test = x_test.astype('float32') / 255\n",
    "\n",
    "# If subtract pixel mean is enabled\n",
    "if subtract_pixel_mean:\n",
    "    x_train_mean = np.mean(x_train, axis=0)\n",
    "    x_train -= x_train_mean\n",
    "    x_test -= x_train_mean\n",
    "\n",
    "print('x_train shape:', x_train.shape)\n",
    "print(x_train.shape[0], 'train samples')\n",
    "print(x_test.shape[0], 'test samples')\n",
    "print('y_train shape:', y_train.shape)\n",
    "\n",
    "# Convert class vectors to binary class matrices.\n",
    "y_train = keras.utils.to_categorical(y_train, num_classes)\n",
    "y_test = keras.utils.to_categorical(y_test, num_classes)"
   ]
  },
  {
   "cell_type": "code",
   "execution_count": 4,
   "metadata": {},
   "outputs": [],
   "source": [
    "\n",
    "\n",
    "\n",
    "def lr_schedule(epoch):\n",
    "    \"\"\"Learning Rate Schedule\n",
    "\n",
    "    Learning rate is scheduled to be reduced after 80, 120, 160, 180 epochs.\n",
    "    Called automatically every epoch as part of callbacks during training.\n",
    "\n",
    "    # Arguments\n",
    "        epoch (int): The number of epochs\n",
    "\n",
    "    # Returns\n",
    "        lr (float32): learning rate\n",
    "    \"\"\"\n",
    "    lr = 5e-3\n",
    "    if epoch > 180:\n",
    "        lr *= 0.5e-1\n",
    "    elif epoch > 160:\n",
    "        lr *= 1e-1\n",
    "    elif epoch > 120:\n",
    "        lr *= 1e-1\n",
    "    elif epoch > 80:\n",
    "        lr *= 1e-1\n",
    "    print('Learning rate: ', lr)\n",
    "    return lr\n",
    "\n",
    "\n",
    "def resnet_layer(inputs,\n",
    "                 num_filters=16,\n",
    "                 kernel_size=3,\n",
    "                 strides=1,\n",
    "                 activation='relu',\n",
    "                 batch_normalization=True,\n",
    "                 conv_first=True):\n",
    "    \"\"\"2D Convolution-Batch Normalization-Activation stack builder\n",
    "\n",
    "    # Arguments\n",
    "        inputs (tensor): input tensor from input image or previous layer\n",
    "        num_filters (int): Conv2D number of filters\n",
    "        kernel_size (int): Conv2D square kernel dimensions\n",
    "        strides (int): Conv2D square stride dimensions\n",
    "        activation (string): activation name\n",
    "        batch_normalization (bool): whether to include batch normalization\n",
    "        conv_first (bool): conv-bn-activation (True) or\n",
    "            bn-activation-conv (False)\n",
    "\n",
    "    # Returns\n",
    "        x (tensor): tensor as input to the next layer\n",
    "    \"\"\"\n",
    "    conv = Conv2D(num_filters,\n",
    "                  kernel_size=kernel_size,\n",
    "                  strides=strides,\n",
    "                  padding='same',\n",
    "                  kernel_initializer='he_normal',\n",
    "                  kernel_regularizer=l2(1e-4))\n",
    "\n",
    "    x = inputs\n",
    "    if conv_first:\n",
    "        x = conv(x)\n",
    "        if batch_normalization:\n",
    "            x = BatchNormalization()(x)\n",
    "        if activation is not None:\n",
    "            x = Activation(activation)(x)\n",
    "    else:\n",
    "        if batch_normalization:\n",
    "            x = BatchNormalization()(x)\n",
    "        if activation is not None:\n",
    "            x = Activation(activation)(x)\n",
    "        x = conv(x)\n",
    "    return x\n",
    "\n",
    "\n",
    "def resnet_v1(input_shape, depth, num_classes=10):\n",
    "    \"\"\"ResNet Version 1 Model builder [a]\n",
    "\n",
    "    Stacks of 2 x (3 x 3) Conv2D-BN-ReLU\n",
    "    Last ReLU is after the shortcut connection.\n",
    "    At the beginning of each stage, the feature map size is halved (downsampled)\n",
    "    by a convolutional layer with strides=2, while the number of filters is\n",
    "    doubled. Within each stage, the layers have the same number filters and the\n",
    "    same number of filters.\n",
    "    Features maps sizes:\n",
    "    stage 0: 32x32, 16\n",
    "    stage 1: 16x16, 32\n",
    "    stage 2:  8x8,  64\n",
    "    The Number of parameters is approx the same as Table 6 of [a]:\n",
    "    ResNet20 0.27M\n",
    "    ResNet32 0.46M\n",
    "    ResNet44 0.66M\n",
    "    ResNet56 0.85M\n",
    "    ResNet110 1.7M\n",
    "\n",
    "    # Arguments\n",
    "        input_shape (tensor): shape of input image tensor\n",
    "        depth (int): number of core convolutional layers\n",
    "        num_classes (int): number of classes (CIFAR10 has 10)\n",
    "\n",
    "    # Returns\n",
    "        model (Model): Keras model instance\n",
    "    \"\"\"\n",
    "    if (depth - 2) % 6 != 0:\n",
    "        raise ValueError('depth should be 6n+2 (eg 20, 32, 44 in [a])')\n",
    "    # Start model definition.\n",
    "    num_filters = 16\n",
    "    num_res_blocks = int((depth - 2) / 6)\n",
    "\n",
    "    inputs = Input(shape=input_shape)\n",
    "    x = resnet_layer(inputs=inputs)\n",
    "    # Instantiate the stack of residual units\n",
    "    for stack in range(3):\n",
    "        for res_block in range(num_res_blocks):\n",
    "            strides = 1\n",
    "            if stack > 0 and res_block == 0:  # first layer but not first stack\n",
    "                strides = 2  # downsample\n",
    "            y = resnet_layer(inputs=x,\n",
    "                             num_filters=num_filters,\n",
    "                             strides=strides)\n",
    "            y = resnet_layer(inputs=y,\n",
    "                             num_filters=num_filters,\n",
    "                             activation=None)\n",
    "            if stack > 0 and res_block == 0:  # first layer but not first stack\n",
    "                # linear projection residual shortcut connection to match\n",
    "                # changed dims\n",
    "                x = resnet_layer(inputs=x,\n",
    "                                 num_filters=num_filters,\n",
    "                                 kernel_size=1,\n",
    "                                 strides=strides,\n",
    "                                 activation=None,\n",
    "                                 batch_normalization=False)\n",
    "            x = keras.layers.add([x, y])\n",
    "            x = Activation('relu')(x)\n",
    "        num_filters *= 2\n",
    "\n",
    "    # Add classifier on top.\n",
    "    # v1 does not use BN after last shortcut connection-ReLU\n",
    "    x = AveragePooling2D(pool_size=8)(x)\n",
    "    y = Flatten()(x)\n",
    "    outputs = Dense(num_classes,\n",
    "                    activation='softmax',\n",
    "                    kernel_initializer='he_normal')(y)\n",
    "\n",
    "    # Instantiate model.\n",
    "    model = Model(inputs=inputs, outputs=outputs)\n",
    "    return model\n",
    "\n",
    "\n",
    "def resnet_v2(input_shape, depth, num_classes=10):\n",
    "    \"\"\"ResNet Version 2 Model builder [b]\n",
    "\n",
    "    Stacks of (1 x 1)-(3 x 3)-(1 x 1) BN-ReLU-Conv2D or also known as\n",
    "    bottleneck layer\n",
    "    First shortcut connection per layer is 1 x 1 Conv2D.\n",
    "    Second and onwards shortcut connection is identity.\n",
    "    At the beginning of each stage, the feature map size is halved (downsampled)\n",
    "    by a convolutional layer with strides=2, while the number of filter maps is\n",
    "    doubled. Within each stage, the layers have the same number filters and the\n",
    "    same filter map sizes.\n",
    "    Features maps sizes:\n",
    "    conv1  : 32x32,  16\n",
    "    stage 0: 32x32,  64\n",
    "    stage 1: 16x16, 128\n",
    "    stage 2:  8x8,  256\n",
    "\n",
    "    # Arguments\n",
    "        input_shape (tensor): shape of input image tensor\n",
    "        depth (int): number of core convolutional layers\n",
    "        num_classes (int): number of classes (CIFAR10 has 10)\n",
    "\n",
    "    # Returns\n",
    "        model (Model): Keras model instance\n",
    "    \"\"\"\n",
    "    if (depth - 2) % 9 != 0:\n",
    "        raise ValueError('depth should be 9n+2 (eg 56 or 110 in [b])')\n",
    "    # Start model definition.\n",
    "    num_filters_in = 16\n",
    "    num_res_blocks = int((depth - 2) / 9)\n",
    "\n",
    "    inputs = Input(shape=input_shape)\n",
    "    # v2 performs Conv2D with BN-ReLU on input before splitting into 2 paths\n",
    "    x = resnet_layer(inputs=inputs,\n",
    "                     num_filters=num_filters_in,\n",
    "                     conv_first=True)\n",
    "\n",
    "    # Instantiate the stack of residual units\n",
    "    for stage in range(3):\n",
    "        for res_block in range(num_res_blocks):\n",
    "            activation = 'relu'\n",
    "            batch_normalization = True\n",
    "            strides = 1\n",
    "            if stage == 0:\n",
    "                num_filters_out = num_filters_in * 4\n",
    "                if res_block == 0:  # first layer and first stage\n",
    "                    activation = None\n",
    "                    batch_normalization = False\n",
    "            else:\n",
    "                num_filters_out = num_filters_in * 2\n",
    "                if res_block == 0:  # first layer but not first stage\n",
    "                    strides = 2    # downsample\n",
    "\n",
    "            # bottleneck residual unit\n",
    "            y = resnet_layer(inputs=x,\n",
    "                             num_filters=num_filters_in,\n",
    "                             kernel_size=1,\n",
    "                             strides=strides,\n",
    "                             activation=activation,\n",
    "                             batch_normalization=batch_normalization,\n",
    "                             conv_first=False)\n",
    "            y = resnet_layer(inputs=y,\n",
    "                             num_filters=num_filters_in,\n",
    "                             conv_first=False)\n",
    "            y = resnet_layer(inputs=y,\n",
    "                             num_filters=num_filters_out,\n",
    "                             kernel_size=1,\n",
    "                             conv_first=False)\n",
    "            if res_block == 0:\n",
    "                # linear projection residual shortcut connection to match\n",
    "                # changed dims\n",
    "                x = resnet_layer(inputs=x,\n",
    "                                 num_filters=num_filters_out,\n",
    "                                 kernel_size=1,\n",
    "                                 strides=strides,\n",
    "                                 activation=None,\n",
    "                                 batch_normalization=False)\n",
    "            x = keras.layers.add([x, y])\n",
    "\n",
    "        num_filters_in = num_filters_out\n",
    "\n",
    "    # Add classifier on top.\n",
    "    # v2 has BN-ReLU before Pooling\n",
    "    x = BatchNormalization()(x)\n",
    "    x = Activation('relu')(x)\n",
    "    x = AveragePooling2D(pool_size=8)(x)\n",
    "    y = Flatten()(x)\n",
    "    outputs = Dense(num_classes,\n",
    "                    activation='softmax',\n",
    "                    kernel_initializer='he_normal')(y)\n",
    "\n",
    "    # Instantiate model.\n",
    "    model = Model(inputs=inputs, outputs=outputs)\n",
    "    return model\n",
    "\n",
    "\n"
   ]
  },
  {
   "cell_type": "code",
   "execution_count": 5,
   "metadata": {},
   "outputs": [
    {
     "name": "stdout",
     "output_type": "stream",
     "text": [
      "Model: \"model\"\n",
      "__________________________________________________________________________________________________\n",
      "Layer (type)                    Output Shape         Param #     Connected to                     \n",
      "==================================================================================================\n",
      "input_1 (InputLayer)            [(None, 32, 32, 3)]  0                                            \n",
      "__________________________________________________________________________________________________\n",
      "conv2d (Conv2D)                 (None, 32, 32, 16)   448         input_1[0][0]                    \n",
      "__________________________________________________________________________________________________\n",
      "batch_normalization (BatchNorma (None, 32, 32, 16)   64          conv2d[0][0]                     \n",
      "__________________________________________________________________________________________________\n",
      "activation (Activation)         (None, 32, 32, 16)   0           batch_normalization[0][0]        \n",
      "__________________________________________________________________________________________________\n",
      "conv2d_1 (Conv2D)               (None, 32, 32, 16)   272         activation[0][0]                 \n",
      "__________________________________________________________________________________________________\n",
      "batch_normalization_1 (BatchNor (None, 32, 32, 16)   64          conv2d_1[0][0]                   \n",
      "__________________________________________________________________________________________________\n",
      "activation_1 (Activation)       (None, 32, 32, 16)   0           batch_normalization_1[0][0]      \n",
      "__________________________________________________________________________________________________\n",
      "conv2d_2 (Conv2D)               (None, 32, 32, 16)   2320        activation_1[0][0]               \n",
      "__________________________________________________________________________________________________\n",
      "batch_normalization_2 (BatchNor (None, 32, 32, 16)   64          conv2d_2[0][0]                   \n",
      "__________________________________________________________________________________________________\n",
      "activation_2 (Activation)       (None, 32, 32, 16)   0           batch_normalization_2[0][0]      \n",
      "__________________________________________________________________________________________________\n",
      "conv2d_4 (Conv2D)               (None, 32, 32, 64)   1088        activation[0][0]                 \n",
      "__________________________________________________________________________________________________\n",
      "conv2d_3 (Conv2D)               (None, 32, 32, 64)   1088        activation_2[0][0]               \n",
      "__________________________________________________________________________________________________\n",
      "add (Add)                       (None, 32, 32, 64)   0           conv2d_4[0][0]                   \n",
      "                                                                 conv2d_3[0][0]                   \n",
      "__________________________________________________________________________________________________\n",
      "batch_normalization_3 (BatchNor (None, 32, 32, 64)   256         add[0][0]                        \n",
      "__________________________________________________________________________________________________\n",
      "activation_3 (Activation)       (None, 32, 32, 64)   0           batch_normalization_3[0][0]      \n",
      "__________________________________________________________________________________________________\n",
      "conv2d_5 (Conv2D)               (None, 32, 32, 16)   1040        activation_3[0][0]               \n",
      "__________________________________________________________________________________________________\n",
      "batch_normalization_4 (BatchNor (None, 32, 32, 16)   64          conv2d_5[0][0]                   \n",
      "__________________________________________________________________________________________________\n",
      "activation_4 (Activation)       (None, 32, 32, 16)   0           batch_normalization_4[0][0]      \n",
      "__________________________________________________________________________________________________\n",
      "conv2d_6 (Conv2D)               (None, 32, 32, 16)   2320        activation_4[0][0]               \n",
      "__________________________________________________________________________________________________\n",
      "batch_normalization_5 (BatchNor (None, 32, 32, 16)   64          conv2d_6[0][0]                   \n",
      "__________________________________________________________________________________________________\n",
      "activation_5 (Activation)       (None, 32, 32, 16)   0           batch_normalization_5[0][0]      \n",
      "__________________________________________________________________________________________________\n",
      "conv2d_7 (Conv2D)               (None, 32, 32, 64)   1088        activation_5[0][0]               \n",
      "__________________________________________________________________________________________________\n",
      "add_1 (Add)                     (None, 32, 32, 64)   0           add[0][0]                        \n",
      "                                                                 conv2d_7[0][0]                   \n",
      "__________________________________________________________________________________________________\n",
      "batch_normalization_6 (BatchNor (None, 32, 32, 64)   256         add_1[0][0]                      \n",
      "__________________________________________________________________________________________________\n",
      "activation_6 (Activation)       (None, 32, 32, 64)   0           batch_normalization_6[0][0]      \n",
      "__________________________________________________________________________________________________\n",
      "conv2d_8 (Conv2D)               (None, 32, 32, 16)   1040        activation_6[0][0]               \n",
      "__________________________________________________________________________________________________\n",
      "batch_normalization_7 (BatchNor (None, 32, 32, 16)   64          conv2d_8[0][0]                   \n",
      "__________________________________________________________________________________________________\n",
      "activation_7 (Activation)       (None, 32, 32, 16)   0           batch_normalization_7[0][0]      \n",
      "__________________________________________________________________________________________________\n",
      "conv2d_9 (Conv2D)               (None, 32, 32, 16)   2320        activation_7[0][0]               \n",
      "__________________________________________________________________________________________________\n",
      "batch_normalization_8 (BatchNor (None, 32, 32, 16)   64          conv2d_9[0][0]                   \n",
      "__________________________________________________________________________________________________\n",
      "activation_8 (Activation)       (None, 32, 32, 16)   0           batch_normalization_8[0][0]      \n",
      "__________________________________________________________________________________________________\n",
      "conv2d_10 (Conv2D)              (None, 32, 32, 64)   1088        activation_8[0][0]               \n",
      "__________________________________________________________________________________________________\n",
      "add_2 (Add)                     (None, 32, 32, 64)   0           add_1[0][0]                      \n",
      "                                                                 conv2d_10[0][0]                  \n",
      "__________________________________________________________________________________________________\n",
      "batch_normalization_9 (BatchNor (None, 32, 32, 64)   256         add_2[0][0]                      \n",
      "__________________________________________________________________________________________________\n",
      "activation_9 (Activation)       (None, 32, 32, 64)   0           batch_normalization_9[0][0]      \n",
      "__________________________________________________________________________________________________\n",
      "conv2d_11 (Conv2D)              (None, 16, 16, 64)   4160        activation_9[0][0]               \n",
      "__________________________________________________________________________________________________\n",
      "batch_normalization_10 (BatchNo (None, 16, 16, 64)   256         conv2d_11[0][0]                  \n",
      "__________________________________________________________________________________________________\n",
      "activation_10 (Activation)      (None, 16, 16, 64)   0           batch_normalization_10[0][0]     \n",
      "__________________________________________________________________________________________________\n",
      "conv2d_12 (Conv2D)              (None, 16, 16, 64)   36928       activation_10[0][0]              \n",
      "__________________________________________________________________________________________________\n",
      "batch_normalization_11 (BatchNo (None, 16, 16, 64)   256         conv2d_12[0][0]                  \n",
      "__________________________________________________________________________________________________\n",
      "activation_11 (Activation)      (None, 16, 16, 64)   0           batch_normalization_11[0][0]     \n",
      "__________________________________________________________________________________________________\n",
      "conv2d_14 (Conv2D)              (None, 16, 16, 128)  8320        add_2[0][0]                      \n",
      "__________________________________________________________________________________________________\n",
      "conv2d_13 (Conv2D)              (None, 16, 16, 128)  8320        activation_11[0][0]              \n",
      "__________________________________________________________________________________________________\n",
      "add_3 (Add)                     (None, 16, 16, 128)  0           conv2d_14[0][0]                  \n",
      "                                                                 conv2d_13[0][0]                  \n",
      "__________________________________________________________________________________________________\n",
      "batch_normalization_12 (BatchNo (None, 16, 16, 128)  512         add_3[0][0]                      \n",
      "__________________________________________________________________________________________________\n",
      "activation_12 (Activation)      (None, 16, 16, 128)  0           batch_normalization_12[0][0]     \n",
      "__________________________________________________________________________________________________\n",
      "conv2d_15 (Conv2D)              (None, 16, 16, 64)   8256        activation_12[0][0]              \n",
      "__________________________________________________________________________________________________\n",
      "batch_normalization_13 (BatchNo (None, 16, 16, 64)   256         conv2d_15[0][0]                  \n",
      "__________________________________________________________________________________________________\n",
      "activation_13 (Activation)      (None, 16, 16, 64)   0           batch_normalization_13[0][0]     \n",
      "__________________________________________________________________________________________________\n",
      "conv2d_16 (Conv2D)              (None, 16, 16, 64)   36928       activation_13[0][0]              \n",
      "__________________________________________________________________________________________________\n",
      "batch_normalization_14 (BatchNo (None, 16, 16, 64)   256         conv2d_16[0][0]                  \n",
      "__________________________________________________________________________________________________\n",
      "activation_14 (Activation)      (None, 16, 16, 64)   0           batch_normalization_14[0][0]     \n",
      "__________________________________________________________________________________________________\n",
      "conv2d_17 (Conv2D)              (None, 16, 16, 128)  8320        activation_14[0][0]              \n",
      "__________________________________________________________________________________________________\n",
      "add_4 (Add)                     (None, 16, 16, 128)  0           add_3[0][0]                      \n",
      "                                                                 conv2d_17[0][0]                  \n",
      "__________________________________________________________________________________________________\n",
      "batch_normalization_15 (BatchNo (None, 16, 16, 128)  512         add_4[0][0]                      \n",
      "__________________________________________________________________________________________________\n",
      "activation_15 (Activation)      (None, 16, 16, 128)  0           batch_normalization_15[0][0]     \n",
      "__________________________________________________________________________________________________\n",
      "conv2d_18 (Conv2D)              (None, 16, 16, 64)   8256        activation_15[0][0]              \n",
      "__________________________________________________________________________________________________\n",
      "batch_normalization_16 (BatchNo (None, 16, 16, 64)   256         conv2d_18[0][0]                  \n",
      "__________________________________________________________________________________________________\n",
      "activation_16 (Activation)      (None, 16, 16, 64)   0           batch_normalization_16[0][0]     \n",
      "__________________________________________________________________________________________________\n",
      "conv2d_19 (Conv2D)              (None, 16, 16, 64)   36928       activation_16[0][0]              \n",
      "__________________________________________________________________________________________________\n",
      "batch_normalization_17 (BatchNo (None, 16, 16, 64)   256         conv2d_19[0][0]                  \n",
      "__________________________________________________________________________________________________\n",
      "activation_17 (Activation)      (None, 16, 16, 64)   0           batch_normalization_17[0][0]     \n",
      "__________________________________________________________________________________________________\n",
      "conv2d_20 (Conv2D)              (None, 16, 16, 128)  8320        activation_17[0][0]              \n",
      "__________________________________________________________________________________________________\n",
      "add_5 (Add)                     (None, 16, 16, 128)  0           add_4[0][0]                      \n",
      "                                                                 conv2d_20[0][0]                  \n",
      "__________________________________________________________________________________________________\n",
      "batch_normalization_18 (BatchNo (None, 16, 16, 128)  512         add_5[0][0]                      \n",
      "__________________________________________________________________________________________________\n",
      "activation_18 (Activation)      (None, 16, 16, 128)  0           batch_normalization_18[0][0]     \n",
      "__________________________________________________________________________________________________\n",
      "conv2d_21 (Conv2D)              (None, 8, 8, 128)    16512       activation_18[0][0]              \n",
      "__________________________________________________________________________________________________\n",
      "batch_normalization_19 (BatchNo (None, 8, 8, 128)    512         conv2d_21[0][0]                  \n",
      "__________________________________________________________________________________________________\n",
      "activation_19 (Activation)      (None, 8, 8, 128)    0           batch_normalization_19[0][0]     \n",
      "__________________________________________________________________________________________________\n",
      "conv2d_22 (Conv2D)              (None, 8, 8, 128)    147584      activation_19[0][0]              \n",
      "__________________________________________________________________________________________________\n",
      "batch_normalization_20 (BatchNo (None, 8, 8, 128)    512         conv2d_22[0][0]                  \n",
      "__________________________________________________________________________________________________\n",
      "activation_20 (Activation)      (None, 8, 8, 128)    0           batch_normalization_20[0][0]     \n",
      "__________________________________________________________________________________________________\n",
      "conv2d_24 (Conv2D)              (None, 8, 8, 256)    33024       add_5[0][0]                      \n",
      "__________________________________________________________________________________________________\n",
      "conv2d_23 (Conv2D)              (None, 8, 8, 256)    33024       activation_20[0][0]              \n",
      "__________________________________________________________________________________________________\n",
      "add_6 (Add)                     (None, 8, 8, 256)    0           conv2d_24[0][0]                  \n",
      "                                                                 conv2d_23[0][0]                  \n",
      "__________________________________________________________________________________________________\n",
      "batch_normalization_21 (BatchNo (None, 8, 8, 256)    1024        add_6[0][0]                      \n",
      "__________________________________________________________________________________________________\n",
      "activation_21 (Activation)      (None, 8, 8, 256)    0           batch_normalization_21[0][0]     \n",
      "__________________________________________________________________________________________________\n",
      "conv2d_25 (Conv2D)              (None, 8, 8, 128)    32896       activation_21[0][0]              \n",
      "__________________________________________________________________________________________________\n",
      "batch_normalization_22 (BatchNo (None, 8, 8, 128)    512         conv2d_25[0][0]                  \n",
      "__________________________________________________________________________________________________\n",
      "activation_22 (Activation)      (None, 8, 8, 128)    0           batch_normalization_22[0][0]     \n",
      "__________________________________________________________________________________________________\n",
      "conv2d_26 (Conv2D)              (None, 8, 8, 128)    147584      activation_22[0][0]              \n",
      "__________________________________________________________________________________________________\n",
      "batch_normalization_23 (BatchNo (None, 8, 8, 128)    512         conv2d_26[0][0]                  \n",
      "__________________________________________________________________________________________________\n",
      "activation_23 (Activation)      (None, 8, 8, 128)    0           batch_normalization_23[0][0]     \n",
      "__________________________________________________________________________________________________\n",
      "conv2d_27 (Conv2D)              (None, 8, 8, 256)    33024       activation_23[0][0]              \n",
      "__________________________________________________________________________________________________\n",
      "add_7 (Add)                     (None, 8, 8, 256)    0           add_6[0][0]                      \n",
      "                                                                 conv2d_27[0][0]                  \n",
      "__________________________________________________________________________________________________\n",
      "batch_normalization_24 (BatchNo (None, 8, 8, 256)    1024        add_7[0][0]                      \n",
      "__________________________________________________________________________________________________\n",
      "activation_24 (Activation)      (None, 8, 8, 256)    0           batch_normalization_24[0][0]     \n",
      "__________________________________________________________________________________________________\n",
      "conv2d_28 (Conv2D)              (None, 8, 8, 128)    32896       activation_24[0][0]              \n",
      "__________________________________________________________________________________________________\n",
      "batch_normalization_25 (BatchNo (None, 8, 8, 128)    512         conv2d_28[0][0]                  \n",
      "__________________________________________________________________________________________________\n",
      "activation_25 (Activation)      (None, 8, 8, 128)    0           batch_normalization_25[0][0]     \n",
      "__________________________________________________________________________________________________\n",
      "conv2d_29 (Conv2D)              (None, 8, 8, 128)    147584      activation_25[0][0]              \n",
      "__________________________________________________________________________________________________\n",
      "batch_normalization_26 (BatchNo (None, 8, 8, 128)    512         conv2d_29[0][0]                  \n",
      "__________________________________________________________________________________________________\n",
      "activation_26 (Activation)      (None, 8, 8, 128)    0           batch_normalization_26[0][0]     \n",
      "__________________________________________________________________________________________________\n",
      "conv2d_30 (Conv2D)              (None, 8, 8, 256)    33024       activation_26[0][0]              \n",
      "__________________________________________________________________________________________________\n",
      "add_8 (Add)                     (None, 8, 8, 256)    0           add_7[0][0]                      \n",
      "                                                                 conv2d_30[0][0]                  \n",
      "__________________________________________________________________________________________________\n",
      "batch_normalization_27 (BatchNo (None, 8, 8, 256)    1024        add_8[0][0]                      \n",
      "__________________________________________________________________________________________________\n",
      "activation_27 (Activation)      (None, 8, 8, 256)    0           batch_normalization_27[0][0]     \n",
      "__________________________________________________________________________________________________\n",
      "average_pooling2d (AveragePooli (None, 1, 1, 256)    0           activation_27[0][0]              \n",
      "__________________________________________________________________________________________________\n",
      "flatten (Flatten)               (None, 256)          0           average_pooling2d[0][0]          \n",
      "__________________________________________________________________________________________________\n",
      "dense (Dense)                   (None, 10)           2570        flatten[0][0]                    \n",
      "==================================================================================================\n",
      "Total params: 849,002\n",
      "Trainable params: 843,786\n",
      "Non-trainable params: 5,216\n",
      "__________________________________________________________________________________________________\n",
      "ResNet29v2\n"
     ]
    }
   ],
   "source": [
    "if version == 2:\n",
    "    model = resnet_v2(input_shape=input_shape, depth=depth)\n",
    "else:\n",
    "    model = resnet_v1(input_shape=input_shape, depth=depth)\n",
    "\n",
    "model.compile(loss='categorical_crossentropy',\n",
    "              optimizer=SGD(momentum=.9,lr=1e-3),\n",
    "              metrics=['categorical_crossentropy','accuracy'])\n",
    "model.summary()\n",
    "print(model_type)\n",
    "\n",
    "# Prepare model model saving directory.\n",
    "#save_dir = os.path.join(os.getcwd(), 'saved_models')\n",
    "#model_name = 'cifar10_%s_model.{epoch:03d}.h5' % model_type\n",
    "#if not os.path.isdir(save_dir):\n",
    "#    os.makedirs(save_dir)\n",
    "#filepath = os.path.join(save_dir, model_name)\n",
    "\n",
    "# Prepare callbacks for model saving and for learning rate adjustment.\n",
    "#checkpoint = ModelCheckpoint(filepath=filepath,\n",
    "#                             monitor='val_acc',\n",
    "#                             verbose=1,\n",
    "#                             save_best_only=True)\n",
    "\n",
    "#lr_scheduler = LearningRateScheduler(lr_schedule)\n",
    "\n",
    "#lr_reducer = ReduceLROnPlateau(factor=np.sqrt(0.1),\n",
    "#                               cooldown=0,\n",
    "#                               patience=5,\n",
    "#                               min_lr=0.5e-6)"
   ]
  },
  {
   "cell_type": "code",
   "execution_count": 6,
   "metadata": {},
   "outputs": [
    {
     "name": "stdout",
     "output_type": "stream",
     "text": [
      "Train on 50000 samples, validate on 10000 samples\n",
      "Epoch 1/250\n",
      "50000/50000 [==============================] - 26s 526us/sample - loss: 2.7075 - categorical_crossentropy: 2.0967 - acc: 0.2322 - val_loss: 2.5951 - val_categorical_crossentropy: 1.9848 - val_acc: 0.2685\n",
      "Epoch 2/250\n",
      "50000/50000 [==============================] - 20s 402us/sample - loss: 2.5194 - categorical_crossentropy: 1.9096 - acc: 0.3088 - val_loss: 2.4636 - val_categorical_crossentropy: 1.8543 - val_acc: 0.3186\n",
      "Epoch 3/250\n",
      "50000/50000 [==============================] - 20s 399us/sample - loss: 2.4285 - categorical_crossentropy: 1.8197 - acc: 0.3397 - val_loss: 2.3856 - val_categorical_crossentropy: 1.7773 - val_acc: 0.3549\n",
      "Epoch 4/250\n",
      "50000/50000 [==============================] - 20s 398us/sample - loss: 2.3601 - categorical_crossentropy: 1.7522 - acc: 0.3645 - val_loss: 2.3247 - val_categorical_crossentropy: 1.7174 - val_acc: 0.3712\n",
      "Epoch 5/250\n",
      "50000/50000 [==============================] - 20s 399us/sample - loss: 2.3031 - categorical_crossentropy: 1.6962 - acc: 0.3832 - val_loss: 2.2716 - val_categorical_crossentropy: 1.6652 - val_acc: 0.3898\n",
      "Epoch 6/250\n",
      "50000/50000 [==============================] - 20s 397us/sample - loss: 2.2529 - categorical_crossentropy: 1.6470 - acc: 0.4009 - val_loss: 2.2255 - val_categorical_crossentropy: 1.6201 - val_acc: 0.4047\n",
      "Epoch 7/250\n",
      "50000/50000 [==============================] - 20s 399us/sample - loss: 2.2124 - categorical_crossentropy: 1.6075 - acc: 0.4141 - val_loss: 2.1910 - val_categorical_crossentropy: 1.5866 - val_acc: 0.4170\n",
      "Epoch 8/250\n",
      "50000/50000 [==============================] - 20s 398us/sample - loss: 2.1776 - categorical_crossentropy: 1.5737 - acc: 0.4277 - val_loss: 2.1566 - val_categorical_crossentropy: 1.5532 - val_acc: 0.4303\n",
      "Epoch 9/250\n",
      "50000/50000 [==============================] - 20s 398us/sample - loss: 2.1455 - categorical_crossentropy: 1.5426 - acc: 0.4402 - val_loss: 2.1298 - val_categorical_crossentropy: 1.5274 - val_acc: 0.4403\n",
      "Epoch 10/250\n",
      "50000/50000 [==============================] - 20s 399us/sample - loss: 2.1156 - categorical_crossentropy: 1.5137 - acc: 0.4512 - val_loss: 2.1011 - val_categorical_crossentropy: 1.4996 - val_acc: 0.4528\n",
      "Epoch 11/250\n",
      "50000/50000 [==============================] - 20s 400us/sample - loss: 2.0880 - categorical_crossentropy: 1.4870 - acc: 0.4618 - val_loss: 2.0725 - val_categorical_crossentropy: 1.4720 - val_acc: 0.4632\n",
      "Epoch 12/250\n",
      "50000/50000 [==============================] - 20s 399us/sample - loss: 2.0600 - categorical_crossentropy: 1.4600 - acc: 0.4732 - val_loss: 2.0486 - val_categorical_crossentropy: 1.4491 - val_acc: 0.4694\n",
      "Epoch 13/250\n",
      "50000/50000 [==============================] - 20s 398us/sample - loss: 2.0328 - categorical_crossentropy: 1.4338 - acc: 0.4832 - val_loss: 2.0248 - val_categorical_crossentropy: 1.4262 - val_acc: 0.4814\n",
      "Epoch 14/250\n",
      "50000/50000 [==============================] - 20s 397us/sample - loss: 2.0072 - categorical_crossentropy: 1.4091 - acc: 0.4928 - val_loss: 2.0005 - val_categorical_crossentropy: 1.4029 - val_acc: 0.4900\n",
      "Epoch 15/250\n",
      "50000/50000 [==============================] - 20s 398us/sample - loss: 1.9821 - categorical_crossentropy: 1.3850 - acc: 0.5006 - val_loss: 1.9770 - val_categorical_crossentropy: 1.3804 - val_acc: 0.5003\n",
      "Epoch 16/250\n",
      "50000/50000 [==============================] - 20s 399us/sample - loss: 1.9570 - categorical_crossentropy: 1.3609 - acc: 0.5096 - val_loss: 1.9558 - val_categorical_crossentropy: 1.3602 - val_acc: 0.5069\n",
      "Epoch 17/250\n",
      "50000/50000 [==============================] - 20s 399us/sample - loss: 1.9351 - categorical_crossentropy: 1.3399 - acc: 0.5168 - val_loss: 1.9357 - val_categorical_crossentropy: 1.3411 - val_acc: 0.5151\n",
      "Epoch 18/250\n",
      "50000/50000 [==============================] - 20s 400us/sample - loss: 1.9122 - categorical_crossentropy: 1.3180 - acc: 0.5257 - val_loss: 1.9241 - val_categorical_crossentropy: 1.3305 - val_acc: 0.5178\n",
      "Epoch 19/250\n",
      "50000/50000 [==============================] - 20s 399us/sample - loss: 1.8917 - categorical_crossentropy: 1.2986 - acc: 0.5326 - val_loss: 1.9094 - val_categorical_crossentropy: 1.3168 - val_acc: 0.5240\n",
      "Epoch 20/250\n",
      "50000/50000 [==============================] - 20s 398us/sample - loss: 1.8704 - categorical_crossentropy: 1.2782 - acc: 0.5399 - val_loss: 1.8739 - val_categorical_crossentropy: 1.2822 - val_acc: 0.5359\n",
      "Epoch 21/250\n",
      "50000/50000 [==============================] - 20s 398us/sample - loss: 1.8531 - categorical_crossentropy: 1.2619 - acc: 0.5467 - val_loss: 1.8565 - val_categorical_crossentropy: 1.2658 - val_acc: 0.5424\n",
      "Epoch 22/250\n",
      "50000/50000 [==============================] - 20s 398us/sample - loss: 1.8330 - categorical_crossentropy: 1.2427 - acc: 0.5536 - val_loss: 1.8421 - val_categorical_crossentropy: 1.2524 - val_acc: 0.5459\n",
      "Epoch 23/250\n",
      "50000/50000 [==============================] - 20s 398us/sample - loss: 1.8132 - categorical_crossentropy: 1.2239 - acc: 0.5614 - val_loss: 1.8550 - val_categorical_crossentropy: 1.2662 - val_acc: 0.5426\n",
      "Epoch 24/250\n",
      "50000/50000 [==============================] - 20s 398us/sample - loss: 1.7969 - categorical_crossentropy: 1.2086 - acc: 0.5659 - val_loss: 1.8171 - val_categorical_crossentropy: 1.2293 - val_acc: 0.5585\n",
      "Epoch 25/250\n",
      "50000/50000 [==============================] - 20s 397us/sample - loss: 1.7763 - categorical_crossentropy: 1.1889 - acc: 0.5746 - val_loss: 1.8193 - val_categorical_crossentropy: 1.2324 - val_acc: 0.5568\n",
      "Epoch 26/250\n",
      "50000/50000 [==============================] - 20s 397us/sample - loss: 1.7602 - categorical_crossentropy: 1.1738 - acc: 0.5798 - val_loss: 1.7852 - val_categorical_crossentropy: 1.1993 - val_acc: 0.5617\n",
      "Epoch 27/250\n",
      "50000/50000 [==============================] - 20s 398us/sample - loss: 1.7394 - categorical_crossentropy: 1.1539 - acc: 0.5847 - val_loss: 1.7860 - val_categorical_crossentropy: 1.2010 - val_acc: 0.5642\n",
      "Epoch 28/250\n",
      "50000/50000 [==============================] - 20s 397us/sample - loss: 1.7226 - categorical_crossentropy: 1.1381 - acc: 0.5923 - val_loss: 1.7765 - val_categorical_crossentropy: 1.1925 - val_acc: 0.5682\n",
      "Epoch 29/250\n",
      "50000/50000 [==============================] - 20s 397us/sample - loss: 1.7071 - categorical_crossentropy: 1.1236 - acc: 0.5990 - val_loss: 1.7541 - val_categorical_crossentropy: 1.1711 - val_acc: 0.5724\n",
      "Epoch 30/250\n",
      "50000/50000 [==============================] - 20s 398us/sample - loss: 1.6908 - categorical_crossentropy: 1.1082 - acc: 0.6019 - val_loss: 1.7368 - val_categorical_crossentropy: 1.1547 - val_acc: 0.5844\n",
      "Epoch 31/250\n",
      "50000/50000 [==============================] - 20s 397us/sample - loss: 1.6754 - categorical_crossentropy: 1.0938 - acc: 0.6078 - val_loss: 1.7206 - val_categorical_crossentropy: 1.1395 - val_acc: 0.5889\n",
      "Epoch 32/250\n",
      "50000/50000 [==============================] - 20s 397us/sample - loss: 1.6608 - categorical_crossentropy: 1.0802 - acc: 0.6138 - val_loss: 1.7126 - val_categorical_crossentropy: 1.1324 - val_acc: 0.5921\n",
      "Epoch 33/250\n",
      "50000/50000 [==============================] - 20s 402us/sample - loss: 1.6419 - categorical_crossentropy: 1.0622 - acc: 0.6199 - val_loss: 1.7019 - val_categorical_crossentropy: 1.1227 - val_acc: 0.5961\n",
      "Epoch 34/250\n",
      "50000/50000 [==============================] - 20s 398us/sample - loss: 1.6273 - categorical_crossentropy: 1.0486 - acc: 0.6252 - val_loss: 1.6849 - val_categorical_crossentropy: 1.1066 - val_acc: 0.6012\n",
      "Epoch 35/250\n",
      "50000/50000 [==============================] - 20s 397us/sample - loss: 1.6133 - categorical_crossentropy: 1.0355 - acc: 0.6312 - val_loss: 1.6756 - val_categorical_crossentropy: 1.0982 - val_acc: 0.6034\n",
      "Epoch 36/250\n",
      "50000/50000 [==============================] - 20s 398us/sample - loss: 1.6000 - categorical_crossentropy: 1.0232 - acc: 0.6335 - val_loss: 1.6748 - val_categorical_crossentropy: 1.0985 - val_acc: 0.6031\n",
      "Epoch 37/250\n",
      "50000/50000 [==============================] - 20s 399us/sample - loss: 1.5821 - categorical_crossentropy: 1.0062 - acc: 0.6416 - val_loss: 1.6590 - val_categorical_crossentropy: 1.0836 - val_acc: 0.6100\n",
      "Epoch 38/250\n",
      "50000/50000 [==============================] - 20s 398us/sample - loss: 1.5689 - categorical_crossentropy: 0.9940 - acc: 0.6452 - val_loss: 1.6559 - val_categorical_crossentropy: 1.0814 - val_acc: 0.6115\n",
      "Epoch 39/250\n",
      "50000/50000 [==============================] - 20s 399us/sample - loss: 1.5538 - categorical_crossentropy: 0.9797 - acc: 0.6515 - val_loss: 1.6584 - val_categorical_crossentropy: 1.0849 - val_acc: 0.6117\n",
      "Epoch 40/250\n",
      "50000/50000 [==============================] - 20s 399us/sample - loss: 1.5386 - categorical_crossentropy: 0.9655 - acc: 0.6547 - val_loss: 1.6363 - val_categorical_crossentropy: 1.0637 - val_acc: 0.6178\n",
      "Epoch 41/250\n",
      "50000/50000 [==============================] - 20s 398us/sample - loss: 1.5263 - categorical_crossentropy: 0.9542 - acc: 0.6607 - val_loss: 1.6604 - val_categorical_crossentropy: 1.0887 - val_acc: 0.6143\n",
      "Epoch 42/250\n",
      "50000/50000 [==============================] - 20s 397us/sample - loss: 1.5083 - categorical_crossentropy: 0.9371 - acc: 0.6661 - val_loss: 1.6368 - val_categorical_crossentropy: 1.0660 - val_acc: 0.6165\n",
      "Epoch 43/250\n",
      "50000/50000 [==============================] - 20s 398us/sample - loss: 1.4977 - categorical_crossentropy: 0.9274 - acc: 0.6685 - val_loss: 1.6389 - val_categorical_crossentropy: 1.0690 - val_acc: 0.6176\n",
      "Epoch 44/250\n",
      "50000/50000 [==============================] - 20s 398us/sample - loss: 1.4800 - categorical_crossentropy: 0.9106 - acc: 0.6778 - val_loss: 1.6256 - val_categorical_crossentropy: 1.0567 - val_acc: 0.6242\n",
      "Epoch 45/250\n",
      "50000/50000 [==============================] - 20s 399us/sample - loss: 1.4648 - categorical_crossentropy: 0.8964 - acc: 0.6819 - val_loss: 1.5857 - val_categorical_crossentropy: 1.0178 - val_acc: 0.6348\n",
      "Epoch 46/250\n",
      "50000/50000 [==============================] - 20s 398us/sample - loss: 1.4504 - categorical_crossentropy: 0.8829 - acc: 0.6881 - val_loss: 1.6526 - val_categorical_crossentropy: 1.0855 - val_acc: 0.6179\n",
      "Epoch 47/250\n",
      "50000/50000 [==============================] - 20s 400us/sample - loss: 1.4366 - categorical_crossentropy: 0.8700 - acc: 0.6921 - val_loss: 1.5863 - val_categorical_crossentropy: 1.0201 - val_acc: 0.6347\n",
      "Epoch 48/250\n",
      "50000/50000 [==============================] - 20s 398us/sample - loss: 1.4205 - categorical_crossentropy: 0.8549 - acc: 0.6962 - val_loss: 1.5949 - val_categorical_crossentropy: 1.0298 - val_acc: 0.6336\n",
      "Epoch 49/250\n",
      "50000/50000 [==============================] - 20s 401us/sample - loss: 1.4047 - categorical_crossentropy: 0.8400 - acc: 0.7028 - val_loss: 1.6024 - val_categorical_crossentropy: 1.0381 - val_acc: 0.6303\n",
      "Epoch 50/250\n",
      "50000/50000 [==============================] - 20s 398us/sample - loss: 1.3903 - categorical_crossentropy: 0.8265 - acc: 0.7080 - val_loss: 1.5715 - val_categorical_crossentropy: 1.0081 - val_acc: 0.6361\n",
      "Epoch 51/250\n",
      "50000/50000 [==============================] - 20s 398us/sample - loss: 1.3767 - categorical_crossentropy: 0.8139 - acc: 0.7109 - val_loss: 1.5839 - val_categorical_crossentropy: 1.0214 - val_acc: 0.6381\n",
      "Epoch 52/250\n",
      "50000/50000 [==============================] - 20s 397us/sample - loss: 1.3575 - categorical_crossentropy: 0.7955 - acc: 0.7194 - val_loss: 1.5796 - val_categorical_crossentropy: 1.0180 - val_acc: 0.6385\n",
      "Epoch 53/250\n",
      "50000/50000 [==============================] - 20s 398us/sample - loss: 1.3415 - categorical_crossentropy: 0.7805 - acc: 0.7246 - val_loss: 1.5693 - val_categorical_crossentropy: 1.0087 - val_acc: 0.6388\n",
      "Epoch 54/250\n",
      "50000/50000 [==============================] - 20s 397us/sample - loss: 1.3267 - categorical_crossentropy: 0.7665 - acc: 0.7284 - val_loss: 1.5704 - val_categorical_crossentropy: 1.0107 - val_acc: 0.6397\n",
      "Epoch 55/250\n",
      "50000/50000 [==============================] - 20s 399us/sample - loss: 1.3117 - categorical_crossentropy: 0.7524 - acc: 0.7340 - val_loss: 1.6097 - val_categorical_crossentropy: 1.0509 - val_acc: 0.6339\n",
      "Epoch 56/250\n",
      "50000/50000 [==============================] - 20s 398us/sample - loss: 1.2990 - categorical_crossentropy: 0.7406 - acc: 0.7397 - val_loss: 1.5962 - val_categorical_crossentropy: 1.0383 - val_acc: 0.6336\n",
      "Epoch 57/250\n",
      "50000/50000 [==============================] - 20s 398us/sample - loss: 1.2785 - categorical_crossentropy: 0.7211 - acc: 0.7460 - val_loss: 1.5746 - val_categorical_crossentropy: 1.0175 - val_acc: 0.6403\n",
      "Epoch 58/250\n",
      "50000/50000 [==============================] - 20s 396us/sample - loss: 1.2624 - categorical_crossentropy: 0.7059 - acc: 0.7503 - val_loss: 1.5741 - val_categorical_crossentropy: 1.0180 - val_acc: 0.6459\n",
      "Epoch 59/250\n",
      "50000/50000 [==============================] - 20s 395us/sample - loss: 1.2485 - categorical_crossentropy: 0.6928 - acc: 0.7552 - val_loss: 1.6330 - val_categorical_crossentropy: 1.0778 - val_acc: 0.6361\n",
      "Epoch 60/250\n",
      "50000/50000 [==============================] - 20s 397us/sample - loss: 1.2298 - categorical_crossentropy: 0.6750 - acc: 0.7609 - val_loss: 1.6095 - val_categorical_crossentropy: 1.0552 - val_acc: 0.6367\n",
      "Epoch 61/250\n",
      "50000/50000 [==============================] - 20s 397us/sample - loss: 1.2106 - categorical_crossentropy: 0.6567 - acc: 0.7702 - val_loss: 1.6062 - val_categorical_crossentropy: 1.0527 - val_acc: 0.6374\n",
      "Epoch 62/250\n",
      "50000/50000 [==============================] - 20s 397us/sample - loss: 1.1952 - categorical_crossentropy: 0.6422 - acc: 0.7747 - val_loss: 1.6044 - val_categorical_crossentropy: 1.0518 - val_acc: 0.6428\n",
      "Epoch 63/250\n",
      "50000/50000 [==============================] - 20s 397us/sample - loss: 1.1711 - categorical_crossentropy: 0.6189 - acc: 0.7834 - val_loss: 1.5983 - val_categorical_crossentropy: 1.0466 - val_acc: 0.6337\n",
      "Epoch 64/250\n",
      "50000/50000 [==============================] - 20s 400us/sample - loss: 1.1583 - categorical_crossentropy: 0.6070 - acc: 0.7884 - val_loss: 1.5877 - val_categorical_crossentropy: 1.0369 - val_acc: 0.6462\n",
      "Epoch 65/250\n",
      "50000/50000 [==============================] - 20s 398us/sample - loss: 1.1393 - categorical_crossentropy: 0.5889 - acc: 0.7951 - val_loss: 1.6293 - val_categorical_crossentropy: 1.0793 - val_acc: 0.6427\n",
      "Epoch 66/250\n",
      "50000/50000 [==============================] - 20s 397us/sample - loss: 1.1215 - categorical_crossentropy: 0.5720 - acc: 0.8023 - val_loss: 1.6322 - val_categorical_crossentropy: 1.0831 - val_acc: 0.6389\n",
      "Epoch 67/250\n",
      "50000/50000 [==============================] - 20s 399us/sample - loss: 1.1062 - categorical_crossentropy: 0.5575 - acc: 0.8068 - val_loss: 1.6644 - val_categorical_crossentropy: 1.1161 - val_acc: 0.6383\n",
      "Epoch 68/250\n",
      "50000/50000 [==============================] - 20s 400us/sample - loss: 1.0900 - categorical_crossentropy: 0.5421 - acc: 0.8131 - val_loss: 1.7277 - val_categorical_crossentropy: 1.1803 - val_acc: 0.6269\n",
      "Epoch 69/250\n",
      "50000/50000 [==============================] - 20s 397us/sample - loss: 1.0717 - categorical_crossentropy: 0.5247 - acc: 0.8200 - val_loss: 1.8274 - val_categorical_crossentropy: 1.2808 - val_acc: 0.6083\n",
      "Epoch 70/250\n",
      "50000/50000 [==============================] - 20s 398us/sample - loss: 1.0508 - categorical_crossentropy: 0.5047 - acc: 0.8284 - val_loss: 1.7207 - val_categorical_crossentropy: 1.1750 - val_acc: 0.6263\n",
      "Epoch 71/250\n",
      "50000/50000 [==============================] - 20s 398us/sample - loss: 1.0332 - categorical_crossentropy: 0.4879 - acc: 0.8334 - val_loss: 1.8299 - val_categorical_crossentropy: 1.2850 - val_acc: 0.6109\n",
      "Epoch 72/250\n",
      "50000/50000 [==============================] - 20s 397us/sample - loss: 1.0161 - categorical_crossentropy: 0.4716 - acc: 0.8382 - val_loss: 2.0895 - val_categorical_crossentropy: 1.5454 - val_acc: 0.5815\n",
      "Epoch 73/250\n",
      "50000/50000 [==============================] - 20s 397us/sample - loss: 0.9972 - categorical_crossentropy: 0.4536 - acc: 0.8464 - val_loss: 1.9991 - val_categorical_crossentropy: 1.4559 - val_acc: 0.5996\n",
      "Epoch 74/250\n",
      "50000/50000 [==============================] - 20s 398us/sample - loss: 0.9822 - categorical_crossentropy: 0.4394 - acc: 0.8510 - val_loss: 1.7512 - val_categorical_crossentropy: 1.2088 - val_acc: 0.6352\n",
      "Epoch 75/250\n",
      "50000/50000 [==============================] - 20s 398us/sample - loss: 0.9659 - categorical_crossentropy: 0.4239 - acc: 0.8567 - val_loss: 1.8115 - val_categorical_crossentropy: 1.2699 - val_acc: 0.6264\n",
      "Epoch 76/250\n",
      "50000/50000 [==============================] - 20s 398us/sample - loss: 0.9472 - categorical_crossentropy: 0.4060 - acc: 0.8655 - val_loss: 1.9750 - val_categorical_crossentropy: 1.4342 - val_acc: 0.6141\n",
      "Epoch 77/250\n",
      "50000/50000 [==============================] - 20s 398us/sample - loss: 0.9280 - categorical_crossentropy: 0.3877 - acc: 0.8704 - val_loss: 1.7948 - val_categorical_crossentropy: 1.2548 - val_acc: 0.6316\n",
      "Epoch 78/250\n",
      "50000/50000 [==============================] - 20s 397us/sample - loss: 0.9169 - categorical_crossentropy: 0.3774 - acc: 0.8752 - val_loss: 1.7756 - val_categorical_crossentropy: 1.2364 - val_acc: 0.6317\n",
      "Epoch 79/250\n",
      "50000/50000 [==============================] - 20s 398us/sample - loss: 0.8979 - categorical_crossentropy: 0.3591 - acc: 0.8829 - val_loss: 1.9035 - val_categorical_crossentropy: 1.3651 - val_acc: 0.6169\n",
      "Epoch 80/250\n",
      "50000/50000 [==============================] - 20s 403us/sample - loss: 0.8788 - categorical_crossentropy: 0.3408 - acc: 0.8899 - val_loss: 1.8253 - val_categorical_crossentropy: 1.2877 - val_acc: 0.6229\n",
      "Epoch 81/250\n",
      "50000/50000 [==============================] - 20s 398us/sample - loss: 0.8641 - categorical_crossentropy: 0.3269 - acc: 0.8950 - val_loss: 1.8649 - val_categorical_crossentropy: 1.3282 - val_acc: 0.6294\n",
      "Epoch 82/250\n",
      "50000/50000 [==============================] - 20s 398us/sample - loss: 0.8497 - categorical_crossentropy: 0.3134 - acc: 0.8970 - val_loss: 1.8533 - val_categorical_crossentropy: 1.3173 - val_acc: 0.6265\n",
      "Epoch 83/250\n",
      "50000/50000 [==============================] - 20s 398us/sample - loss: 0.8328 - categorical_crossentropy: 0.2972 - acc: 0.9052 - val_loss: 1.8642 - val_categorical_crossentropy: 1.3290 - val_acc: 0.6299\n",
      "Epoch 84/250\n",
      "50000/50000 [==============================] - 20s 398us/sample - loss: 0.8156 - categorical_crossentropy: 0.2808 - acc: 0.9109 - val_loss: 2.0851 - val_categorical_crossentropy: 1.5507 - val_acc: 0.6164\n",
      "Epoch 85/250\n",
      "50000/50000 [==============================] - 20s 398us/sample - loss: 0.8112 - categorical_crossentropy: 0.2772 - acc: 0.9112 - val_loss: 1.9869 - val_categorical_crossentropy: 1.4533 - val_acc: 0.6175\n",
      "Epoch 86/250\n",
      "50000/50000 [==============================] - 20s 397us/sample - loss: 0.7975 - categorical_crossentropy: 0.2643 - acc: 0.9155 - val_loss: 1.9178 - val_categorical_crossentropy: 1.3849 - val_acc: 0.6328\n",
      "Epoch 87/250\n",
      "50000/50000 [==============================] - 20s 399us/sample - loss: 0.7818 - categorical_crossentropy: 0.2493 - acc: 0.9212 - val_loss: 2.0030 - val_categorical_crossentropy: 1.4709 - val_acc: 0.6119\n",
      "Epoch 88/250\n",
      "50000/50000 [==============================] - 20s 399us/sample - loss: 0.7753 - categorical_crossentropy: 0.2436 - acc: 0.9224 - val_loss: 2.1055 - val_categorical_crossentropy: 1.5741 - val_acc: 0.6101\n",
      "Epoch 89/250\n",
      "50000/50000 [==============================] - 20s 399us/sample - loss: 0.7589 - categorical_crossentropy: 0.2280 - acc: 0.9283 - val_loss: 1.9726 - val_categorical_crossentropy: 1.4421 - val_acc: 0.6308\n",
      "Epoch 90/250\n",
      "50000/50000 [==============================] - 20s 397us/sample - loss: 0.7494 - categorical_crossentropy: 0.2192 - acc: 0.9315 - val_loss: 2.0268 - val_categorical_crossentropy: 1.4970 - val_acc: 0.6282\n",
      "Epoch 91/250\n",
      "50000/50000 [==============================] - 20s 398us/sample - loss: 0.7368 - categorical_crossentropy: 0.2074 - acc: 0.9370 - val_loss: 2.0780 - val_categorical_crossentropy: 1.5490 - val_acc: 0.6184\n",
      "Epoch 92/250\n",
      "50000/50000 [==============================] - 20s 398us/sample - loss: 0.7240 - categorical_crossentropy: 0.1953 - acc: 0.9401 - val_loss: 2.0600 - val_categorical_crossentropy: 1.5317 - val_acc: 0.6285\n",
      "Epoch 93/250\n",
      "50000/50000 [==============================] - 20s 397us/sample - loss: 0.7159 - categorical_crossentropy: 0.1880 - acc: 0.9436 - val_loss: 2.5009 - val_categorical_crossentropy: 1.9734 - val_acc: 0.5875\n",
      "Epoch 94/250\n",
      "50000/50000 [==============================] - 20s 398us/sample - loss: 0.7079 - categorical_crossentropy: 0.1807 - acc: 0.9456 - val_loss: 2.0951 - val_categorical_crossentropy: 1.5683 - val_acc: 0.6287\n",
      "Epoch 95/250\n",
      "50000/50000 [==============================] - 20s 399us/sample - loss: 0.6912 - categorical_crossentropy: 0.1648 - acc: 0.9523 - val_loss: 2.1070 - val_categorical_crossentropy: 1.5810 - val_acc: 0.6136\n",
      "Epoch 96/250\n",
      "50000/50000 [==============================] - 20s 401us/sample - loss: 0.6845 - categorical_crossentropy: 0.1588 - acc: 0.9537 - val_loss: 2.1796 - val_categorical_crossentropy: 1.6543 - val_acc: 0.6219\n",
      "Epoch 97/250\n",
      "50000/50000 [==============================] - 20s 399us/sample - loss: 0.6766 - categorical_crossentropy: 0.1517 - acc: 0.9564 - val_loss: 2.2107 - val_categorical_crossentropy: 1.6862 - val_acc: 0.6212\n",
      "Epoch 98/250\n",
      "50000/50000 [==============================] - 20s 399us/sample - loss: 0.6664 - categorical_crossentropy: 0.1422 - acc: 0.9593 - val_loss: 2.1760 - val_categorical_crossentropy: 1.6522 - val_acc: 0.6198\n",
      "Epoch 99/250\n",
      "50000/50000 [==============================] - 20s 399us/sample - loss: 0.6622 - categorical_crossentropy: 0.1388 - acc: 0.9616 - val_loss: 2.1213 - val_categorical_crossentropy: 1.5983 - val_acc: 0.6301\n",
      "Epoch 100/250\n",
      "50000/50000 [==============================] - 20s 398us/sample - loss: 0.6522 - categorical_crossentropy: 0.1296 - acc: 0.9639 - val_loss: 2.2048 - val_categorical_crossentropy: 1.6826 - val_acc: 0.6164\n",
      "Epoch 101/250\n",
      "50000/50000 [==============================] - 20s 399us/sample - loss: 0.6524 - categorical_crossentropy: 0.1305 - acc: 0.9620 - val_loss: 2.3380 - val_categorical_crossentropy: 1.8165 - val_acc: 0.6017\n",
      "Epoch 102/250\n",
      "50000/50000 [==============================] - 20s 397us/sample - loss: 0.6419 - categorical_crossentropy: 0.1208 - acc: 0.9660 - val_loss: 2.1637 - val_categorical_crossentropy: 1.6429 - val_acc: 0.6302\n",
      "Epoch 103/250\n",
      "50000/50000 [==============================] - 20s 398us/sample - loss: 0.6307 - categorical_crossentropy: 0.1103 - acc: 0.9709 - val_loss: 2.2826 - val_categorical_crossentropy: 1.7626 - val_acc: 0.6282\n",
      "Epoch 104/250\n",
      "50000/50000 [==============================] - 20s 398us/sample - loss: 0.6233 - categorical_crossentropy: 0.1037 - acc: 0.9724 - val_loss: 2.2241 - val_categorical_crossentropy: 1.7048 - val_acc: 0.6285\n",
      "Epoch 105/250\n",
      "50000/50000 [==============================] - 20s 399us/sample - loss: 0.6194 - categorical_crossentropy: 0.1005 - acc: 0.9734 - val_loss: 2.3127 - val_categorical_crossentropy: 1.7942 - val_acc: 0.6184\n",
      "Epoch 106/250\n",
      "50000/50000 [==============================] - 20s 398us/sample - loss: 0.6154 - categorical_crossentropy: 0.0973 - acc: 0.9750 - val_loss: 2.2485 - val_categorical_crossentropy: 1.7307 - val_acc: 0.6269\n",
      "Epoch 107/250\n",
      "50000/50000 [==============================] - 20s 398us/sample - loss: 0.6106 - categorical_crossentropy: 0.0932 - acc: 0.9752 - val_loss: 2.4231 - val_categorical_crossentropy: 1.9061 - val_acc: 0.5954\n",
      "Epoch 108/250\n",
      "50000/50000 [==============================] - 20s 398us/sample - loss: 0.6057 - categorical_crossentropy: 0.0890 - acc: 0.9767 - val_loss: 2.2844 - val_categorical_crossentropy: 1.7682 - val_acc: 0.6189\n",
      "Epoch 109/250\n",
      "50000/50000 [==============================] - 20s 399us/sample - loss: 0.6006 - categorical_crossentropy: 0.0847 - acc: 0.9783 - val_loss: 2.3608 - val_categorical_crossentropy: 1.8453 - val_acc: 0.6178\n",
      "Epoch 110/250\n",
      "50000/50000 [==============================] - 20s 397us/sample - loss: 0.6038 - categorical_crossentropy: 0.0886 - acc: 0.9766 - val_loss: 2.3256 - val_categorical_crossentropy: 1.8108 - val_acc: 0.6281\n",
      "Epoch 111/250\n",
      "50000/50000 [==============================] - 20s 403us/sample - loss: 0.5969 - categorical_crossentropy: 0.0825 - acc: 0.9784 - val_loss: 2.6397 - val_categorical_crossentropy: 2.1257 - val_acc: 0.6099\n",
      "Epoch 112/250\n",
      "50000/50000 [==============================] - 20s 399us/sample - loss: 0.5860 - categorical_crossentropy: 0.0723 - acc: 0.9826 - val_loss: 2.4127 - val_categorical_crossentropy: 1.8994 - val_acc: 0.6303\n",
      "Epoch 113/250\n",
      "50000/50000 [==============================] - 20s 400us/sample - loss: 0.5866 - categorical_crossentropy: 0.0737 - acc: 0.9814 - val_loss: 2.4158 - val_categorical_crossentropy: 1.9032 - val_acc: 0.6195\n",
      "Epoch 114/250\n",
      "50000/50000 [==============================] - 20s 400us/sample - loss: 0.5797 - categorical_crossentropy: 0.0675 - acc: 0.9836 - val_loss: 2.2969 - val_categorical_crossentropy: 1.7851 - val_acc: 0.6303\n",
      "Epoch 115/250\n",
      "50000/50000 [==============================] - 20s 399us/sample - loss: 0.5747 - categorical_crossentropy: 0.0633 - acc: 0.9851 - val_loss: 2.5491 - val_categorical_crossentropy: 2.0380 - val_acc: 0.6179\n",
      "Epoch 116/250\n",
      "50000/50000 [==============================] - 20s 398us/sample - loss: 0.5771 - categorical_crossentropy: 0.0664 - acc: 0.9840 - val_loss: 2.4573 - val_categorical_crossentropy: 1.9470 - val_acc: 0.6130\n",
      "Epoch 117/250\n",
      "50000/50000 [==============================] - 20s 399us/sample - loss: 0.5719 - categorical_crossentropy: 0.0619 - acc: 0.9849 - val_loss: 2.3708 - val_categorical_crossentropy: 1.8612 - val_acc: 0.6242\n",
      "Epoch 118/250\n",
      "50000/50000 [==============================] - 20s 399us/sample - loss: 0.5709 - categorical_crossentropy: 0.0617 - acc: 0.9851 - val_loss: 2.5027 - val_categorical_crossentropy: 1.9938 - val_acc: 0.6189\n",
      "Epoch 119/250\n",
      "50000/50000 [==============================] - 20s 399us/sample - loss: 0.5737 - categorical_crossentropy: 0.0652 - acc: 0.9837 - val_loss: 2.4902 - val_categorical_crossentropy: 1.9821 - val_acc: 0.6150\n",
      "Epoch 120/250\n",
      "50000/50000 [==============================] - 20s 398us/sample - loss: 0.5676 - categorical_crossentropy: 0.0598 - acc: 0.9852 - val_loss: 2.3990 - val_categorical_crossentropy: 1.8916 - val_acc: 0.6217\n",
      "Epoch 121/250\n",
      "50000/50000 [==============================] - 20s 398us/sample - loss: 0.5617 - categorical_crossentropy: 0.0546 - acc: 0.9868 - val_loss: 2.6474 - val_categorical_crossentropy: 2.1407 - val_acc: 0.6116\n",
      "Epoch 122/250\n",
      "50000/50000 [==============================] - 20s 397us/sample - loss: 0.5543 - categorical_crossentropy: 0.0480 - acc: 0.9896 - val_loss: 2.5431 - val_categorical_crossentropy: 2.0371 - val_acc: 0.6221\n",
      "Epoch 123/250\n",
      "50000/50000 [==============================] - 20s 397us/sample - loss: 0.5533 - categorical_crossentropy: 0.0478 - acc: 0.9891 - val_loss: 2.5244 - val_categorical_crossentropy: 2.0192 - val_acc: 0.6294\n",
      "Epoch 124/250\n",
      "50000/50000 [==============================] - 20s 398us/sample - loss: 0.5495 - categorical_crossentropy: 0.0446 - acc: 0.9900 - val_loss: 2.5679 - val_categorical_crossentropy: 2.0635 - val_acc: 0.6228\n",
      "Epoch 125/250\n",
      "50000/50000 [==============================] - 20s 398us/sample - loss: 0.5529 - categorical_crossentropy: 0.0488 - acc: 0.9883 - val_loss: 2.5052 - val_categorical_crossentropy: 2.0015 - val_acc: 0.6272\n",
      "Epoch 126/250\n",
      "50000/50000 [==============================] - 20s 397us/sample - loss: 0.5467 - categorical_crossentropy: 0.0433 - acc: 0.9906 - val_loss: 2.5260 - val_categorical_crossentropy: 2.0230 - val_acc: 0.6266\n",
      "Epoch 127/250\n",
      "50000/50000 [==============================] - 20s 400us/sample - loss: 0.5415 - categorical_crossentropy: 0.0389 - acc: 0.9916 - val_loss: 2.5277 - val_categorical_crossentropy: 2.0254 - val_acc: 0.6235\n",
      "Epoch 128/250\n",
      "50000/50000 [==============================] - 20s 398us/sample - loss: 0.5401 - categorical_crossentropy: 0.0383 - acc: 0.9915 - val_loss: 2.5711 - val_categorical_crossentropy: 2.0696 - val_acc: 0.6260\n",
      "Epoch 129/250\n",
      "50000/50000 [==============================] - 20s 398us/sample - loss: 0.5419 - categorical_crossentropy: 0.0408 - acc: 0.9905 - val_loss: 2.6940 - val_categorical_crossentropy: 2.1933 - val_acc: 0.6040\n",
      "Epoch 130/250\n",
      "50000/50000 [==============================] - 20s 397us/sample - loss: 0.5397 - categorical_crossentropy: 0.0393 - acc: 0.9913 - val_loss: 2.7442 - val_categorical_crossentropy: 2.2442 - val_acc: 0.6152\n",
      "Epoch 131/250\n",
      "50000/50000 [==============================] - 20s 397us/sample - loss: 0.5351 - categorical_crossentropy: 0.0355 - acc: 0.9925 - val_loss: 2.4813 - val_categorical_crossentropy: 1.9820 - val_acc: 0.6268\n",
      "Epoch 132/250\n",
      "50000/50000 [==============================] - 20s 397us/sample - loss: 0.5357 - categorical_crossentropy: 0.0368 - acc: 0.9914 - val_loss: 2.6109 - val_categorical_crossentropy: 2.1123 - val_acc: 0.6192\n",
      "Epoch 133/250\n",
      "50000/50000 [==============================] - 20s 397us/sample - loss: 0.5373 - categorical_crossentropy: 0.0391 - acc: 0.9910 - val_loss: 2.6779 - val_categorical_crossentropy: 2.1801 - val_acc: 0.6014\n",
      "Epoch 134/250\n",
      "50000/50000 [==============================] - 20s 396us/sample - loss: 0.5320 - categorical_crossentropy: 0.0346 - acc: 0.9924 - val_loss: 2.5538 - val_categorical_crossentropy: 2.0567 - val_acc: 0.6250\n",
      "Epoch 135/250\n",
      "50000/50000 [==============================] - 20s 397us/sample - loss: 0.5339 - categorical_crossentropy: 0.0372 - acc: 0.9910 - val_loss: 2.5919 - val_categorical_crossentropy: 2.0956 - val_acc: 0.6188\n",
      "Epoch 136/250\n",
      "50000/50000 [==============================] - 20s 397us/sample - loss: 0.5323 - categorical_crossentropy: 0.0363 - acc: 0.9920 - val_loss: 2.6958 - val_categorical_crossentropy: 2.2002 - val_acc: 0.6200\n",
      "Epoch 137/250\n",
      "50000/50000 [==============================] - 20s 396us/sample - loss: 0.5382 - categorical_crossentropy: 0.0429 - acc: 0.9885 - val_loss: 2.7635 - val_categorical_crossentropy: 2.2685 - val_acc: 0.6177\n",
      "Epoch 138/250\n",
      "50000/50000 [==============================] - 20s 397us/sample - loss: 0.5306 - categorical_crossentropy: 0.0360 - acc: 0.9914 - val_loss: 2.7013 - val_categorical_crossentropy: 2.2071 - val_acc: 0.6255\n",
      "Epoch 139/250\n",
      "50000/50000 [==============================] - 20s 398us/sample - loss: 0.5321 - categorical_crossentropy: 0.0382 - acc: 0.9904 - val_loss: 2.5806 - val_categorical_crossentropy: 2.0871 - val_acc: 0.6245\n",
      "Epoch 140/250\n",
      "50000/50000 [==============================] - 20s 397us/sample - loss: 0.5277 - categorical_crossentropy: 0.0346 - acc: 0.9916 - val_loss: 2.5223 - val_categorical_crossentropy: 2.0295 - val_acc: 0.6354\n",
      "Epoch 141/250\n",
      "50000/50000 [==============================] - 20s 398us/sample - loss: 0.5224 - categorical_crossentropy: 0.0300 - acc: 0.9934 - val_loss: 2.7121 - val_categorical_crossentropy: 2.2201 - val_acc: 0.6164\n",
      "Epoch 142/250\n",
      "50000/50000 [==============================] - 20s 400us/sample - loss: 0.5236 - categorical_crossentropy: 0.0320 - acc: 0.9928 - val_loss: 2.7272 - val_categorical_crossentropy: 2.2359 - val_acc: 0.6275\n",
      "Epoch 143/250\n",
      "50000/50000 [==============================] - 20s 398us/sample - loss: 0.5209 - categorical_crossentropy: 0.0300 - acc: 0.9932 - val_loss: 2.6807 - val_categorical_crossentropy: 2.1901 - val_acc: 0.6271\n",
      "Epoch 144/250\n",
      "50000/50000 [==============================] - 20s 396us/sample - loss: 0.5211 - categorical_crossentropy: 0.0309 - acc: 0.9929 - val_loss: 2.6327 - val_categorical_crossentropy: 2.1428 - val_acc: 0.6208\n",
      "Epoch 145/250\n",
      "50000/50000 [==============================] - 20s 398us/sample - loss: 0.5186 - categorical_crossentropy: 0.0291 - acc: 0.9932 - val_loss: 2.6801 - val_categorical_crossentropy: 2.1909 - val_acc: 0.6235\n",
      "Epoch 146/250\n",
      "50000/50000 [==============================] - 20s 397us/sample - loss: 0.5134 - categorical_crossentropy: 0.0246 - acc: 0.9952 - val_loss: 2.6324 - val_categorical_crossentropy: 2.1439 - val_acc: 0.6242\n",
      "Epoch 147/250\n",
      "50000/50000 [==============================] - 20s 396us/sample - loss: 0.5178 - categorical_crossentropy: 0.0297 - acc: 0.9929 - val_loss: 2.8590 - val_categorical_crossentropy: 2.3713 - val_acc: 0.6069\n",
      "Epoch 148/250\n",
      "50000/50000 [==============================] - 20s 396us/sample - loss: 0.5224 - categorical_crossentropy: 0.0350 - acc: 0.9907 - val_loss: 2.7418 - val_categorical_crossentropy: 2.2548 - val_acc: 0.6179\n",
      "Epoch 149/250\n",
      "50000/50000 [==============================] - 20s 397us/sample - loss: 0.5185 - categorical_crossentropy: 0.0318 - acc: 0.9923 - val_loss: 2.7915 - val_categorical_crossentropy: 2.3051 - val_acc: 0.6186\n",
      "Epoch 150/250\n",
      "50000/50000 [==============================] - 20s 395us/sample - loss: 0.5196 - categorical_crossentropy: 0.0337 - acc: 0.9909 - val_loss: 2.7236 - val_categorical_crossentropy: 2.2379 - val_acc: 0.6259\n",
      "Epoch 151/250\n",
      "50000/50000 [==============================] - 20s 397us/sample - loss: 0.5191 - categorical_crossentropy: 0.0338 - acc: 0.9911 - val_loss: 2.6300 - val_categorical_crossentropy: 2.1451 - val_acc: 0.6188\n",
      "Epoch 152/250\n",
      "50000/50000 [==============================] - 20s 396us/sample - loss: 0.5152 - categorical_crossentropy: 0.0306 - acc: 0.9916 - val_loss: 2.7251 - val_categorical_crossentropy: 2.2409 - val_acc: 0.6208\n",
      "Epoch 153/250\n",
      "50000/50000 [==============================] - 20s 397us/sample - loss: 0.5172 - categorical_crossentropy: 0.0333 - acc: 0.9914 - val_loss: 2.8596 - val_categorical_crossentropy: 2.3761 - val_acc: 0.6070\n",
      "Epoch 154/250\n",
      "50000/50000 [==============================] - 20s 395us/sample - loss: 0.5178 - categorical_crossentropy: 0.0346 - acc: 0.9906 - val_loss: 3.2549 - val_categorical_crossentropy: 2.7720 - val_acc: 0.5946\n",
      "Epoch 155/250\n",
      "50000/50000 [==============================] - 20s 396us/sample - loss: 0.5156 - categorical_crossentropy: 0.0331 - acc: 0.9913 - val_loss: 2.9944 - val_categorical_crossentropy: 2.5122 - val_acc: 0.5891\n",
      "Epoch 156/250\n",
      "50000/50000 [==============================] - 20s 397us/sample - loss: 0.5176 - categorical_crossentropy: 0.0357 - acc: 0.9906 - val_loss: 2.7616 - val_categorical_crossentropy: 2.2801 - val_acc: 0.6257\n",
      "Epoch 157/250\n",
      "50000/50000 [==============================] - 20s 397us/sample - loss: 0.5077 - categorical_crossentropy: 0.0265 - acc: 0.9934 - val_loss: 2.7104 - val_categorical_crossentropy: 2.2296 - val_acc: 0.6314\n",
      "Epoch 158/250\n",
      "50000/50000 [==============================] - 20s 400us/sample - loss: 0.5092 - categorical_crossentropy: 0.0287 - acc: 0.9927 - val_loss: 2.6957 - val_categorical_crossentropy: 2.2156 - val_acc: 0.6201\n",
      "Epoch 159/250\n",
      "50000/50000 [==============================] - 20s 397us/sample - loss: 0.5042 - categorical_crossentropy: 0.0244 - acc: 0.9943 - val_loss: 2.7928 - val_categorical_crossentropy: 2.3134 - val_acc: 0.6223\n",
      "Epoch 160/250\n",
      "50000/50000 [==============================] - 20s 397us/sample - loss: 0.5008 - categorical_crossentropy: 0.0218 - acc: 0.9954 - val_loss: 2.6857 - val_categorical_crossentropy: 2.2070 - val_acc: 0.6345\n",
      "Epoch 161/250\n",
      "50000/50000 [==============================] - 20s 397us/sample - loss: 0.5004 - categorical_crossentropy: 0.0221 - acc: 0.9950 - val_loss: 2.7415 - val_categorical_crossentropy: 2.2635 - val_acc: 0.6138\n",
      "Epoch 162/250\n",
      "50000/50000 [==============================] - 20s 396us/sample - loss: 0.5008 - categorical_crossentropy: 0.0232 - acc: 0.9945 - val_loss: 2.8441 - val_categorical_crossentropy: 2.3669 - val_acc: 0.6082\n",
      "Epoch 163/250\n",
      "50000/50000 [==============================] - 20s 396us/sample - loss: 0.5007 - categorical_crossentropy: 0.0238 - acc: 0.9943 - val_loss: 2.7787 - val_categorical_crossentropy: 2.3021 - val_acc: 0.6224\n",
      "Epoch 164/250\n",
      "50000/50000 [==============================] - 20s 396us/sample - loss: 0.4954 - categorical_crossentropy: 0.0192 - acc: 0.9956 - val_loss: 2.7331 - val_categorical_crossentropy: 2.2572 - val_acc: 0.6219\n",
      "Epoch 165/250\n",
      "50000/50000 [==============================] - 20s 396us/sample - loss: 0.4966 - categorical_crossentropy: 0.0211 - acc: 0.9951 - val_loss: 2.7839 - val_categorical_crossentropy: 2.3088 - val_acc: 0.6223\n",
      "Epoch 166/250\n",
      "50000/50000 [==============================] - 20s 396us/sample - loss: 0.4956 - categorical_crossentropy: 0.0208 - acc: 0.9954 - val_loss: 2.6640 - val_categorical_crossentropy: 2.1895 - val_acc: 0.6313\n",
      "Epoch 167/250\n",
      "50000/50000 [==============================] - 20s 396us/sample - loss: 0.4910 - categorical_crossentropy: 0.0169 - acc: 0.9971 - val_loss: 2.8322 - val_categorical_crossentropy: 2.3584 - val_acc: 0.6240\n",
      "Epoch 168/250\n",
      "50000/50000 [==============================] - 20s 396us/sample - loss: 0.4912 - categorical_crossentropy: 0.0178 - acc: 0.9962 - val_loss: 2.8543 - val_categorical_crossentropy: 2.3813 - val_acc: 0.6224\n",
      "Epoch 169/250\n",
      "50000/50000 [==============================] - 20s 396us/sample - loss: 0.4983 - categorical_crossentropy: 0.0256 - acc: 0.9931 - val_loss: 2.7720 - val_categorical_crossentropy: 2.2996 - val_acc: 0.6236\n",
      "Epoch 170/250\n",
      "50000/50000 [==============================] - 20s 396us/sample - loss: 0.4943 - categorical_crossentropy: 0.0223 - acc: 0.9945 - val_loss: 2.7065 - val_categorical_crossentropy: 2.2348 - val_acc: 0.6297\n",
      "Epoch 171/250\n",
      "50000/50000 [==============================] - 20s 396us/sample - loss: 0.4943 - categorical_crossentropy: 0.0230 - acc: 0.9942 - val_loss: 2.9264 - val_categorical_crossentropy: 2.4554 - val_acc: 0.6248\n",
      "Epoch 172/250\n",
      "50000/50000 [==============================] - 20s 396us/sample - loss: 0.4963 - categorical_crossentropy: 0.0257 - acc: 0.9933 - val_loss: 2.7860 - val_categorical_crossentropy: 2.3157 - val_acc: 0.6324\n",
      "Epoch 173/250\n",
      "50000/50000 [==============================] - 20s 398us/sample - loss: 0.4906 - categorical_crossentropy: 0.0206 - acc: 0.9948 - val_loss: 2.8009 - val_categorical_crossentropy: 2.3312 - val_acc: 0.6202\n",
      "Epoch 174/250\n",
      "50000/50000 [==============================] - 20s 399us/sample - loss: 0.4873 - categorical_crossentropy: 0.0180 - acc: 0.9961 - val_loss: 2.9099 - val_categorical_crossentropy: 2.4410 - val_acc: 0.6143\n",
      "Epoch 175/250\n",
      "50000/50000 [==============================] - 20s 397us/sample - loss: 0.4891 - categorical_crossentropy: 0.0205 - acc: 0.9950 - val_loss: 2.6782 - val_categorical_crossentropy: 2.2100 - val_acc: 0.6330\n",
      "Epoch 176/250\n",
      "50000/50000 [==============================] - 20s 396us/sample - loss: 0.4932 - categorical_crossentropy: 0.0253 - acc: 0.9933 - val_loss: 2.8614 - val_categorical_crossentropy: 2.3938 - val_acc: 0.6220\n",
      "Epoch 177/250\n",
      "50000/50000 [==============================] - 20s 398us/sample - loss: 0.4918 - categorical_crossentropy: 0.0246 - acc: 0.9934 - val_loss: 2.9032 - val_categorical_crossentropy: 2.4363 - val_acc: 0.6119\n",
      "Epoch 178/250\n",
      "50000/50000 [==============================] - 20s 396us/sample - loss: 0.4902 - categorical_crossentropy: 0.0236 - acc: 0.9939 - val_loss: 2.8805 - val_categorical_crossentropy: 2.4143 - val_acc: 0.6363\n",
      "Epoch 179/250\n",
      "50000/50000 [==============================] - 20s 398us/sample - loss: 0.4921 - categorical_crossentropy: 0.0262 - acc: 0.9930 - val_loss: 2.7472 - val_categorical_crossentropy: 2.2816 - val_acc: 0.6286\n",
      "Epoch 180/250\n",
      "50000/50000 [==============================] - 20s 397us/sample - loss: 0.4879 - categorical_crossentropy: 0.0227 - acc: 0.9943 - val_loss: 2.9799 - val_categorical_crossentropy: 2.5150 - val_acc: 0.6082\n",
      "Epoch 181/250\n",
      "50000/50000 [==============================] - 20s 398us/sample - loss: 0.4828 - categorical_crossentropy: 0.0183 - acc: 0.9958 - val_loss: 2.6897 - val_categorical_crossentropy: 2.2255 - val_acc: 0.6414\n",
      "Epoch 182/250\n",
      "50000/50000 [==============================] - 20s 397us/sample - loss: 0.4767 - categorical_crossentropy: 0.0129 - acc: 0.9978 - val_loss: 2.8135 - val_categorical_crossentropy: 2.3499 - val_acc: 0.6244\n",
      "Epoch 183/250\n",
      "50000/50000 [==============================] - 20s 398us/sample - loss: 0.4813 - categorical_crossentropy: 0.0182 - acc: 0.9957 - val_loss: 2.6910 - val_categorical_crossentropy: 2.2282 - val_acc: 0.6308\n",
      "Epoch 184/250\n",
      "50000/50000 [==============================] - 20s 396us/sample - loss: 0.4780 - categorical_crossentropy: 0.0155 - acc: 0.9966 - val_loss: 2.7226 - val_categorical_crossentropy: 2.2604 - val_acc: 0.6162\n",
      "Epoch 185/250\n",
      "50000/50000 [==============================] - 20s 397us/sample - loss: 0.4770 - categorical_crossentropy: 0.0152 - acc: 0.9965 - val_loss: 2.9478 - val_categorical_crossentropy: 2.4864 - val_acc: 0.6143\n",
      "Epoch 186/250\n",
      "50000/50000 [==============================] - 20s 397us/sample - loss: 0.4748 - categorical_crossentropy: 0.0137 - acc: 0.9970 - val_loss: 3.2576 - val_categorical_crossentropy: 2.7969 - val_acc: 0.6046\n",
      "Epoch 187/250\n",
      "50000/50000 [==============================] - 20s 397us/sample - loss: 0.4737 - categorical_crossentropy: 0.0133 - acc: 0.9973 - val_loss: 2.7815 - val_categorical_crossentropy: 2.3215 - val_acc: 0.6251\n",
      "Epoch 188/250\n",
      "50000/50000 [==============================] - 20s 396us/sample - loss: 0.4796 - categorical_crossentropy: 0.0199 - acc: 0.9948 - val_loss: 2.9169 - val_categorical_crossentropy: 2.4576 - val_acc: 0.6127\n",
      "Epoch 189/250\n",
      "50000/50000 [==============================] - 20s 401us/sample - loss: 0.4746 - categorical_crossentropy: 0.0156 - acc: 0.9966 - val_loss: 2.7451 - val_categorical_crossentropy: 2.2864 - val_acc: 0.6363\n",
      "Epoch 190/250\n",
      "50000/50000 [==============================] - 20s 399us/sample - loss: 0.4709 - categorical_crossentropy: 0.0126 - acc: 0.9971 - val_loss: 2.7609 - val_categorical_crossentropy: 2.3029 - val_acc: 0.6288\n",
      "Epoch 191/250\n",
      "50000/50000 [==============================] - 20s 398us/sample - loss: 0.4754 - categorical_crossentropy: 0.0177 - acc: 0.9956 - val_loss: 2.9028 - val_categorical_crossentropy: 2.4454 - val_acc: 0.6211\n",
      "Epoch 192/250\n",
      "50000/50000 [==============================] - 20s 396us/sample - loss: 0.4738 - categorical_crossentropy: 0.0168 - acc: 0.9961 - val_loss: 2.7951 - val_categorical_crossentropy: 2.3384 - val_acc: 0.6352\n",
      "Epoch 193/250\n",
      "50000/50000 [==============================] - 20s 397us/sample - loss: 0.4756 - categorical_crossentropy: 0.0193 - acc: 0.9947 - val_loss: 2.7375 - val_categorical_crossentropy: 2.2815 - val_acc: 0.6376\n",
      "Epoch 194/250\n",
      "50000/50000 [==============================] - 20s 397us/sample - loss: 0.4724 - categorical_crossentropy: 0.0167 - acc: 0.9958 - val_loss: 3.2753 - val_categorical_crossentropy: 2.8200 - val_acc: 0.5987\n",
      "Epoch 195/250\n",
      "50000/50000 [==============================] - 20s 396us/sample - loss: 0.4701 - categorical_crossentropy: 0.0151 - acc: 0.9964 - val_loss: 2.8679 - val_categorical_crossentropy: 2.4132 - val_acc: 0.6248\n",
      "Epoch 196/250\n",
      "50000/50000 [==============================] - 20s 397us/sample - loss: 0.4743 - categorical_crossentropy: 0.0200 - acc: 0.9948 - val_loss: 2.9974 - val_categorical_crossentropy: 2.5434 - val_acc: 0.6300\n",
      "Epoch 197/250\n",
      "50000/50000 [==============================] - 20s 397us/sample - loss: 0.4733 - categorical_crossentropy: 0.0196 - acc: 0.9947 - val_loss: 2.8930 - val_categorical_crossentropy: 2.4396 - val_acc: 0.6267\n",
      "Epoch 198/250\n",
      "50000/50000 [==============================] - 20s 397us/sample - loss: 0.4753 - categorical_crossentropy: 0.0223 - acc: 0.9937 - val_loss: 3.1372 - val_categorical_crossentropy: 2.6845 - val_acc: 0.6019\n",
      "Epoch 199/250\n",
      "50000/50000 [==============================] - 20s 397us/sample - loss: 0.4775 - categorical_crossentropy: 0.0250 - acc: 0.9924 - val_loss: 3.0512 - val_categorical_crossentropy: 2.5991 - val_acc: 0.6222\n",
      "Epoch 200/250\n",
      "50000/50000 [==============================] - 20s 397us/sample - loss: 0.4782 - categorical_crossentropy: 0.0264 - acc: 0.9922 - val_loss: 3.0181 - val_categorical_crossentropy: 2.5666 - val_acc: 0.6187\n",
      "Epoch 201/250\n",
      "50000/50000 [==============================] - 20s 397us/sample - loss: 0.4791 - categorical_crossentropy: 0.0279 - acc: 0.9919 - val_loss: 2.9196 - val_categorical_crossentropy: 2.4687 - val_acc: 0.6144\n",
      "Epoch 202/250\n",
      "50000/50000 [==============================] - 20s 396us/sample - loss: 0.4847 - categorical_crossentropy: 0.0342 - acc: 0.9894 - val_loss: 3.2020 - val_categorical_crossentropy: 2.7517 - val_acc: 0.5949\n",
      "Epoch 203/250\n",
      "50000/50000 [==============================] - 20s 397us/sample - loss: 0.4835 - categorical_crossentropy: 0.0335 - acc: 0.9902 - val_loss: 3.0488 - val_categorical_crossentropy: 2.5991 - val_acc: 0.6194\n",
      "Epoch 204/250\n",
      "50000/50000 [==============================] - 20s 396us/sample - loss: 0.4712 - categorical_crossentropy: 0.0218 - acc: 0.9939 - val_loss: 2.8086 - val_categorical_crossentropy: 2.3596 - val_acc: 0.6359\n",
      "Epoch 205/250\n",
      "50000/50000 [==============================] - 20s 401us/sample - loss: 0.4723 - categorical_crossentropy: 0.0236 - acc: 0.9932 - val_loss: 2.9634 - val_categorical_crossentropy: 2.5150 - val_acc: 0.6009\n",
      "Epoch 206/250\n",
      "50000/50000 [==============================] - 20s 398us/sample - loss: 0.4719 - categorical_crossentropy: 0.0238 - acc: 0.9934 - val_loss: 2.8572 - val_categorical_crossentropy: 2.4094 - val_acc: 0.6326\n",
      "Epoch 207/250\n",
      "50000/50000 [==============================] - 20s 397us/sample - loss: 0.4681 - categorical_crossentropy: 0.0206 - acc: 0.9947 - val_loss: 2.8070 - val_categorical_crossentropy: 2.3599 - val_acc: 0.6349\n",
      "Epoch 208/250\n",
      "50000/50000 [==============================] - 20s 397us/sample - loss: 0.4669 - categorical_crossentropy: 0.0201 - acc: 0.9943 - val_loss: 2.8074 - val_categorical_crossentropy: 2.3609 - val_acc: 0.6299\n",
      "Epoch 209/250\n",
      "50000/50000 [==============================] - 20s 397us/sample - loss: 0.4648 - categorical_crossentropy: 0.0187 - acc: 0.9950 - val_loss: 2.8317 - val_categorical_crossentropy: 2.3859 - val_acc: 0.6357\n",
      "Epoch 210/250\n",
      "50000/50000 [==============================] - 20s 397us/sample - loss: 0.4615 - categorical_crossentropy: 0.0160 - acc: 0.9958 - val_loss: 2.9264 - val_categorical_crossentropy: 2.4812 - val_acc: 0.6220\n",
      "Epoch 211/250\n",
      "50000/50000 [==============================] - 20s 398us/sample - loss: 0.4637 - categorical_crossentropy: 0.0188 - acc: 0.9945 - val_loss: 2.8222 - val_categorical_crossentropy: 2.3777 - val_acc: 0.6216\n",
      "Epoch 212/250\n",
      "50000/50000 [==============================] - 20s 399us/sample - loss: 0.4595 - categorical_crossentropy: 0.0153 - acc: 0.9960 - val_loss: 3.1184 - val_categorical_crossentropy: 2.6745 - val_acc: 0.6091\n",
      "Epoch 213/250\n",
      "50000/50000 [==============================] - 20s 398us/sample - loss: 0.4626 - categorical_crossentropy: 0.0191 - acc: 0.9948 - val_loss: 2.9562 - val_categorical_crossentropy: 2.5130 - val_acc: 0.6255\n",
      "Epoch 214/250\n",
      "50000/50000 [==============================] - 20s 397us/sample - loss: 0.4586 - categorical_crossentropy: 0.0157 - acc: 0.9960 - val_loss: 2.7186 - val_categorical_crossentropy: 2.2760 - val_acc: 0.6402\n",
      "Epoch 215/250\n",
      "50000/50000 [==============================] - 20s 397us/sample - loss: 0.4584 - categorical_crossentropy: 0.0161 - acc: 0.9957 - val_loss: 3.1454 - val_categorical_crossentropy: 2.7034 - val_acc: 0.6097\n",
      "Epoch 216/250\n",
      "50000/50000 [==============================] - 20s 397us/sample - loss: 0.4571 - categorical_crossentropy: 0.0155 - acc: 0.9961 - val_loss: 2.9969 - val_categorical_crossentropy: 2.5556 - val_acc: 0.6176\n",
      "Epoch 217/250\n",
      "50000/50000 [==============================] - 20s 398us/sample - loss: 0.4582 - categorical_crossentropy: 0.0173 - acc: 0.9952 - val_loss: 2.7784 - val_categorical_crossentropy: 2.3378 - val_acc: 0.6338\n",
      "Epoch 218/250\n",
      "50000/50000 [==============================] - 20s 397us/sample - loss: 0.4612 - categorical_crossentropy: 0.0208 - acc: 0.9940 - val_loss: 2.7798 - val_categorical_crossentropy: 2.3397 - val_acc: 0.6227\n",
      "Epoch 219/250\n",
      "50000/50000 [==============================] - 20s 396us/sample - loss: 0.4576 - categorical_crossentropy: 0.0178 - acc: 0.9951 - val_loss: 2.9904 - val_categorical_crossentropy: 2.5510 - val_acc: 0.6193\n",
      "Epoch 220/250\n",
      "50000/50000 [==============================] - 20s 399us/sample - loss: 0.4533 - categorical_crossentropy: 0.0142 - acc: 0.9963 - val_loss: 2.7895 - val_categorical_crossentropy: 2.3507 - val_acc: 0.6329\n",
      "Epoch 221/250\n",
      "50000/50000 [==============================] - 20s 401us/sample - loss: 0.4610 - categorical_crossentropy: 0.0226 - acc: 0.9933 - val_loss: 2.9167 - val_categorical_crossentropy: 2.4785 - val_acc: 0.6225\n",
      "Epoch 222/250\n",
      "50000/50000 [==============================] - 20s 397us/sample - loss: 0.4598 - categorical_crossentropy: 0.0219 - acc: 0.9938 - val_loss: 3.0843 - val_categorical_crossentropy: 2.6467 - val_acc: 0.6088\n",
      "Epoch 223/250\n",
      "50000/50000 [==============================] - 20s 398us/sample - loss: 0.4551 - categorical_crossentropy: 0.0179 - acc: 0.9950 - val_loss: 2.7902 - val_categorical_crossentropy: 2.3532 - val_acc: 0.6428\n",
      "Epoch 224/250\n",
      "50000/50000 [==============================] - 20s 398us/sample - loss: 0.4562 - categorical_crossentropy: 0.0196 - acc: 0.9944 - val_loss: 2.9535 - val_categorical_crossentropy: 2.5172 - val_acc: 0.6312\n",
      "Epoch 225/250\n",
      "50000/50000 [==============================] - 20s 398us/sample - loss: 0.4596 - categorical_crossentropy: 0.0236 - acc: 0.9928 - val_loss: 2.9628 - val_categorical_crossentropy: 2.5272 - val_acc: 0.6304\n",
      "Epoch 226/250\n",
      "50000/50000 [==============================] - 20s 398us/sample - loss: 0.4517 - categorical_crossentropy: 0.0163 - acc: 0.9957 - val_loss: 2.9172 - val_categorical_crossentropy: 2.4821 - val_acc: 0.6171\n",
      "Epoch 227/250\n",
      "50000/50000 [==============================] - 20s 399us/sample - loss: 0.4543 - categorical_crossentropy: 0.0196 - acc: 0.9946 - val_loss: 2.9958 - val_categorical_crossentropy: 2.5614 - val_acc: 0.6213\n",
      "Epoch 228/250\n",
      "50000/50000 [==============================] - 20s 398us/sample - loss: 0.4533 - categorical_crossentropy: 0.0191 - acc: 0.9947 - val_loss: 2.8740 - val_categorical_crossentropy: 2.4401 - val_acc: 0.6348\n",
      "Epoch 229/250\n",
      "50000/50000 [==============================] - 20s 399us/sample - loss: 0.4517 - categorical_crossentropy: 0.0182 - acc: 0.9949 - val_loss: 2.8141 - val_categorical_crossentropy: 2.3809 - val_acc: 0.6392\n",
      "Epoch 230/250\n",
      "50000/50000 [==============================] - 20s 398us/sample - loss: 0.4512 - categorical_crossentropy: 0.0183 - acc: 0.9949 - val_loss: 2.8537 - val_categorical_crossentropy: 2.4211 - val_acc: 0.6255\n",
      "Epoch 231/250\n",
      "50000/50000 [==============================] - 20s 398us/sample - loss: 0.4505 - categorical_crossentropy: 0.0182 - acc: 0.9950 - val_loss: 2.8124 - val_categorical_crossentropy: 2.3805 - val_acc: 0.6288\n",
      "Epoch 232/250\n",
      "50000/50000 [==============================] - 20s 399us/sample - loss: 0.4474 - categorical_crossentropy: 0.0157 - acc: 0.9961 - val_loss: 2.9178 - val_categorical_crossentropy: 2.4865 - val_acc: 0.6263\n",
      "Epoch 233/250\n",
      "50000/50000 [==============================] - 20s 400us/sample - loss: 0.4462 - categorical_crossentropy: 0.0151 - acc: 0.9965 - val_loss: 2.7443 - val_categorical_crossentropy: 2.3136 - val_acc: 0.6380\n",
      "Epoch 234/250\n",
      "50000/50000 [==============================] - 20s 399us/sample - loss: 0.4429 - categorical_crossentropy: 0.0125 - acc: 0.9967 - val_loss: 2.8769 - val_categorical_crossentropy: 2.4468 - val_acc: 0.6421\n",
      "Epoch 235/250\n",
      "50000/50000 [==============================] - 20s 398us/sample - loss: 0.4438 - categorical_crossentropy: 0.0140 - acc: 0.9963 - val_loss: 3.0257 - val_categorical_crossentropy: 2.5963 - val_acc: 0.6164\n",
      "Epoch 236/250\n",
      "50000/50000 [==============================] - 20s 402us/sample - loss: 0.4417 - categorical_crossentropy: 0.0126 - acc: 0.9968 - val_loss: 2.8509 - val_categorical_crossentropy: 2.4221 - val_acc: 0.6278\n",
      "Epoch 237/250\n",
      "50000/50000 [==============================] - 20s 401us/sample - loss: 0.4405 - categorical_crossentropy: 0.0120 - acc: 0.9967 - val_loss: 2.9599 - val_categorical_crossentropy: 2.5317 - val_acc: 0.6286\n",
      "Epoch 238/250\n",
      "50000/50000 [==============================] - 20s 399us/sample - loss: 0.4371 - categorical_crossentropy: 0.0093 - acc: 0.9980 - val_loss: 2.8054 - val_categorical_crossentropy: 2.3778 - val_acc: 0.6417\n",
      "Epoch 239/250\n",
      "50000/50000 [==============================] - 20s 399us/sample - loss: 0.4374 - categorical_crossentropy: 0.0102 - acc: 0.9975 - val_loss: 2.8287 - val_categorical_crossentropy: 2.4018 - val_acc: 0.6372\n",
      "Epoch 240/250\n",
      "50000/50000 [==============================] - 20s 398us/sample - loss: 0.4351 - categorical_crossentropy: 0.0085 - acc: 0.9984 - val_loss: 2.7986 - val_categorical_crossentropy: 2.3723 - val_acc: 0.6431\n",
      "Epoch 241/250\n",
      "50000/50000 [==============================] - 20s 399us/sample - loss: 0.4348 - categorical_crossentropy: 0.0089 - acc: 0.9981 - val_loss: 2.8416 - val_categorical_crossentropy: 2.4160 - val_acc: 0.6415\n",
      "Epoch 242/250\n",
      "50000/50000 [==============================] - 20s 398us/sample - loss: 0.4351 - categorical_crossentropy: 0.0098 - acc: 0.9975 - val_loss: 2.7866 - val_categorical_crossentropy: 2.3616 - val_acc: 0.6460\n",
      "Epoch 243/250\n",
      "50000/50000 [==============================] - 20s 399us/sample - loss: 0.4394 - categorical_crossentropy: 0.0148 - acc: 0.9959 - val_loss: 2.7941 - val_categorical_crossentropy: 2.3697 - val_acc: 0.6294\n",
      "Epoch 244/250\n",
      "50000/50000 [==============================] - 20s 398us/sample - loss: 0.4353 - categorical_crossentropy: 0.0112 - acc: 0.9971 - val_loss: 2.8485 - val_categorical_crossentropy: 2.4248 - val_acc: 0.6442\n",
      "Epoch 245/250\n",
      "50000/50000 [==============================] - 20s 398us/sample - loss: 0.4383 - categorical_crossentropy: 0.0149 - acc: 0.9960 - val_loss: 2.9932 - val_categorical_crossentropy: 2.5701 - val_acc: 0.6229\n",
      "Epoch 246/250\n",
      "50000/50000 [==============================] - 20s 398us/sample - loss: 0.4349 - categorical_crossentropy: 0.0121 - acc: 0.9970 - val_loss: 2.9325 - val_categorical_crossentropy: 2.5100 - val_acc: 0.6179\n",
      "Epoch 247/250\n",
      "50000/50000 [==============================] - 20s 399us/sample - loss: 0.4328 - categorical_crossentropy: 0.0106 - acc: 0.9976 - val_loss: 3.0139 - val_categorical_crossentropy: 2.5920 - val_acc: 0.6197\n",
      "Epoch 248/250\n",
      "50000/50000 [==============================] - 20s 399us/sample - loss: 0.4325 - categorical_crossentropy: 0.0110 - acc: 0.9972 - val_loss: 2.8047 - val_categorical_crossentropy: 2.3835 - val_acc: 0.6393\n",
      "Epoch 249/250\n",
      "50000/50000 [==============================] - 20s 399us/sample - loss: 0.4295 - categorical_crossentropy: 0.0086 - acc: 0.9981 - val_loss: 2.8337 - val_categorical_crossentropy: 2.4131 - val_acc: 0.6390\n",
      "Epoch 250/250\n",
      "50000/50000 [==============================] - 20s 399us/sample - loss: 0.4270 - categorical_crossentropy: 0.0067 - acc: 0.9987 - val_loss: 2.8758 - val_categorical_crossentropy: 2.4558 - val_acc: 0.6323\n"
     ]
    }
   ],
   "source": [
    "\"\"\"def scheduler(epoch):\n",
    "  if epoch >=250:\n",
    "    return 1e-4\n",
    "  else:\n",
    "    return 1e-3\n",
    "\n",
    "callback = tf.keras.callbacks.LearningRateScheduler(scheduler)\"\"\"\n",
    "history=model.fit(x_train, y_train,\n",
    "              batch_size=batch_size,\n",
    "              epochs=250,\n",
    "              validation_data=(x_test, y_test),\n",
    "              shuffle=True)\n",
    "#history=model.fit(x_train, y_train,\n",
    "#              batch_size=batch_size,\n",
    "#              epochs=250,\n",
    "#              validation_data=(x_test, y_test),\n",
    "#              shuffle=True)"
   ]
  },
  {
   "cell_type": "code",
   "execution_count": 11,
   "metadata": {},
   "outputs": [
    {
     "name": "stdout",
     "output_type": "stream",
     "text": [
      "loss_increase_lr.ipynb\tmodel1e_3\r\n"
     ]
    }
   ],
   "source": [
    "!ls"
   ]
  },
  {
   "cell_type": "code",
   "execution_count": 10,
   "metadata": {},
   "outputs": [],
   "source": [
    "model.save('model1e_3')"
   ]
  },
  {
   "cell_type": "code",
   "execution_count": 12,
   "metadata": {},
   "outputs": [
    {
     "data": {
      "image/png": "[encoded data removed]",
      "text/plain": [
       "<Figure size 432x288 with 1 Axes>"
      ]
     },
     "metadata": {
      "needs_background": "light"
     },
     "output_type": "display_data"
    }
   ],
   "source": [
    "plt.plot(range(0,250), history.history['val_loss'], '-ok',c='g');\n",
    "plt.plot(range(0,250), history.history['loss'], '-ok',c='r');"
   ]
  },
  {
   "cell_type": "code",
   "execution_count": 17,
   "metadata": {},
   "outputs": [
    {
     "data": {
      "image/png": "[encoded data removed]",
      "text/plain": [
       "<Figure size 432x288 with 1 Axes>"
      ]
     },
     "metadata": {
      "needs_background": "light"
     },
     "output_type": "display_data"
    }
   ],
   "source": [
    "plt.plot(range(0,250), history.history['val_acc'], '-ok',c='g');\n",
    "plt.plot(range(0,250), history.history['acc'], '-ok',c='r');"
   ]
  },
  {
   "cell_type": "code",
   "execution_count": 18,
   "metadata": {},
   "outputs": [
    {
     "name": "stdout",
     "output_type": "stream",
     "text": [
      "(50000,)\n"
     ]
    }
   ],
   "source": [
    "pred=model.predict(x_train)\n",
    "max_probs=pred[np.arange(len(pred)),np.argmax(pred,axis=-1)]\n",
    "print(max_probs.shape)"
   ]
  },
  {
   "cell_type": "code",
   "execution_count": 19,
   "metadata": {},
   "outputs": [
    {
     "name": "stdout",
     "output_type": "stream",
     "text": [
      "[0.99990225 0.9999993  0.99999774 ... 0.99999726 1.         0.9999981 ]\n"
     ]
    }
   ],
   "source": [
    "print(max_probs)"
   ]
  },
  {
   "cell_type": "code",
   "execution_count": 21,
   "metadata": {},
   "outputs": [
    {
     "data": {
      "text/plain": [
       "(array([0.0000e+00, 2.0000e+00, 5.0000e+00, 3.0000e+00, 2.0000e+00,\n",
       "        5.0000e+00, 5.0000e+00, 3.0000e+00, 4.0000e+00, 1.0000e+00,\n",
       "        5.0000e+00, 2.0000e+00, 4.0000e+00, 3.0000e+00, 5.0000e+00,\n",
       "        5.0000e+00, 4.0000e+00, 4.0000e+00, 5.0000e+00, 7.0000e+00,\n",
       "        3.0000e+00, 3.0000e+00, 2.0000e+00, 5.0000e+00, 6.0000e+00,\n",
       "        5.0000e+00, 3.0000e+00, 3.0000e+00, 0.0000e+00, 7.0000e+00,\n",
       "        3.0000e+00, 3.0000e+00, 5.0000e+00, 6.0000e+00, 4.0000e+00,\n",
       "        2.0000e+00, 6.0000e+00, 2.0000e+00, 6.0000e+00, 5.0000e+00,\n",
       "        8.0000e+00, 4.0000e+00, 6.0000e+00, 9.0000e+00, 3.0000e+00,\n",
       "        6.0000e+00, 5.0000e+00, 4.0000e+00, 5.0000e+00, 1.5000e+01,\n",
       "        1.3000e+01, 8.0000e+00, 6.0000e+00, 1.2000e+01, 8.0000e+00,\n",
       "        1.1000e+01, 1.5000e+01, 1.3000e+01, 1.2000e+01, 1.3000e+01,\n",
       "        1.7000e+01, 1.4000e+01, 1.5000e+01, 1.5000e+01, 1.9000e+01,\n",
       "        2.2000e+01, 1.8000e+01, 1.8000e+01, 2.5000e+01, 2.2000e+01,\n",
       "        2.2000e+01, 1.8000e+01, 2.8000e+01, 1.9000e+01, 2.7000e+01,\n",
       "        3.4000e+01, 2.7000e+01, 3.4000e+01, 4.4000e+01, 4.9000e+01,\n",
       "        4.4000e+01, 4.4000e+01, 7.4000e+01, 5.3000e+01, 6.3000e+01,\n",
       "        7.3000e+01, 8.9000e+01, 1.0000e+02, 1.2800e+02, 1.2900e+02,\n",
       "        1.4200e+02, 1.9700e+02, 1.7700e+02, 3.0500e+02, 3.4600e+02,\n",
       "        4.9100e+02, 6.9300e+02, 1.0450e+03, 2.2910e+03, 4.2502e+04]),\n",
       " array([0.8  , 0.802, 0.804, 0.806, 0.808, 0.81 , 0.812, 0.814, 0.816,\n",
       "        0.818, 0.82 , 0.822, 0.824, 0.826, 0.828, 0.83 , 0.832, 0.834,\n",
       "        0.836, 0.838, 0.84 , 0.842, 0.844, 0.846, 0.848, 0.85 , 0.852,\n",
       "        0.854, 0.856, 0.858, 0.86 , 0.862, 0.864, 0.866, 0.868, 0.87 ,\n",
       "        0.872, 0.874, 0.876, 0.878, 0.88 , 0.882, 0.884, 0.886, 0.888,\n",
       "        0.89 , 0.892, 0.894, 0.896, 0.898, 0.9  , 0.902, 0.904, 0.906,\n",
       "        0.908, 0.91 , 0.912, 0.914, 0.916, 0.918, 0.92 , 0.922, 0.924,\n",
       "        0.926, 0.928, 0.93 , 0.932, 0.934, 0.936, 0.938, 0.94 , 0.942,\n",
       "        0.944, 0.946, 0.948, 0.95 , 0.952, 0.954, 0.956, 0.958, 0.96 ,\n",
       "        0.962, 0.964, 0.966, 0.968, 0.97 , 0.972, 0.974, 0.976, 0.978,\n",
       "        0.98 , 0.982, 0.984, 0.986, 0.988, 0.99 , 0.992, 0.994, 0.996,\n",
       "        0.998, 1.   ], dtype=float32),\n",
       " <a list of 100 Patch objects>)"
      ]
     },
     "execution_count": 21,
     "metadata": {},
     "output_type": "execute_result"
    },
    {
     "data": {
      "image/png": "[encoded data removed]",
      "text/plain": [
       "<Figure size 432x288 with 1 Axes>"
      ]
     },
     "metadata": {
      "needs_background": "light"
     },
     "output_type": "display_data"
    }
   ],
   "source": [
    "plt.hist(max_probs,bins=100,range=(.8,1))"
   ]
  },
  {
   "cell_type": "code",
   "execution_count": 22,
   "metadata": {},
   "outputs": [
    {
     "name": "stdout",
     "output_type": "stream",
     "text": [
      "(10000,)\n"
     ]
    }
   ],
   "source": [
    "pred_test=model.predict(x_test)\n",
    "max_probs_test=pred_test[np.arange(len(pred_test)),np.argmax(pred_test,axis=-1)]\n",
    "print(max_probs_test.shape)"
   ]
  },
  {
   "cell_type": "code",
   "execution_count": 26,
   "metadata": {},
   "outputs": [
    {
     "data": {
      "text/plain": [
       "(array([  44.,   54.,   40.,   45.,   58.,   43.,   40.,   44.,   49.,\n",
       "          47.,   50.,   43.,   54.,   56.,   52.,   46.,   57.,   55.,\n",
       "          66.,   59.,   52.,   58.,   58.,   42.,   65.,   71.,   60.,\n",
       "          68.,   70.,   56.,   70.,   64.,   59.,   69.,   67.,   81.,\n",
       "          85.,   85.,   91.,   86.,  103.,  104.,  144.,  157.,  185.,\n",
       "         202.,  243.,  309.,  520., 5432.]),\n",
       " array([0.5 , 0.51, 0.52, 0.53, 0.54, 0.55, 0.56, 0.57, 0.58, 0.59, 0.6 ,\n",
       "        0.61, 0.62, 0.63, 0.64, 0.65, 0.66, 0.67, 0.68, 0.69, 0.7 , 0.71,\n",
       "        0.72, 0.73, 0.74, 0.75, 0.76, 0.77, 0.78, 0.79, 0.8 , 0.81, 0.82,\n",
       "        0.83, 0.84, 0.85, 0.86, 0.87, 0.88, 0.89, 0.9 , 0.91, 0.92, 0.93,\n",
       "        0.94, 0.95, 0.96, 0.97, 0.98, 0.99, 1.  ], dtype=float32),\n",
       " <a list of 50 Patch objects>)"
      ]
     },
     "execution_count": 26,
     "metadata": {},
     "output_type": "execute_result"
    },
    {
     "data": {
      "image/png": "[encoded data removed]",
      "text/plain": [
       "<Figure size 432x288 with 1 Axes>"
      ]
     },
     "metadata": {
      "needs_background": "light"
     },
     "output_type": "display_data"
    }
   ],
   "source": [
    "plt.hist(max_probs_test,bins=50,range=(0.5,1))"
   ]
  },
  {
   "cell_type": "code",
   "execution_count": 27,
   "metadata": {},
   "outputs": [
    {
     "data": {
      "text/plain": [
       "(10000, 32, 32, 3)"
      ]
     },
     "execution_count": 27,
     "metadata": {},
     "output_type": "execute_result"
    }
   ],
   "source": [
    "x_test.shape"
   ]
  },
  {
   "cell_type": "code",
   "execution_count": 29,
   "metadata": {},
   "outputs": [],
   "source": [
    "x_rand=np.random.normal(0,1,(10000,32,32,3))"
   ]
  },
  {
   "cell_type": "code",
   "execution_count": 31,
   "metadata": {},
   "outputs": [
    {
     "name": "stdout",
     "output_type": "stream",
     "text": [
      "[[[[ 1.09517696e-01  1.56485466e+00  8.66964608e-01]\n",
      "   [-1.16017337e+00  2.33505885e-01  9.99357227e-01]\n",
      "   [-1.97035792e-01 -8.93394987e-01 -5.58100751e-01]\n",
      "   ...\n",
      "   [ 1.06889197e+00 -5.23206474e-01  1.01043813e+00]\n",
      "   [-6.95714044e-01 -1.16289326e+00  1.56653783e-01]\n",
      "   [ 2.29737405e+00 -2.03422157e+00 -3.20804863e-01]]\n",
      "\n",
      "  [[-4.13051627e-01  9.21423678e-01  2.31958067e-01]\n",
      "   [-4.69828105e-01 -5.12926089e-01 -4.58648824e-01]\n",
      "   [ 1.60591508e-02  1.94651361e+00  2.02450637e-01]\n",
      "   ...\n",
      "   [ 8.61536951e-02 -1.38220446e+00  1.47374557e+00]\n",
      "   [-4.74167025e-01  6.43053087e-01 -2.99909922e-01]\n",
      "   [ 2.28132810e-01 -6.53317226e-01 -1.57362222e+00]]\n",
      "\n",
      "  [[-5.43797153e-01 -1.53745695e-01 -1.75267024e+00]\n",
      "   [ 5.19216964e-01  7.30805090e-01 -1.72227321e-02]\n",
      "   [-1.33736283e+00  9.26355267e-01  1.55609315e+00]\n",
      "   ...\n",
      "   [ 1.11204167e+00  2.71224328e-01  1.66712931e+00]\n",
      "   [-1.43882385e+00 -5.05887390e-01  6.05147454e-01]\n",
      "   [ 2.96142753e-01 -1.10255777e-01  4.00254892e-01]]\n",
      "\n",
      "  ...\n",
      "\n",
      "  [[-8.27619482e-02  4.02315121e-01 -5.02708723e-03]\n",
      "   [-9.19253283e-01 -1.30342658e+00 -8.71547625e-01]\n",
      "   [ 5.73162551e-01  8.50619699e-03  7.76502843e-01]\n",
      "   ...\n",
      "   [ 1.09750899e+00 -7.80578995e-01 -9.18692214e-01]\n",
      "   [-8.59015539e-01  1.78839964e+00  1.24782824e+00]\n",
      "   [ 3.46835589e-01  7.39088489e-01  2.89319424e-01]]\n",
      "\n",
      "  [[ 1.51619126e+00  1.61261579e+00 -1.67648248e-01]\n",
      "   [ 1.28230368e+00  7.98257404e-01  7.07660189e-01]\n",
      "   [ 1.55755087e+00 -9.54424050e-02 -3.94941252e-01]\n",
      "   ...\n",
      "   [-1.23054005e-01 -2.33638709e-01  9.32881935e-01]\n",
      "   [-1.73900732e-01  1.01724023e+00  4.48066838e-01]\n",
      "   [ 8.35227960e-01 -6.82389513e-01 -9.17515492e-01]]\n",
      "\n",
      "  [[-8.20738815e-02  1.87421076e+00 -1.93415473e+00]\n",
      "   [-1.53497228e-02  6.20069058e-01  1.55503236e+00]\n",
      "   [-1.69841246e-01 -1.61721202e-01  1.00375613e-01]\n",
      "   ...\n",
      "   [-8.27590052e-01 -8.91122352e-01 -5.83237857e-01]\n",
      "   [-1.15922961e+00 -8.64795913e-01 -1.38031803e+00]\n",
      "   [ 5.35914358e-01 -1.80700687e+00  6.09549017e-02]]]\n",
      "\n",
      "\n",
      " [[[-5.70932909e-01 -1.26056967e+00  1.38594274e+00]\n",
      "   [-1.58101931e+00  1.05529932e+00 -4.19311042e-01]\n",
      "   [-2.56924173e-05  1.60679680e-01 -5.13936405e-01]\n",
      "   ...\n",
      "   [-4.87595138e-01 -3.05131512e+00  6.28600645e-02]\n",
      "   [ 1.18347167e+00  5.35391824e-01  5.97475656e-02]\n",
      "   [-1.63255993e-01  5.21421411e-01 -5.92625635e-01]]\n",
      "\n",
      "  [[ 6.27418887e-02  1.72842927e+00 -8.42878627e-01]\n",
      "   [-1.09864599e+00 -4.98431108e-01 -3.22399177e-01]\n",
      "   [-2.53836131e-01 -2.10338877e+00 -3.67769519e-01]\n",
      "   ...\n",
      "   [ 1.42324293e+00  5.63452926e-01 -3.73893340e-01]\n",
      "   [-1.47222007e+00 -1.53421831e+00  7.27011375e-01]\n",
      "   [-1.20444704e+00 -1.14041859e-01  1.13289280e+00]]\n",
      "\n",
      "  [[-9.57272941e-01  1.35845709e+00 -1.59670785e+00]\n",
      "   [ 4.47232295e-01 -1.61420200e+00 -2.30202925e-01]\n",
      "   [-1.23755744e+00  5.10384585e-01  1.48744625e+00]\n",
      "   ...\n",
      "   [-3.78857360e-01  1.37939195e+00 -3.24819958e-01]\n",
      "   [-1.44772821e+00 -1.60274776e+00  5.88752072e-01]\n",
      "   [-2.43785142e-01 -1.49061431e+00  1.16604589e+00]]\n",
      "\n",
      "  ...\n",
      "\n",
      "  [[ 4.73173536e-01  4.82382192e-01  1.15394791e+00]\n",
      "   [ 3.96612399e-01  2.34231601e-02  9.19971273e-01]\n",
      "   [ 3.40625775e-01 -8.51921980e-01 -6.57458063e-01]\n",
      "   ...\n",
      "   [ 7.19702355e-01  5.36038115e-01  2.01392577e+00]\n",
      "   [-2.67012678e-01 -2.70409528e-01 -3.28782429e-01]\n",
      "   [-9.05746046e-01  1.02502146e+00 -3.46428853e-01]]\n",
      "\n",
      "  [[ 2.78950592e-01  5.87505989e-01  5.21403252e-01]\n",
      "   [-4.76755867e-01  3.97862193e-01  3.21414882e-01]\n",
      "   [-3.25629786e-01  2.50841467e-02 -6.28590006e-01]\n",
      "   ...\n",
      "   [ 1.27223183e-02 -8.30943094e-01 -8.87151876e-02]\n",
      "   [ 1.34843503e+00 -8.52076721e-01  1.28240183e+00]\n",
      "   [-1.47771202e-01  2.20208850e+00  1.38385924e-01]]\n",
      "\n",
      "  [[ 1.16769954e+00 -2.55070468e-01 -2.91551572e-01]\n",
      "   [-2.51843267e-01  7.30182559e-01  3.94357250e-01]\n",
      "   [-1.73897223e-01  2.05277009e+00 -1.75043352e+00]\n",
      "   ...\n",
      "   [-1.11173068e+00  1.25228206e-01  2.12103737e+00]\n",
      "   [ 4.89097732e-01  2.79910141e-01  7.24135610e-01]\n",
      "   [ 7.12641430e-01  1.00856731e+00  2.24512151e+00]]]\n",
      "\n",
      "\n",
      " [[[-8.71867868e-01  7.81739031e-01  5.70046852e-01]\n",
      "   [-1.17626185e+00  1.80018941e-01 -1.90073918e+00]\n",
      "   [ 5.27913038e-01  4.32995563e-01 -1.06575275e+00]\n",
      "   ...\n",
      "   [-1.01861707e+00  6.89403828e-01  1.61768446e+00]\n",
      "   [-2.01777205e+00  1.45870551e+00 -6.52879355e-01]\n",
      "   [-5.56442178e-01  4.55652687e-02 -1.96373055e+00]]\n",
      "\n",
      "  [[-1.67390839e+00 -3.77620263e-01  1.51626009e+00]\n",
      "   [-1.06777534e+00 -1.16928022e+00  1.10140724e+00]\n",
      "   [-1.26412160e+00  1.34931191e+00  1.43091380e-01]\n",
      "   ...\n",
      "   [ 1.09417319e+00  7.71873814e-01  1.48562242e+00]\n",
      "   [ 4.48482118e-01  6.14507108e-02 -2.24257147e-02]\n",
      "   [-6.22055105e-02  8.30375452e-01  4.01036908e-01]]\n",
      "\n",
      "  [[ 1.83424544e+00  9.33541056e-01  6.61802361e-01]\n",
      "   [-1.16113834e+00 -8.21346858e-01 -6.51507217e-01]\n",
      "   [ 6.35912834e-01  9.33299208e-01  3.99042667e-01]\n",
      "   ...\n",
      "   [-1.29482357e+00 -5.06831441e-01 -3.21698401e-01]\n",
      "   [ 2.58109763e-01  1.10828577e-01  1.84484307e-01]\n",
      "   [ 1.22925424e+00  5.21499902e-01 -6.69153348e-01]]\n",
      "\n",
      "  ...\n",
      "\n",
      "  [[ 1.89926897e-01  7.12847326e-01  4.91456055e-01]\n",
      "   [-2.16420718e+00 -7.41225583e-02  4.79334681e-01]\n",
      "   [ 3.06198907e-01  1.99954889e+00  1.30904709e+00]\n",
      "   ...\n",
      "   [-2.06567283e-01 -7.17549863e-01 -1.40802352e-01]\n",
      "   [ 3.84319198e-01 -1.04936944e+00 -2.40467930e+00]\n",
      "   [-1.31767074e+00 -3.65525786e-01  2.08042579e-01]]\n",
      "\n",
      "  [[ 1.53745585e-01 -1.06515396e+00  5.65794978e-01]\n",
      "   [ 6.25940703e-01 -2.26607385e+00  1.29363615e+00]\n",
      "   [-2.35261409e-02  2.88495466e-01 -3.99525094e-01]\n",
      "   ...\n",
      "   [-1.54738550e+00  3.94494858e-01 -1.08863328e-01]\n",
      "   [-3.93422772e-01 -2.72926291e+00 -5.88892799e-01]\n",
      "   [ 7.84924075e-01  5.73090319e-01 -7.14569015e-01]]\n",
      "\n",
      "  [[-6.12822243e-01 -1.50632085e+00 -3.17852509e-01]\n",
      "   [-4.47739439e-01  8.37903490e-01 -2.45650951e+00]\n",
      "   [-2.32693505e-01 -1.40612915e+00  1.07302643e+00]\n",
      "   ...\n",
      "   [-1.04078008e+00 -1.30469146e+00  3.71915738e-01]\n",
      "   [-6.02355192e-01 -1.13479489e+00  9.90083719e-01]\n",
      "   [ 9.33187563e-01  1.78651102e-01 -1.14006996e-01]]]\n",
      "\n",
      "\n",
      " [[[ 4.56053286e-01  7.45435075e-01 -4.46711501e-01]\n",
      "   [ 1.53130575e+00  6.48572125e-01  1.53293375e+00]\n",
      "   [ 1.01038371e+00 -1.74340950e+00  7.89208582e-03]\n",
      "   ...\n",
      "   [-7.36814399e-01  3.24596256e-01  2.32897623e+00]\n",
      "   [-7.86708044e-01  1.10727888e+00  1.82514712e-01]\n",
      "   [-6.08111967e-01 -4.25319399e-01  1.88404427e-01]]\n",
      "\n",
      "  [[-9.30435509e-02 -6.07388173e-01 -6.10071637e-01]\n",
      "   [ 2.42329770e-03  1.36580485e+00 -3.27662280e-01]\n",
      "   [ 9.97957116e-02 -1.56107522e+00 -3.65624549e-01]\n",
      "   ...\n",
      "   [ 2.56113666e+00  2.88912624e+00 -5.20680784e-01]\n",
      "   [-4.23213540e-01  1.61165630e+00  9.78411908e-01]\n",
      "   [-8.92909714e-01  1.17656247e+00 -4.01690372e-01]]\n",
      "\n",
      "  [[ 5.80643597e-01  1.80229768e-01  7.51239672e-01]\n",
      "   [ 9.15148712e-01  1.18743912e-01  6.35010751e-01]\n",
      "   [-1.89111812e+00 -5.43576773e-02  1.30665539e+00]\n",
      "   ...\n",
      "   [ 3.95664695e-01  2.83988121e-01 -1.90468526e+00]\n",
      "   [-1.90809487e-03  5.96987993e-01 -3.39049691e-02]\n",
      "   [-1.14446539e+00 -3.96896004e-01  4.37964454e-01]]\n",
      "\n",
      "  ...\n",
      "\n",
      "  [[ 1.55724357e+00  2.65550977e-02 -3.68811259e-01]\n",
      "   [-7.33150696e-01  2.35556612e-01 -6.73347472e-01]\n",
      "   [ 2.07216914e-01  2.40515914e-01 -7.56304628e-01]\n",
      "   ...\n",
      "   [ 1.45096321e+00 -4.31252872e-01 -3.40643837e-01]\n",
      "   [ 6.94038095e-01 -2.14776006e-01  1.63005312e+00]\n",
      "   [-1.60324425e+00 -1.01397651e+00  7.72555796e-02]]\n",
      "\n",
      "  [[-1.15115322e+00  1.65380286e+00  1.30560282e+00]\n",
      "   [ 1.70689822e+00 -1.68378310e+00  1.82268245e-01]\n",
      "   [-3.97645289e-01  3.69701390e-01 -8.05492110e-01]\n",
      "   ...\n",
      "   [-1.57559665e-01 -1.89935082e+00 -6.78316201e-01]\n",
      "   [-2.10779570e+00 -8.96139800e-01  9.60601538e-01]\n",
      "   [ 5.14793086e-01  1.00809924e+00  1.19208926e+00]]\n",
      "\n",
      "  [[ 3.53317885e-01 -2.54257238e+00  2.92761084e-01]\n",
      "   [-4.61952070e-01  2.65476806e-01 -4.40908117e-01]\n",
      "   [-1.06884686e+00 -9.22421471e-01  7.90817125e-01]\n",
      "   ...\n",
      "   [ 8.49751493e-01  3.49323336e-01 -6.66494484e-01]\n",
      "   [-3.49717285e-02 -5.84428858e-01  2.24421058e+00]\n",
      "   [ 8.30692255e-01 -1.65526508e-01  1.61964738e-01]]]\n",
      "\n",
      "\n",
      " [[[ 1.28556904e+00  1.03858239e-01 -5.77264308e-01]\n",
      "   [ 2.04678097e+00 -2.65930983e-02  2.57145033e-01]\n",
      "   [-6.06225997e-02 -5.30836159e-01 -1.95455978e+00]\n",
      "   ...\n",
      "   [ 1.08488116e-01 -1.26386214e+00  9.16363861e-01]\n",
      "   [ 2.75322950e-01  8.45766294e-03 -5.01784094e-01]\n",
      "   [-6.93486403e-01  1.03989355e+00 -2.35897462e-02]]\n",
      "\n",
      "  [[ 9.25453812e-01 -2.08235328e+00  1.53974687e-02]\n",
      "   [-4.56428961e-02 -5.50197160e-01 -7.50950662e-01]\n",
      "   [ 1.00402067e-01  4.73252721e-01  4.33086480e-01]\n",
      "   ...\n",
      "   [-1.02479987e+00 -7.19031343e-01  9.74162707e-01]\n",
      "   [ 5.49031463e-01 -9.57665019e-01 -1.33837143e-02]\n",
      "   [ 1.54748386e+00  8.62404819e-01 -8.93262255e-01]]\n",
      "\n",
      "  [[-1.09070514e+00  1.82894378e+00  4.21676201e-01]\n",
      "   [ 1.14650787e+00  2.67281007e-01  1.59172724e+00]\n",
      "   [ 6.81700412e-01  1.16800384e+00  5.57967446e-01]\n",
      "   ...\n",
      "   [ 1.29437362e+00  3.77039640e-01 -1.58894821e+00]\n",
      "   [-8.52202633e-02  3.36150590e-01  1.59996763e-02]\n",
      "   [ 1.58630643e+00  3.31571620e-03  6.20677067e-01]]\n",
      "\n",
      "  ...\n",
      "\n",
      "  [[ 9.59074853e-03 -6.53837441e-01  1.74125364e-01]\n",
      "   [-4.72838970e-01 -9.23295959e-02  5.89123529e-01]\n",
      "   [ 4.88621954e-01 -8.44029454e-01  1.15605518e-01]\n",
      "   ...\n",
      "   [-9.65259517e-01  1.26005742e-01  3.98247294e-01]\n",
      "   [ 5.93664033e-01 -2.11339624e-01  5.04552388e-01]\n",
      "   [-2.39897641e-01  2.32085823e+00  8.33056799e-01]]\n",
      "\n",
      "  [[-1.26659488e+00  1.35671480e+00 -1.07065514e+00]\n",
      "   [ 1.49795854e-01  7.87547299e-01  8.68483129e-01]\n",
      "   [ 2.36654811e+00  4.51763343e-01  7.22112510e-01]\n",
      "   ...\n",
      "   [ 9.46905719e-02 -2.32753549e+00  6.03314061e-01]\n",
      "   [-4.57189269e-01  2.90296173e-01 -8.20123113e-01]\n",
      "   [ 5.37463062e-01  2.90226094e-01  2.25073736e+00]]\n",
      "\n",
      "  [[ 7.87737533e-01  4.28558700e-01 -6.33384504e-01]\n",
      "   [ 1.27592844e+00  4.89979728e-01 -1.41924545e+00]\n",
      "   [-1.05564973e+00 -1.57328609e+00 -1.56440086e+00]\n",
      "   ...\n",
      "   [-3.62017403e-01  1.45300399e-01 -3.64955557e-01]\n",
      "   [ 6.37444261e-01 -8.46019192e-01  1.30108533e+00]\n",
      "   [-3.59835347e-01 -4.15423300e-02 -1.01012410e+00]]]]\n"
     ]
    }
   ],
   "source": [
    "x_rand.shape\n",
    "print(x_rand[:5])"
   ]
  },
  {
   "cell_type": "code",
   "execution_count": 32,
   "metadata": {},
   "outputs": [
    {
     "name": "stdout",
     "output_type": "stream",
     "text": [
      "(10000,)\n"
     ]
    }
   ],
   "source": [
    "pred_rand=model.predict(x_rand)\n",
    "max_probs_rand=pred_rand[np.arange(len(pred_rand)),np.argmax(pred_rand,axis=-1)]\n",
    "print(max_probs_rand.shape)"
   ]
  },
  {
   "cell_type": "code",
   "execution_count": 34,
   "metadata": {},
   "outputs": [
    {
     "data": {
      "text/plain": [
       "(array([  20.,   22.,   23.,   30.,   31.,   30.,   29.,   39.,   33.,\n",
       "          36.,   32.,   28.,   24.,   32.,   22.,   34.,   31.,   28.,\n",
       "          39.,   42.,   36.,   33.,   35.,   31.,   37.,   27.,   50.,\n",
       "          38.,   41.,   47.,   38.,   46.,   56.,   47.,   66.,   58.,\n",
       "          61.,   64.,   62.,   70.,   82.,   84.,  105.,  113.,  135.,\n",
       "         171.,  208.,  272.,  496., 6775.]),\n",
       " array([0.5 , 0.51, 0.52, 0.53, 0.54, 0.55, 0.56, 0.57, 0.58, 0.59, 0.6 ,\n",
       "        0.61, 0.62, 0.63, 0.64, 0.65, 0.66, 0.67, 0.68, 0.69, 0.7 , 0.71,\n",
       "        0.72, 0.73, 0.74, 0.75, 0.76, 0.77, 0.78, 0.79, 0.8 , 0.81, 0.82,\n",
       "        0.83, 0.84, 0.85, 0.86, 0.87, 0.88, 0.89, 0.9 , 0.91, 0.92, 0.93,\n",
       "        0.94, 0.95, 0.96, 0.97, 0.98, 0.99, 1.  ], dtype=float32),\n",
       " <a list of 50 Patch objects>)"
      ]
     },
     "execution_count": 34,
     "metadata": {},
     "output_type": "execute_result"
    },
    {
     "data": {
      "image/png": "[encoded data removed]",
      "text/plain": [
       "<Figure size 432x288 with 1 Axes>"
      ]
     },
     "metadata": {
      "needs_background": "light"
     },
     "output_type": "display_data"
    }
   ],
   "source": [
    "plt.hist(max_probs_rand,bins=50,range=(0.5,1))"
   ]
  },
  {
   "cell_type": "code",
   "execution_count": 36,
   "metadata": {},
   "outputs": [
    {
     "name": "stdout",
     "output_type": "stream",
     "text": [
      "[0.87567484 0.99998665 0.9992663  0.999383   0.9999826  0.99939597\n",
      " 0.9989543  0.9999993  1.         1.         0.9999993  0.9992525\n",
      " 1.         1.         0.8734039  0.99461585 0.60104483 1.\n",
      " 0.95941436 0.9991117 ]\n"
     ]
    }
   ],
   "source": [
    "print(max_probs_rand[:20])"
   ]
  },
  {
   "cell_type": "code",
   "execution_count": 37,
   "metadata": {},
   "outputs": [],
   "source": [
    "#ask how best to measure if these 2 histograms are similar. maybe just normalize and k-l?\n",
    "#first train new net on normal data for 10 epochs\n",
    "#then train new net on random data for 50 epochs\n",
    "#if good, try like 250 maybe"
   ]
  },
  {
   "cell_type": "code",
   "execution_count": 38,
   "metadata": {},
   "outputs": [
    {
     "name": "stdout",
     "output_type": "stream",
     "text": [
      "Model: \"model_1\"\n",
      "__________________________________________________________________________________________________\n",
      "Layer (type)                    Output Shape         Param #     Connected to                     \n",
      "==================================================================================================\n",
      "input_2 (InputLayer)            [(None, 32, 32, 3)]  0                                            \n",
      "__________________________________________________________________________________________________\n",
      "conv2d_31 (Conv2D)              (None, 32, 32, 16)   448         input_2[0][0]                    \n",
      "__________________________________________________________________________________________________\n",
      "batch_normalization_28 (BatchNo (None, 32, 32, 16)   64          conv2d_31[0][0]                  \n",
      "__________________________________________________________________________________________________\n",
      "activation_28 (Activation)      (None, 32, 32, 16)   0           batch_normalization_28[0][0]     \n",
      "__________________________________________________________________________________________________\n",
      "conv2d_32 (Conv2D)              (None, 32, 32, 16)   272         activation_28[0][0]              \n",
      "__________________________________________________________________________________________________\n",
      "batch_normalization_29 (BatchNo (None, 32, 32, 16)   64          conv2d_32[0][0]                  \n",
      "__________________________________________________________________________________________________\n",
      "activation_29 (Activation)      (None, 32, 32, 16)   0           batch_normalization_29[0][0]     \n",
      "__________________________________________________________________________________________________\n",
      "conv2d_33 (Conv2D)              (None, 32, 32, 16)   2320        activation_29[0][0]              \n",
      "__________________________________________________________________________________________________\n",
      "batch_normalization_30 (BatchNo (None, 32, 32, 16)   64          conv2d_33[0][0]                  \n",
      "__________________________________________________________________________________________________\n",
      "activation_30 (Activation)      (None, 32, 32, 16)   0           batch_normalization_30[0][0]     \n",
      "__________________________________________________________________________________________________\n",
      "conv2d_35 (Conv2D)              (None, 32, 32, 64)   1088        activation_28[0][0]              \n",
      "__________________________________________________________________________________________________\n",
      "conv2d_34 (Conv2D)              (None, 32, 32, 64)   1088        activation_30[0][0]              \n",
      "__________________________________________________________________________________________________\n",
      "add_9 (Add)                     (None, 32, 32, 64)   0           conv2d_35[0][0]                  \n",
      "                                                                 conv2d_34[0][0]                  \n",
      "__________________________________________________________________________________________________\n",
      "batch_normalization_31 (BatchNo (None, 32, 32, 64)   256         add_9[0][0]                      \n",
      "__________________________________________________________________________________________________\n",
      "activation_31 (Activation)      (None, 32, 32, 64)   0           batch_normalization_31[0][0]     \n",
      "__________________________________________________________________________________________________\n",
      "conv2d_36 (Conv2D)              (None, 32, 32, 16)   1040        activation_31[0][0]              \n",
      "__________________________________________________________________________________________________\n",
      "batch_normalization_32 (BatchNo (None, 32, 32, 16)   64          conv2d_36[0][0]                  \n",
      "__________________________________________________________________________________________________\n",
      "activation_32 (Activation)      (None, 32, 32, 16)   0           batch_normalization_32[0][0]     \n",
      "__________________________________________________________________________________________________\n",
      "conv2d_37 (Conv2D)              (None, 32, 32, 16)   2320        activation_32[0][0]              \n",
      "__________________________________________________________________________________________________\n",
      "batch_normalization_33 (BatchNo (None, 32, 32, 16)   64          conv2d_37[0][0]                  \n",
      "__________________________________________________________________________________________________\n",
      "activation_33 (Activation)      (None, 32, 32, 16)   0           batch_normalization_33[0][0]     \n",
      "__________________________________________________________________________________________________\n",
      "conv2d_38 (Conv2D)              (None, 32, 32, 64)   1088        activation_33[0][0]              \n",
      "__________________________________________________________________________________________________\n",
      "add_10 (Add)                    (None, 32, 32, 64)   0           add_9[0][0]                      \n",
      "                                                                 conv2d_38[0][0]                  \n",
      "__________________________________________________________________________________________________\n",
      "batch_normalization_34 (BatchNo (None, 32, 32, 64)   256         add_10[0][0]                     \n",
      "__________________________________________________________________________________________________\n",
      "activation_34 (Activation)      (None, 32, 32, 64)   0           batch_normalization_34[0][0]     \n",
      "__________________________________________________________________________________________________\n",
      "conv2d_39 (Conv2D)              (None, 32, 32, 16)   1040        activation_34[0][0]              \n",
      "__________________________________________________________________________________________________\n",
      "batch_normalization_35 (BatchNo (None, 32, 32, 16)   64          conv2d_39[0][0]                  \n",
      "__________________________________________________________________________________________________\n",
      "activation_35 (Activation)      (None, 32, 32, 16)   0           batch_normalization_35[0][0]     \n",
      "__________________________________________________________________________________________________\n",
      "conv2d_40 (Conv2D)              (None, 32, 32, 16)   2320        activation_35[0][0]              \n",
      "__________________________________________________________________________________________________\n",
      "batch_normalization_36 (BatchNo (None, 32, 32, 16)   64          conv2d_40[0][0]                  \n",
      "__________________________________________________________________________________________________\n",
      "activation_36 (Activation)      (None, 32, 32, 16)   0           batch_normalization_36[0][0]     \n",
      "__________________________________________________________________________________________________\n",
      "conv2d_41 (Conv2D)              (None, 32, 32, 64)   1088        activation_36[0][0]              \n",
      "__________________________________________________________________________________________________\n",
      "add_11 (Add)                    (None, 32, 32, 64)   0           add_10[0][0]                     \n",
      "                                                                 conv2d_41[0][0]                  \n",
      "__________________________________________________________________________________________________\n",
      "batch_normalization_37 (BatchNo (None, 32, 32, 64)   256         add_11[0][0]                     \n",
      "__________________________________________________________________________________________________\n",
      "activation_37 (Activation)      (None, 32, 32, 64)   0           batch_normalization_37[0][0]     \n",
      "__________________________________________________________________________________________________\n",
      "conv2d_42 (Conv2D)              (None, 16, 16, 64)   4160        activation_37[0][0]              \n",
      "__________________________________________________________________________________________________\n",
      "batch_normalization_38 (BatchNo (None, 16, 16, 64)   256         conv2d_42[0][0]                  \n",
      "__________________________________________________________________________________________________\n",
      "activation_38 (Activation)      (None, 16, 16, 64)   0           batch_normalization_38[0][0]     \n",
      "__________________________________________________________________________________________________\n",
      "conv2d_43 (Conv2D)              (None, 16, 16, 64)   36928       activation_38[0][0]              \n",
      "__________________________________________________________________________________________________\n",
      "batch_normalization_39 (BatchNo (None, 16, 16, 64)   256         conv2d_43[0][0]                  \n",
      "__________________________________________________________________________________________________\n",
      "activation_39 (Activation)      (None, 16, 16, 64)   0           batch_normalization_39[0][0]     \n",
      "__________________________________________________________________________________________________\n",
      "conv2d_45 (Conv2D)              (None, 16, 16, 128)  8320        add_11[0][0]                     \n",
      "__________________________________________________________________________________________________\n",
      "conv2d_44 (Conv2D)              (None, 16, 16, 128)  8320        activation_39[0][0]              \n",
      "__________________________________________________________________________________________________\n",
      "add_12 (Add)                    (None, 16, 16, 128)  0           conv2d_45[0][0]                  \n",
      "                                                                 conv2d_44[0][0]                  \n",
      "__________________________________________________________________________________________________\n",
      "batch_normalization_40 (BatchNo (None, 16, 16, 128)  512         add_12[0][0]                     \n",
      "__________________________________________________________________________________________________\n",
      "activation_40 (Activation)      (None, 16, 16, 128)  0           batch_normalization_40[0][0]     \n",
      "__________________________________________________________________________________________________\n",
      "conv2d_46 (Conv2D)              (None, 16, 16, 64)   8256        activation_40[0][0]              \n",
      "__________________________________________________________________________________________________\n",
      "batch_normalization_41 (BatchNo (None, 16, 16, 64)   256         conv2d_46[0][0]                  \n",
      "__________________________________________________________________________________________________\n",
      "activation_41 (Activation)      (None, 16, 16, 64)   0           batch_normalization_41[0][0]     \n",
      "__________________________________________________________________________________________________\n",
      "conv2d_47 (Conv2D)              (None, 16, 16, 64)   36928       activation_41[0][0]              \n",
      "__________________________________________________________________________________________________\n",
      "batch_normalization_42 (BatchNo (None, 16, 16, 64)   256         conv2d_47[0][0]                  \n",
      "__________________________________________________________________________________________________\n",
      "activation_42 (Activation)      (None, 16, 16, 64)   0           batch_normalization_42[0][0]     \n",
      "__________________________________________________________________________________________________\n",
      "conv2d_48 (Conv2D)              (None, 16, 16, 128)  8320        activation_42[0][0]              \n",
      "__________________________________________________________________________________________________\n",
      "add_13 (Add)                    (None, 16, 16, 128)  0           add_12[0][0]                     \n",
      "                                                                 conv2d_48[0][0]                  \n",
      "__________________________________________________________________________________________________\n",
      "batch_normalization_43 (BatchNo (None, 16, 16, 128)  512         add_13[0][0]                     \n",
      "__________________________________________________________________________________________________\n",
      "activation_43 (Activation)      (None, 16, 16, 128)  0           batch_normalization_43[0][0]     \n",
      "__________________________________________________________________________________________________\n",
      "conv2d_49 (Conv2D)              (None, 16, 16, 64)   8256        activation_43[0][0]              \n",
      "__________________________________________________________________________________________________\n",
      "batch_normalization_44 (BatchNo (None, 16, 16, 64)   256         conv2d_49[0][0]                  \n",
      "__________________________________________________________________________________________________\n",
      "activation_44 (Activation)      (None, 16, 16, 64)   0           batch_normalization_44[0][0]     \n",
      "__________________________________________________________________________________________________\n",
      "conv2d_50 (Conv2D)              (None, 16, 16, 64)   36928       activation_44[0][0]              \n",
      "__________________________________________________________________________________________________\n",
      "batch_normalization_45 (BatchNo (None, 16, 16, 64)   256         conv2d_50[0][0]                  \n",
      "__________________________________________________________________________________________________\n",
      "activation_45 (Activation)      (None, 16, 16, 64)   0           batch_normalization_45[0][0]     \n",
      "__________________________________________________________________________________________________\n",
      "conv2d_51 (Conv2D)              (None, 16, 16, 128)  8320        activation_45[0][0]              \n",
      "__________________________________________________________________________________________________\n",
      "add_14 (Add)                    (None, 16, 16, 128)  0           add_13[0][0]                     \n",
      "                                                                 conv2d_51[0][0]                  \n",
      "__________________________________________________________________________________________________\n",
      "batch_normalization_46 (BatchNo (None, 16, 16, 128)  512         add_14[0][0]                     \n",
      "__________________________________________________________________________________________________\n",
      "activation_46 (Activation)      (None, 16, 16, 128)  0           batch_normalization_46[0][0]     \n",
      "__________________________________________________________________________________________________\n",
      "conv2d_52 (Conv2D)              (None, 8, 8, 128)    16512       activation_46[0][0]              \n",
      "__________________________________________________________________________________________________\n",
      "batch_normalization_47 (BatchNo (None, 8, 8, 128)    512         conv2d_52[0][0]                  \n",
      "__________________________________________________________________________________________________\n",
      "activation_47 (Activation)      (None, 8, 8, 128)    0           batch_normalization_47[0][0]     \n",
      "__________________________________________________________________________________________________\n",
      "conv2d_53 (Conv2D)              (None, 8, 8, 128)    147584      activation_47[0][0]              \n",
      "__________________________________________________________________________________________________\n",
      "batch_normalization_48 (BatchNo (None, 8, 8, 128)    512         conv2d_53[0][0]                  \n",
      "__________________________________________________________________________________________________\n",
      "activation_48 (Activation)      (None, 8, 8, 128)    0           batch_normalization_48[0][0]     \n",
      "__________________________________________________________________________________________________\n",
      "conv2d_55 (Conv2D)              (None, 8, 8, 256)    33024       add_14[0][0]                     \n",
      "__________________________________________________________________________________________________\n",
      "conv2d_54 (Conv2D)              (None, 8, 8, 256)    33024       activation_48[0][0]              \n",
      "__________________________________________________________________________________________________\n",
      "add_15 (Add)                    (None, 8, 8, 256)    0           conv2d_55[0][0]                  \n",
      "                                                                 conv2d_54[0][0]                  \n",
      "__________________________________________________________________________________________________\n",
      "batch_normalization_49 (BatchNo (None, 8, 8, 256)    1024        add_15[0][0]                     \n",
      "__________________________________________________________________________________________________\n",
      "activation_49 (Activation)      (None, 8, 8, 256)    0           batch_normalization_49[0][0]     \n",
      "__________________________________________________________________________________________________\n",
      "conv2d_56 (Conv2D)              (None, 8, 8, 128)    32896       activation_49[0][0]              \n",
      "__________________________________________________________________________________________________\n",
      "batch_normalization_50 (BatchNo (None, 8, 8, 128)    512         conv2d_56[0][0]                  \n",
      "__________________________________________________________________________________________________\n",
      "activation_50 (Activation)      (None, 8, 8, 128)    0           batch_normalization_50[0][0]     \n",
      "__________________________________________________________________________________________________\n",
      "conv2d_57 (Conv2D)              (None, 8, 8, 128)    147584      activation_50[0][0]              \n",
      "__________________________________________________________________________________________________\n",
      "batch_normalization_51 (BatchNo (None, 8, 8, 128)    512         conv2d_57[0][0]                  \n",
      "__________________________________________________________________________________________________\n",
      "activation_51 (Activation)      (None, 8, 8, 128)    0           batch_normalization_51[0][0]     \n",
      "__________________________________________________________________________________________________\n",
      "conv2d_58 (Conv2D)              (None, 8, 8, 256)    33024       activation_51[0][0]              \n",
      "__________________________________________________________________________________________________\n",
      "add_16 (Add)                    (None, 8, 8, 256)    0           add_15[0][0]                     \n",
      "                                                                 conv2d_58[0][0]                  \n",
      "__________________________________________________________________________________________________\n",
      "batch_normalization_52 (BatchNo (None, 8, 8, 256)    1024        add_16[0][0]                     \n",
      "__________________________________________________________________________________________________\n",
      "activation_52 (Activation)      (None, 8, 8, 256)    0           batch_normalization_52[0][0]     \n",
      "__________________________________________________________________________________________________\n",
      "conv2d_59 (Conv2D)              (None, 8, 8, 128)    32896       activation_52[0][0]              \n",
      "__________________________________________________________________________________________________\n",
      "batch_normalization_53 (BatchNo (None, 8, 8, 128)    512         conv2d_59[0][0]                  \n",
      "__________________________________________________________________________________________________\n",
      "activation_53 (Activation)      (None, 8, 8, 128)    0           batch_normalization_53[0][0]     \n",
      "__________________________________________________________________________________________________\n",
      "conv2d_60 (Conv2D)              (None, 8, 8, 128)    147584      activation_53[0][0]              \n",
      "__________________________________________________________________________________________________\n",
      "batch_normalization_54 (BatchNo (None, 8, 8, 128)    512         conv2d_60[0][0]                  \n",
      "__________________________________________________________________________________________________\n",
      "activation_54 (Activation)      (None, 8, 8, 128)    0           batch_normalization_54[0][0]     \n",
      "__________________________________________________________________________________________________\n",
      "conv2d_61 (Conv2D)              (None, 8, 8, 256)    33024       activation_54[0][0]              \n",
      "__________________________________________________________________________________________________\n",
      "add_17 (Add)                    (None, 8, 8, 256)    0           add_16[0][0]                     \n",
      "                                                                 conv2d_61[0][0]                  \n",
      "__________________________________________________________________________________________________\n",
      "batch_normalization_55 (BatchNo (None, 8, 8, 256)    1024        add_17[0][0]                     \n",
      "__________________________________________________________________________________________________\n",
      "activation_55 (Activation)      (None, 8, 8, 256)    0           batch_normalization_55[0][0]     \n",
      "__________________________________________________________________________________________________\n",
      "average_pooling2d_1 (AveragePoo (None, 1, 1, 256)    0           activation_55[0][0]              \n",
      "__________________________________________________________________________________________________\n",
      "flatten_1 (Flatten)             (None, 256)          0           average_pooling2d_1[0][0]        \n",
      "__________________________________________________________________________________________________\n",
      "dense_1 (Dense)                 (None, 10)           2570        flatten_1[0][0]                  \n",
      "==================================================================================================\n",
      "Total params: 849,002\n",
      "Trainable params: 843,786\n",
      "Non-trainable params: 5,216\n",
      "__________________________________________________________________________________________________\n"
     ]
    }
   ],
   "source": [
    "if version == 2:\n",
    "    model2 = resnet_v2(input_shape=input_shape, depth=depth)\n",
    "else:\n",
    "    model2 = resnet_v1(input_shape=input_shape, depth=depth)\n",
    "\n",
    "model2.compile(loss='categorical_crossentropy',\n",
    "              optimizer=SGD(momentum=.9,lr=1e-3),\n",
    "              metrics=['categorical_crossentropy','accuracy'])\n",
    "model2.summary()"
   ]
  },
  {
   "cell_type": "code",
   "execution_count": 44,
   "metadata": {},
   "outputs": [
    {
     "name": "stdout",
     "output_type": "stream",
     "text": [
      "(10000,)\n"
     ]
    }
   ],
   "source": [
    "pred_rand2=model2.predict(x_rand)\n",
    "max_probs_rand2=pred_rand2[np.arange(len(pred_rand2)),np.argmax(pred_rand2,axis=-1)]\n",
    "print(max_probs_rand2.shape)"
   ]
  },
  {
   "cell_type": "code",
   "execution_count": 45,
   "metadata": {},
   "outputs": [
    {
     "data": {
      "text/plain": [
       "(array([    0.,     0.,     0.,     0.,     0.,     0.,     0.,     0.,\n",
       "            0.,     0.,     0.,     0.,     0.,     0.,     0.,     0.,\n",
       "            0.,     0.,     0.,     0.,     0.,     0.,     0.,     0.,\n",
       "            0.,     0.,     0.,     0.,     0.,     0.,     0.,     0.,\n",
       "            0.,     0.,     0.,     0.,     0.,     0.,     0.,     0.,\n",
       "            0.,     0.,     0.,     0.,     0.,     0.,     0.,     0.,\n",
       "            0., 10000.]),\n",
       " array([0.  , 0.02, 0.04, 0.06, 0.08, 0.1 , 0.12, 0.14, 0.16, 0.18, 0.2 ,\n",
       "        0.22, 0.24, 0.26, 0.28, 0.3 , 0.32, 0.34, 0.36, 0.38, 0.4 , 0.42,\n",
       "        0.44, 0.46, 0.48, 0.5 , 0.52, 0.54, 0.56, 0.58, 0.6 , 0.62, 0.64,\n",
       "        0.66, 0.68, 0.7 , 0.72, 0.74, 0.76, 0.78, 0.8 , 0.82, 0.84, 0.86,\n",
       "        0.88, 0.9 , 0.92, 0.94, 0.96, 0.98, 1.  ], dtype=float32),\n",
       " <a list of 50 Patch objects>)"
      ]
     },
     "execution_count": 45,
     "metadata": {},
     "output_type": "execute_result"
    },
    {
     "data": {
      "image/png": "[encoded data removed]",
      "text/plain": [
       "<Figure size 432x288 with 1 Axes>"
      ]
     },
     "metadata": {
      "needs_background": "light"
     },
     "output_type": "display_data"
    }
   ],
   "source": [
    "plt.hist(max_probs_rand2,bins=50,range=(0,1))"
   ]
  },
  {
   "cell_type": "code",
   "execution_count": 41,
   "metadata": {},
   "outputs": [
    {
     "name": "stdout",
     "output_type": "stream",
     "text": [
      "[1. 1. 1. 1. 1. 1. 1. 1. 1. 1. 1. 1. 1. 1. 1. 1. 1. 1. 1. 1.]\n"
     ]
    }
   ],
   "source": [
    "print(max_probs_rand2[:20])"
   ]
  },
  {
   "cell_type": "code",
   "execution_count": 46,
   "metadata": {},
   "outputs": [
    {
     "name": "stdout",
     "output_type": "stream",
     "text": [
      "Train on 50000 samples, validate on 10000 samples\n",
      "Epoch 1/20\n",
      "50000/50000 [==============================] - 23s 469us/sample - loss: 2.7257 - categorical_crossentropy: 2.1161 - acc: 0.2256 - val_loss: 2.5977 - val_categorical_crossentropy: 1.9885 - val_acc: 0.2791\n",
      "Epoch 2/20\n",
      "50000/50000 [==============================] - 20s 400us/sample - loss: 2.5071 - categorical_crossentropy: 1.8984 - acc: 0.3175 - val_loss: 2.4337 - val_categorical_crossentropy: 1.8256 - val_acc: 0.3458\n",
      "Epoch 3/20\n",
      "50000/50000 [==============================] - 20s 401us/sample - loss: 2.3973 - categorical_crossentropy: 1.7896 - acc: 0.3570 - val_loss: 2.3395 - val_categorical_crossentropy: 1.7323 - val_acc: 0.3740\n",
      "Epoch 4/20\n",
      "50000/50000 [==============================] - 20s 400us/sample - loss: 2.3186 - categorical_crossentropy: 1.7119 - acc: 0.3844 - val_loss: 2.2793 - val_categorical_crossentropy: 1.6730 - val_acc: 0.3931\n",
      "Epoch 5/20\n",
      "50000/50000 [==============================] - 20s 400us/sample - loss: 2.2653 - categorical_crossentropy: 1.6595 - acc: 0.3984 - val_loss: 2.2329 - val_categorical_crossentropy: 1.6276 - val_acc: 0.4049\n",
      "Epoch 6/20\n",
      "50000/50000 [==============================] - 20s 401us/sample - loss: 2.2216 - categorical_crossentropy: 1.6168 - acc: 0.4149 - val_loss: 2.1924 - val_categorical_crossentropy: 1.5882 - val_acc: 0.4213\n",
      "Epoch 7/20\n",
      "50000/50000 [==============================] - 20s 401us/sample - loss: 2.1846 - categorical_crossentropy: 1.5808 - acc: 0.4272 - val_loss: 2.1585 - val_categorical_crossentropy: 1.5551 - val_acc: 0.4297\n",
      "Epoch 8/20\n",
      "50000/50000 [==============================] - 20s 401us/sample - loss: 2.1491 - categorical_crossentropy: 1.5463 - acc: 0.4406 - val_loss: 2.1241 - val_categorical_crossentropy: 1.5217 - val_acc: 0.4431\n",
      "Epoch 9/20\n",
      "50000/50000 [==============================] - 20s 402us/sample - loss: 2.1188 - categorical_crossentropy: 1.5169 - acc: 0.4520 - val_loss: 2.0943 - val_categorical_crossentropy: 1.4929 - val_acc: 0.4546\n",
      "Epoch 10/20\n",
      "50000/50000 [==============================] - 20s 400us/sample - loss: 2.0863 - categorical_crossentropy: 1.4854 - acc: 0.4623 - val_loss: 2.0750 - val_categorical_crossentropy: 1.4747 - val_acc: 0.4598\n",
      "Epoch 11/20\n",
      "50000/50000 [==============================] - 20s 401us/sample - loss: 2.0598 - categorical_crossentropy: 1.4599 - acc: 0.4730 - val_loss: 2.0498 - val_categorical_crossentropy: 1.4504 - val_acc: 0.4721\n",
      "Epoch 12/20\n",
      "50000/50000 [==============================] - 20s 400us/sample - loss: 2.0314 - categorical_crossentropy: 1.4325 - acc: 0.4841 - val_loss: 2.0168 - val_categorical_crossentropy: 1.4183 - val_acc: 0.4848\n",
      "Epoch 13/20\n",
      "50000/50000 [==============================] - 20s 401us/sample - loss: 2.0073 - categorical_crossentropy: 1.4093 - acc: 0.4953 - val_loss: 1.9873 - val_categorical_crossentropy: 1.3898 - val_acc: 0.4967\n",
      "Epoch 14/20\n",
      "50000/50000 [==============================] - 20s 401us/sample - loss: 1.9784 - categorical_crossentropy: 1.3815 - acc: 0.5054 - val_loss: 1.9649 - val_categorical_crossentropy: 1.3684 - val_acc: 0.5022\n",
      "Epoch 15/20\n",
      "50000/50000 [==============================] - 20s 402us/sample - loss: 1.9516 - categorical_crossentropy: 1.3556 - acc: 0.5161 - val_loss: 1.9439 - val_categorical_crossentropy: 1.3484 - val_acc: 0.5131\n",
      "Epoch 16/20\n",
      "50000/50000 [==============================] - 20s 404us/sample - loss: 1.9257 - categorical_crossentropy: 1.3306 - acc: 0.5241 - val_loss: 1.9214 - val_categorical_crossentropy: 1.3269 - val_acc: 0.5192\n",
      "Epoch 17/20\n",
      "50000/50000 [==============================] - 20s 403us/sample - loss: 1.9043 - categorical_crossentropy: 1.3102 - acc: 0.5319 - val_loss: 1.9011 - val_categorical_crossentropy: 1.3075 - val_acc: 0.5287\n",
      "Epoch 18/20\n",
      "50000/50000 [==============================] - 20s 401us/sample - loss: 1.8793 - categorical_crossentropy: 1.2862 - acc: 0.5406 - val_loss: 1.8822 - val_categorical_crossentropy: 1.2896 - val_acc: 0.5351\n",
      "Epoch 19/20\n",
      "50000/50000 [==============================] - 20s 402us/sample - loss: 1.8563 - categorical_crossentropy: 1.2642 - acc: 0.5474 - val_loss: 1.8566 - val_categorical_crossentropy: 1.2650 - val_acc: 0.5452\n",
      "Epoch 20/20\n",
      "50000/50000 [==============================] - 20s 402us/sample - loss: 1.8364 - categorical_crossentropy: 1.2453 - acc: 0.5555 - val_loss: 1.8563 - val_categorical_crossentropy: 1.2657 - val_acc: 0.5441\n"
     ]
    }
   ],
   "source": [
    "history2=model2.fit(x_train, y_train,\n",
    "              batch_size=batch_size,\n",
    "              epochs=20,\n",
    "              validation_data=(x_test, y_test),\n",
    "              shuffle=True)"
   ]
  },
  {
   "cell_type": "code",
   "execution_count": 47,
   "metadata": {},
   "outputs": [
    {
     "name": "stdout",
     "output_type": "stream",
     "text": [
      "(10000,)\n"
     ]
    }
   ],
   "source": [
    "pred_rand2=model2.predict(x_rand)\n",
    "max_probs_rand2=pred_rand2[np.arange(len(pred_rand2)),np.argmax(pred_rand2,axis=-1)]\n",
    "print(max_probs_rand2.shape)"
   ]
  },
  {
   "cell_type": "code",
   "execution_count": 49,
   "metadata": {},
   "outputs": [
    {
     "data": {
      "image/png": "[encoded data removed]",
      "text/plain": [
       "<Figure size 432x288 with 1 Axes>"
      ]
     },
     "metadata": {
      "needs_background": "light"
     },
     "output_type": "display_data"
    }
   ],
   "source": [
    "plt.hist(max_probs_rand2,bins=100,range=(0,1));"
   ]
  },
  {
   "cell_type": "code",
   "execution_count": 62,
   "metadata": {},
   "outputs": [
    {
     "name": "stdout",
     "output_type": "stream",
     "text": [
      "Model: \"model_6\"\n",
      "__________________________________________________________________________________________________\n",
      "Layer (type)                    Output Shape         Param #     Connected to                     \n",
      "==================================================================================================\n",
      "input_7 (InputLayer)            [(None, 32, 32, 3)]  0                                            \n",
      "__________________________________________________________________________________________________\n",
      "conv2d_186 (Conv2D)             (None, 32, 32, 16)   448         input_7[0][0]                    \n",
      "__________________________________________________________________________________________________\n",
      "batch_normalization_168 (BatchN (None, 32, 32, 16)   64          conv2d_186[0][0]                 \n",
      "__________________________________________________________________________________________________\n",
      "activation_168 (Activation)     (None, 32, 32, 16)   0           batch_normalization_168[0][0]    \n",
      "__________________________________________________________________________________________________\n",
      "conv2d_187 (Conv2D)             (None, 32, 32, 16)   272         activation_168[0][0]             \n",
      "__________________________________________________________________________________________________\n",
      "batch_normalization_169 (BatchN (None, 32, 32, 16)   64          conv2d_187[0][0]                 \n",
      "__________________________________________________________________________________________________\n",
      "activation_169 (Activation)     (None, 32, 32, 16)   0           batch_normalization_169[0][0]    \n",
      "__________________________________________________________________________________________________\n",
      "conv2d_188 (Conv2D)             (None, 32, 32, 16)   2320        activation_169[0][0]             \n",
      "__________________________________________________________________________________________________\n",
      "batch_normalization_170 (BatchN (None, 32, 32, 16)   64          conv2d_188[0][0]                 \n",
      "__________________________________________________________________________________________________\n",
      "activation_170 (Activation)     (None, 32, 32, 16)   0           batch_normalization_170[0][0]    \n",
      "__________________________________________________________________________________________________\n",
      "conv2d_190 (Conv2D)             (None, 32, 32, 64)   1088        activation_168[0][0]             \n",
      "__________________________________________________________________________________________________\n",
      "conv2d_189 (Conv2D)             (None, 32, 32, 64)   1088        activation_170[0][0]             \n",
      "__________________________________________________________________________________________________\n",
      "add_54 (Add)                    (None, 32, 32, 64)   0           conv2d_190[0][0]                 \n",
      "                                                                 conv2d_189[0][0]                 \n",
      "__________________________________________________________________________________________________\n",
      "batch_normalization_171 (BatchN (None, 32, 32, 64)   256         add_54[0][0]                     \n",
      "__________________________________________________________________________________________________\n",
      "activation_171 (Activation)     (None, 32, 32, 64)   0           batch_normalization_171[0][0]    \n",
      "__________________________________________________________________________________________________\n",
      "conv2d_191 (Conv2D)             (None, 32, 32, 16)   1040        activation_171[0][0]             \n",
      "__________________________________________________________________________________________________\n",
      "batch_normalization_172 (BatchN (None, 32, 32, 16)   64          conv2d_191[0][0]                 \n",
      "__________________________________________________________________________________________________\n",
      "activation_172 (Activation)     (None, 32, 32, 16)   0           batch_normalization_172[0][0]    \n",
      "__________________________________________________________________________________________________\n",
      "conv2d_192 (Conv2D)             (None, 32, 32, 16)   2320        activation_172[0][0]             \n",
      "__________________________________________________________________________________________________\n",
      "batch_normalization_173 (BatchN (None, 32, 32, 16)   64          conv2d_192[0][0]                 \n",
      "__________________________________________________________________________________________________\n",
      "activation_173 (Activation)     (None, 32, 32, 16)   0           batch_normalization_173[0][0]    \n",
      "__________________________________________________________________________________________________\n",
      "conv2d_193 (Conv2D)             (None, 32, 32, 64)   1088        activation_173[0][0]             \n",
      "__________________________________________________________________________________________________\n",
      "add_55 (Add)                    (None, 32, 32, 64)   0           add_54[0][0]                     \n",
      "                                                                 conv2d_193[0][0]                 \n",
      "__________________________________________________________________________________________________\n",
      "batch_normalization_174 (BatchN (None, 32, 32, 64)   256         add_55[0][0]                     \n",
      "__________________________________________________________________________________________________\n",
      "activation_174 (Activation)     (None, 32, 32, 64)   0           batch_normalization_174[0][0]    \n",
      "__________________________________________________________________________________________________\n",
      "conv2d_194 (Conv2D)             (None, 32, 32, 16)   1040        activation_174[0][0]             \n",
      "__________________________________________________________________________________________________\n",
      "batch_normalization_175 (BatchN (None, 32, 32, 16)   64          conv2d_194[0][0]                 \n",
      "__________________________________________________________________________________________________\n",
      "activation_175 (Activation)     (None, 32, 32, 16)   0           batch_normalization_175[0][0]    \n",
      "__________________________________________________________________________________________________\n",
      "conv2d_195 (Conv2D)             (None, 32, 32, 16)   2320        activation_175[0][0]             \n",
      "__________________________________________________________________________________________________\n",
      "batch_normalization_176 (BatchN (None, 32, 32, 16)   64          conv2d_195[0][0]                 \n",
      "__________________________________________________________________________________________________\n",
      "activation_176 (Activation)     (None, 32, 32, 16)   0           batch_normalization_176[0][0]    \n",
      "__________________________________________________________________________________________________\n",
      "conv2d_196 (Conv2D)             (None, 32, 32, 64)   1088        activation_176[0][0]             \n",
      "__________________________________________________________________________________________________\n",
      "add_56 (Add)                    (None, 32, 32, 64)   0           add_55[0][0]                     \n",
      "                                                                 conv2d_196[0][0]                 \n",
      "__________________________________________________________________________________________________\n",
      "batch_normalization_177 (BatchN (None, 32, 32, 64)   256         add_56[0][0]                     \n",
      "__________________________________________________________________________________________________\n",
      "activation_177 (Activation)     (None, 32, 32, 64)   0           batch_normalization_177[0][0]    \n",
      "__________________________________________________________________________________________________\n",
      "conv2d_197 (Conv2D)             (None, 16, 16, 64)   4160        activation_177[0][0]             \n",
      "__________________________________________________________________________________________________\n",
      "batch_normalization_178 (BatchN (None, 16, 16, 64)   256         conv2d_197[0][0]                 \n",
      "__________________________________________________________________________________________________\n",
      "activation_178 (Activation)     (None, 16, 16, 64)   0           batch_normalization_178[0][0]    \n",
      "__________________________________________________________________________________________________\n",
      "conv2d_198 (Conv2D)             (None, 16, 16, 64)   36928       activation_178[0][0]             \n",
      "__________________________________________________________________________________________________\n",
      "batch_normalization_179 (BatchN (None, 16, 16, 64)   256         conv2d_198[0][0]                 \n",
      "__________________________________________________________________________________________________\n",
      "activation_179 (Activation)     (None, 16, 16, 64)   0           batch_normalization_179[0][0]    \n",
      "__________________________________________________________________________________________________\n",
      "conv2d_200 (Conv2D)             (None, 16, 16, 128)  8320        add_56[0][0]                     \n",
      "__________________________________________________________________________________________________\n",
      "conv2d_199 (Conv2D)             (None, 16, 16, 128)  8320        activation_179[0][0]             \n",
      "__________________________________________________________________________________________________\n",
      "add_57 (Add)                    (None, 16, 16, 128)  0           conv2d_200[0][0]                 \n",
      "                                                                 conv2d_199[0][0]                 \n",
      "__________________________________________________________________________________________________\n",
      "batch_normalization_180 (BatchN (None, 16, 16, 128)  512         add_57[0][0]                     \n",
      "__________________________________________________________________________________________________\n",
      "activation_180 (Activation)     (None, 16, 16, 128)  0           batch_normalization_180[0][0]    \n",
      "__________________________________________________________________________________________________\n",
      "conv2d_201 (Conv2D)             (None, 16, 16, 64)   8256        activation_180[0][0]             \n",
      "__________________________________________________________________________________________________\n",
      "batch_normalization_181 (BatchN (None, 16, 16, 64)   256         conv2d_201[0][0]                 \n",
      "__________________________________________________________________________________________________\n",
      "activation_181 (Activation)     (None, 16, 16, 64)   0           batch_normalization_181[0][0]    \n",
      "__________________________________________________________________________________________________\n",
      "conv2d_202 (Conv2D)             (None, 16, 16, 64)   36928       activation_181[0][0]             \n",
      "__________________________________________________________________________________________________\n",
      "batch_normalization_182 (BatchN (None, 16, 16, 64)   256         conv2d_202[0][0]                 \n",
      "__________________________________________________________________________________________________\n",
      "activation_182 (Activation)     (None, 16, 16, 64)   0           batch_normalization_182[0][0]    \n",
      "__________________________________________________________________________________________________\n",
      "conv2d_203 (Conv2D)             (None, 16, 16, 128)  8320        activation_182[0][0]             \n",
      "__________________________________________________________________________________________________\n",
      "add_58 (Add)                    (None, 16, 16, 128)  0           add_57[0][0]                     \n",
      "                                                                 conv2d_203[0][0]                 \n",
      "__________________________________________________________________________________________________\n",
      "batch_normalization_183 (BatchN (None, 16, 16, 128)  512         add_58[0][0]                     \n",
      "__________________________________________________________________________________________________\n",
      "activation_183 (Activation)     (None, 16, 16, 128)  0           batch_normalization_183[0][0]    \n",
      "__________________________________________________________________________________________________\n",
      "conv2d_204 (Conv2D)             (None, 16, 16, 64)   8256        activation_183[0][0]             \n",
      "__________________________________________________________________________________________________\n",
      "batch_normalization_184 (BatchN (None, 16, 16, 64)   256         conv2d_204[0][0]                 \n",
      "__________________________________________________________________________________________________\n",
      "activation_184 (Activation)     (None, 16, 16, 64)   0           batch_normalization_184[0][0]    \n",
      "__________________________________________________________________________________________________\n",
      "conv2d_205 (Conv2D)             (None, 16, 16, 64)   36928       activation_184[0][0]             \n",
      "__________________________________________________________________________________________________\n",
      "batch_normalization_185 (BatchN (None, 16, 16, 64)   256         conv2d_205[0][0]                 \n",
      "__________________________________________________________________________________________________\n",
      "activation_185 (Activation)     (None, 16, 16, 64)   0           batch_normalization_185[0][0]    \n",
      "__________________________________________________________________________________________________\n",
      "conv2d_206 (Conv2D)             (None, 16, 16, 128)  8320        activation_185[0][0]             \n",
      "__________________________________________________________________________________________________\n",
      "add_59 (Add)                    (None, 16, 16, 128)  0           add_58[0][0]                     \n",
      "                                                                 conv2d_206[0][0]                 \n",
      "__________________________________________________________________________________________________\n",
      "batch_normalization_186 (BatchN (None, 16, 16, 128)  512         add_59[0][0]                     \n",
      "__________________________________________________________________________________________________\n",
      "activation_186 (Activation)     (None, 16, 16, 128)  0           batch_normalization_186[0][0]    \n",
      "__________________________________________________________________________________________________\n",
      "conv2d_207 (Conv2D)             (None, 8, 8, 128)    16512       activation_186[0][0]             \n",
      "__________________________________________________________________________________________________\n",
      "batch_normalization_187 (BatchN (None, 8, 8, 128)    512         conv2d_207[0][0]                 \n",
      "__________________________________________________________________________________________________\n",
      "activation_187 (Activation)     (None, 8, 8, 128)    0           batch_normalization_187[0][0]    \n",
      "__________________________________________________________________________________________________\n",
      "conv2d_208 (Conv2D)             (None, 8, 8, 128)    147584      activation_187[0][0]             \n",
      "__________________________________________________________________________________________________\n",
      "batch_normalization_188 (BatchN (None, 8, 8, 128)    512         conv2d_208[0][0]                 \n",
      "__________________________________________________________________________________________________\n",
      "activation_188 (Activation)     (None, 8, 8, 128)    0           batch_normalization_188[0][0]    \n",
      "__________________________________________________________________________________________________\n",
      "conv2d_210 (Conv2D)             (None, 8, 8, 256)    33024       add_59[0][0]                     \n",
      "__________________________________________________________________________________________________\n",
      "conv2d_209 (Conv2D)             (None, 8, 8, 256)    33024       activation_188[0][0]             \n",
      "__________________________________________________________________________________________________\n",
      "add_60 (Add)                    (None, 8, 8, 256)    0           conv2d_210[0][0]                 \n",
      "                                                                 conv2d_209[0][0]                 \n",
      "__________________________________________________________________________________________________\n",
      "batch_normalization_189 (BatchN (None, 8, 8, 256)    1024        add_60[0][0]                     \n",
      "__________________________________________________________________________________________________\n",
      "activation_189 (Activation)     (None, 8, 8, 256)    0           batch_normalization_189[0][0]    \n",
      "__________________________________________________________________________________________________\n",
      "conv2d_211 (Conv2D)             (None, 8, 8, 128)    32896       activation_189[0][0]             \n",
      "__________________________________________________________________________________________________\n",
      "batch_normalization_190 (BatchN (None, 8, 8, 128)    512         conv2d_211[0][0]                 \n",
      "__________________________________________________________________________________________________\n",
      "activation_190 (Activation)     (None, 8, 8, 128)    0           batch_normalization_190[0][0]    \n",
      "__________________________________________________________________________________________________\n",
      "conv2d_212 (Conv2D)             (None, 8, 8, 128)    147584      activation_190[0][0]             \n",
      "__________________________________________________________________________________________________\n",
      "batch_normalization_191 (BatchN (None, 8, 8, 128)    512         conv2d_212[0][0]                 \n",
      "__________________________________________________________________________________________________\n",
      "activation_191 (Activation)     (None, 8, 8, 128)    0           batch_normalization_191[0][0]    \n",
      "__________________________________________________________________________________________________\n",
      "conv2d_213 (Conv2D)             (None, 8, 8, 256)    33024       activation_191[0][0]             \n",
      "__________________________________________________________________________________________________\n",
      "add_61 (Add)                    (None, 8, 8, 256)    0           add_60[0][0]                     \n",
      "                                                                 conv2d_213[0][0]                 \n",
      "__________________________________________________________________________________________________\n",
      "batch_normalization_192 (BatchN (None, 8, 8, 256)    1024        add_61[0][0]                     \n",
      "__________________________________________________________________________________________________\n",
      "activation_192 (Activation)     (None, 8, 8, 256)    0           batch_normalization_192[0][0]    \n",
      "__________________________________________________________________________________________________\n",
      "conv2d_214 (Conv2D)             (None, 8, 8, 128)    32896       activation_192[0][0]             \n",
      "__________________________________________________________________________________________________\n",
      "batch_normalization_193 (BatchN (None, 8, 8, 128)    512         conv2d_214[0][0]                 \n",
      "__________________________________________________________________________________________________\n",
      "activation_193 (Activation)     (None, 8, 8, 128)    0           batch_normalization_193[0][0]    \n",
      "__________________________________________________________________________________________________\n",
      "conv2d_215 (Conv2D)             (None, 8, 8, 128)    147584      activation_193[0][0]             \n",
      "__________________________________________________________________________________________________\n",
      "batch_normalization_194 (BatchN (None, 8, 8, 128)    512         conv2d_215[0][0]                 \n",
      "__________________________________________________________________________________________________\n",
      "activation_194 (Activation)     (None, 8, 8, 128)    0           batch_normalization_194[0][0]    \n",
      "__________________________________________________________________________________________________\n",
      "conv2d_216 (Conv2D)             (None, 8, 8, 256)    33024       activation_194[0][0]             \n",
      "__________________________________________________________________________________________________\n",
      "add_62 (Add)                    (None, 8, 8, 256)    0           add_61[0][0]                     \n",
      "                                                                 conv2d_216[0][0]                 \n",
      "__________________________________________________________________________________________________\n",
      "batch_normalization_195 (BatchN (None, 8, 8, 256)    1024        add_62[0][0]                     \n",
      "__________________________________________________________________________________________________\n",
      "activation_195 (Activation)     (None, 8, 8, 256)    0           batch_normalization_195[0][0]    \n",
      "__________________________________________________________________________________________________\n",
      "average_pooling2d_6 (AveragePoo (None, 1, 1, 256)    0           activation_195[0][0]             \n",
      "__________________________________________________________________________________________________\n",
      "flatten_6 (Flatten)             (None, 256)          0           average_pooling2d_6[0][0]        \n",
      "__________________________________________________________________________________________________\n",
      "dense_6 (Dense)                 (None, 10)           2570        flatten_6[0][0]                  \n",
      "==================================================================================================\n",
      "Total params: 849,002\n",
      "Trainable params: 843,786\n",
      "Non-trainable params: 5,216\n",
      "__________________________________________________________________________________________________\n"
     ]
    }
   ],
   "source": [
    "#print out hist every 10 epochs\n",
    "if version == 2:\n",
    "    model2 = resnet_v2(input_shape=input_shape, depth=depth)\n",
    "else:\n",
    "    model2 = resnet_v1(input_shape=input_shape, depth=depth)\n",
    "\n",
    "model2.compile(loss='categorical_crossentropy',\n",
    "              optimizer=SGD(momentum=.9,lr=1e-3),\n",
    "              metrics=['categorical_crossentropy','accuracy'])\n",
    "model2.summary()"
   ]
  },
  {
   "cell_type": "code",
   "execution_count": 63,
   "metadata": {},
   "outputs": [
    {
     "name": "stdout",
     "output_type": "stream",
     "text": [
      "Train on 50000 samples, validate on 10000 samples\n",
      "Epoch 1/10\n",
      "50000/50000 [==============================] - 26s 528us/sample - loss: 2.7088 - categorical_crossentropy: 2.0950 - acc: 0.2338 - val_loss: 2.5773 - val_categorical_crossentropy: 1.9639 - val_acc: 0.2774\n",
      "Epoch 2/10\n",
      "50000/50000 [==============================] - 21s 415us/sample - loss: 2.4811 - categorical_crossentropy: 1.8682 - acc: 0.3184 - val_loss: 2.4173 - val_categorical_crossentropy: 1.8049 - val_acc: 0.3365\n",
      "Epoch 3/10\n",
      "50000/50000 [==============================] - 21s 416us/sample - loss: 2.3838 - categorical_crossentropy: 1.7719 - acc: 0.3500 - val_loss: 2.3396 - val_categorical_crossentropy: 1.7282 - val_acc: 0.3669\n",
      "Epoch 4/10\n",
      "50000/50000 [==============================] - 21s 423us/sample - loss: 2.3183 - categorical_crossentropy: 1.7074 - acc: 0.3751 - val_loss: 2.2813 - val_categorical_crossentropy: 1.6709 - val_acc: 0.3866\n",
      "Epoch 5/10\n",
      "50000/50000 [==============================] - 21s 427us/sample - loss: 2.2693 - categorical_crossentropy: 1.6594 - acc: 0.3922 - val_loss: 2.2409 - val_categorical_crossentropy: 1.6315 - val_acc: 0.3996\n",
      "Epoch 6/10\n",
      "50000/50000 [==============================] - 22s 442us/sample - loss: 2.2288 - categorical_crossentropy: 1.6199 - acc: 0.4038 - val_loss: 2.2070 - val_categorical_crossentropy: 1.5986 - val_acc: 0.4125\n",
      "Epoch 7/10\n",
      "50000/50000 [==============================] - 22s 436us/sample - loss: 2.1945 - categorical_crossentropy: 1.5866 - acc: 0.4185 - val_loss: 2.1695 - val_categorical_crossentropy: 1.5620 - val_acc: 0.4248\n",
      "Epoch 8/10\n",
      "50000/50000 [==============================] - 21s 427us/sample - loss: 2.1625 - categorical_crossentropy: 1.5555 - acc: 0.4329 - val_loss: 2.1516 - val_categorical_crossentropy: 1.5451 - val_acc: 0.4282\n",
      "Epoch 9/10\n",
      "50000/50000 [==============================] - 21s 427us/sample - loss: 2.1322 - categorical_crossentropy: 1.5263 - acc: 0.4433 - val_loss: 2.1142 - val_categorical_crossentropy: 1.5087 - val_acc: 0.4453\n",
      "Epoch 10/10\n",
      "50000/50000 [==============================] - 21s 420us/sample - loss: 2.1037 - categorical_crossentropy: 1.4987 - acc: 0.4573 - val_loss: 2.0912 - val_categorical_crossentropy: 1.4867 - val_acc: 0.4566\n",
      "Train on 50000 samples, validate on 10000 samples\n",
      "Epoch 1/10\n",
      "50000/50000 [==============================] - 21s 416us/sample - loss: 2.0749 - categorical_crossentropy: 1.4709 - acc: 0.4667 - val_loss: 2.0785 - val_categorical_crossentropy: 1.4750 - val_acc: 0.4572\n",
      "Epoch 2/10\n",
      "50000/50000 [==============================] - 21s 414us/sample - loss: 2.0473 - categorical_crossentropy: 1.4443 - acc: 0.4779 - val_loss: 2.0365 - val_categorical_crossentropy: 1.4340 - val_acc: 0.4773\n",
      "Epoch 3/10\n",
      "50000/50000 [==============================] - 21s 421us/sample - loss: 2.0195 - categorical_crossentropy: 1.4175 - acc: 0.4891 - val_loss: 2.0103 - val_categorical_crossentropy: 1.4087 - val_acc: 0.4852\n",
      "Epoch 4/10\n",
      "50000/50000 [==============================] - 21s 416us/sample - loss: 1.9915 - categorical_crossentropy: 1.3904 - acc: 0.4981 - val_loss: 1.9872 - val_categorical_crossentropy: 1.3867 - val_acc: 0.4958\n",
      "Epoch 5/10\n",
      "50000/50000 [==============================] - 21s 414us/sample - loss: 1.9648 - categorical_crossentropy: 1.3647 - acc: 0.5084 - val_loss: 1.9630 - val_categorical_crossentropy: 1.3634 - val_acc: 0.4995\n",
      "Epoch 6/10\n",
      "50000/50000 [==============================] - 21s 416us/sample - loss: 1.9382 - categorical_crossentropy: 1.3391 - acc: 0.5164 - val_loss: 1.9388 - val_categorical_crossentropy: 1.3402 - val_acc: 0.5111\n",
      "Epoch 7/10\n",
      "50000/50000 [==============================] - 21s 415us/sample - loss: 1.9131 - categorical_crossentropy: 1.3150 - acc: 0.5261 - val_loss: 1.9238 - val_categorical_crossentropy: 1.3262 - val_acc: 0.5157\n",
      "Epoch 8/10\n",
      "50000/50000 [==============================] - 21s 416us/sample - loss: 1.8891 - categorical_crossentropy: 1.2920 - acc: 0.5353 - val_loss: 1.8975 - val_categorical_crossentropy: 1.3009 - val_acc: 0.5235\n",
      "Epoch 9/10\n",
      "50000/50000 [==============================] - 21s 415us/sample - loss: 1.8672 - categorical_crossentropy: 1.2710 - acc: 0.5427 - val_loss: 1.8748 - val_categorical_crossentropy: 1.2791 - val_acc: 0.5361\n",
      "Epoch 10/10\n",
      "50000/50000 [==============================] - 21s 414us/sample - loss: 1.8459 - categorical_crossentropy: 1.2507 - acc: 0.5480 - val_loss: 1.8595 - val_categorical_crossentropy: 1.2648 - val_acc: 0.5416\n",
      "Train on 50000 samples, validate on 10000 samples\n",
      "Epoch 1/10\n",
      "50000/50000 [==============================] - 21s 416us/sample - loss: 1.8241 - categorical_crossentropy: 1.2299 - acc: 0.5586 - val_loss: 1.8562 - val_categorical_crossentropy: 1.2624 - val_acc: 0.5433\n",
      "Epoch 2/10\n",
      "50000/50000 [==============================] - 21s 416us/sample - loss: 1.8065 - categorical_crossentropy: 1.2133 - acc: 0.5633 - val_loss: 1.8299 - val_categorical_crossentropy: 1.2372 - val_acc: 0.5507\n",
      "Epoch 3/10\n",
      "50000/50000 [==============================] - 21s 414us/sample - loss: 1.7863 - categorical_crossentropy: 1.1940 - acc: 0.5708 - val_loss: 1.8188 - val_categorical_crossentropy: 1.2270 - val_acc: 0.5534\n",
      "Epoch 4/10\n",
      "50000/50000 [==============================] - 21s 413us/sample - loss: 1.7706 - categorical_crossentropy: 1.1793 - acc: 0.5774 - val_loss: 1.7992 - val_categorical_crossentropy: 1.2084 - val_acc: 0.5608\n",
      "Epoch 5/10\n",
      "50000/50000 [==============================] - 21s 416us/sample - loss: 1.7514 - categorical_crossentropy: 1.1610 - acc: 0.5834 - val_loss: 1.8030 - val_categorical_crossentropy: 1.2132 - val_acc: 0.5630\n",
      "Epoch 6/10\n",
      "50000/50000 [==============================] - 21s 414us/sample - loss: 1.7335 - categorical_crossentropy: 1.1441 - acc: 0.5897 - val_loss: 1.7834 - val_categorical_crossentropy: 1.1945 - val_acc: 0.5671\n",
      "Epoch 7/10\n",
      "50000/50000 [==============================] - 21s 417us/sample - loss: 1.7180 - categorical_crossentropy: 1.1296 - acc: 0.5942 - val_loss: 1.7593 - val_categorical_crossentropy: 1.1714 - val_acc: 0.5799\n",
      "Epoch 8/10\n",
      "50000/50000 [==============================] - 21s 415us/sample - loss: 1.6987 - categorical_crossentropy: 1.1113 - acc: 0.6015 - val_loss: 1.7410 - val_categorical_crossentropy: 1.1541 - val_acc: 0.5825\n",
      "Epoch 9/10\n",
      "50000/50000 [==============================] - 21s 414us/sample - loss: 1.6843 - categorical_crossentropy: 1.0978 - acc: 0.6065 - val_loss: 1.7448 - val_categorical_crossentropy: 1.1588 - val_acc: 0.5826\n",
      "Epoch 10/10\n",
      "50000/50000 [==============================] - 21s 415us/sample - loss: 1.6676 - categorical_crossentropy: 1.0821 - acc: 0.6129 - val_loss: 1.7443 - val_categorical_crossentropy: 1.1593 - val_acc: 0.5818\n",
      "Train on 50000 samples, validate on 10000 samples\n",
      "Epoch 1/10\n",
      "50000/50000 [==============================] - 21s 415us/sample - loss: 1.6515 - categorical_crossentropy: 1.0669 - acc: 0.6180 - val_loss: 1.7055 - val_categorical_crossentropy: 1.1214 - val_acc: 0.5967\n",
      "Epoch 2/10\n",
      "50000/50000 [==============================] - 21s 417us/sample - loss: 1.6374 - categorical_crossentropy: 1.0538 - acc: 0.6242 - val_loss: 1.7068 - val_categorical_crossentropy: 1.1237 - val_acc: 0.5971\n",
      "Epoch 3/10\n",
      "50000/50000 [==============================] - 21s 415us/sample - loss: 1.6219 - categorical_crossentropy: 1.0392 - acc: 0.6324 - val_loss: 1.6871 - val_categorical_crossentropy: 1.1049 - val_acc: 0.5999\n",
      "Epoch 4/10\n",
      "50000/50000 [==============================] - 21s 415us/sample - loss: 1.6047 - categorical_crossentropy: 1.0229 - acc: 0.6354 - val_loss: 1.6752 - val_categorical_crossentropy: 1.0939 - val_acc: 0.6009\n",
      "Epoch 5/10\n",
      "50000/50000 [==============================] - 21s 415us/sample - loss: 1.5882 - categorical_crossentropy: 1.0074 - acc: 0.6422 - val_loss: 1.6754 - val_categorical_crossentropy: 1.0951 - val_acc: 0.6113\n",
      "Epoch 6/10\n",
      "50000/50000 [==============================] - 21s 417us/sample - loss: 1.5761 - categorical_crossentropy: 0.9963 - acc: 0.6458 - val_loss: 1.6655 - val_categorical_crossentropy: 1.0861 - val_acc: 0.6114\n",
      "Epoch 7/10\n",
      "50000/50000 [==============================] - 21s 415us/sample - loss: 1.5594 - categorical_crossentropy: 0.9805 - acc: 0.6506 - val_loss: 1.6441 - val_categorical_crossentropy: 1.0657 - val_acc: 0.6173\n",
      "Epoch 8/10\n",
      "50000/50000 [==============================] - 21s 414us/sample - loss: 1.5468 - categorical_crossentropy: 0.9689 - acc: 0.6583 - val_loss: 1.6489 - val_categorical_crossentropy: 1.0714 - val_acc: 0.6179\n",
      "Epoch 9/10\n",
      "50000/50000 [==============================] - 21s 414us/sample - loss: 1.5325 - categorical_crossentropy: 0.9555 - acc: 0.6609 - val_loss: 1.6327 - val_categorical_crossentropy: 1.0561 - val_acc: 0.6229\n",
      "Epoch 10/10\n",
      "50000/50000 [==============================] - 21s 415us/sample - loss: 1.5179 - categorical_crossentropy: 0.9419 - acc: 0.6679 - val_loss: 1.6257 - val_categorical_crossentropy: 1.0501 - val_acc: 0.6203\n",
      "Train on 50000 samples, validate on 10000 samples\n",
      "Epoch 1/10\n",
      "50000/50000 [==============================] - 21s 415us/sample - loss: 1.5026 - categorical_crossentropy: 0.9275 - acc: 0.6712 - val_loss: 1.6104 - val_categorical_crossentropy: 1.0358 - val_acc: 0.6256\n",
      "Epoch 2/10\n",
      "50000/50000 [==============================] - 21s 418us/sample - loss: 1.4880 - categorical_crossentropy: 0.9138 - acc: 0.6773 - val_loss: 1.6108 - val_categorical_crossentropy: 1.0371 - val_acc: 0.6271\n",
      "Epoch 3/10\n",
      "50000/50000 [==============================] - 21s 414us/sample - loss: 1.4739 - categorical_crossentropy: 0.9006 - acc: 0.6816 - val_loss: 1.6023 - val_categorical_crossentropy: 1.0295 - val_acc: 0.6323\n",
      "Epoch 4/10\n",
      "50000/50000 [==============================] - 21s 414us/sample - loss: 1.4593 - categorical_crossentropy: 0.8870 - acc: 0.6844 - val_loss: 1.5945 - val_categorical_crossentropy: 1.0227 - val_acc: 0.6349\n",
      "Epoch 5/10\n",
      "50000/50000 [==============================] - 21s 414us/sample - loss: 1.4433 - categorical_crossentropy: 0.8720 - acc: 0.6937 - val_loss: 1.6496 - val_categorical_crossentropy: 1.0787 - val_acc: 0.6090\n",
      "Epoch 6/10\n",
      "50000/50000 [==============================] - 21s 413us/sample - loss: 1.4308 - categorical_crossentropy: 0.8604 - acc: 0.6958 - val_loss: 1.5869 - val_categorical_crossentropy: 1.0170 - val_acc: 0.6384\n",
      "Epoch 7/10\n",
      "50000/50000 [==============================] - 21s 414us/sample - loss: 1.4147 - categorical_crossentropy: 0.8452 - acc: 0.7018 - val_loss: 1.5759 - val_categorical_crossentropy: 1.0069 - val_acc: 0.6396\n",
      "Epoch 8/10\n",
      "50000/50000 [==============================] - 21s 415us/sample - loss: 1.3991 - categorical_crossentropy: 0.8305 - acc: 0.7077 - val_loss: 1.5920 - val_categorical_crossentropy: 1.0239 - val_acc: 0.6374\n",
      "Epoch 9/10\n",
      "50000/50000 [==============================] - 21s 414us/sample - loss: 1.3851 - categorical_crossentropy: 0.8174 - acc: 0.7125 - val_loss: 1.5738 - val_categorical_crossentropy: 1.0066 - val_acc: 0.6373\n",
      "Epoch 10/10\n",
      "50000/50000 [==============================] - 21s 414us/sample - loss: 1.3724 - categorical_crossentropy: 0.8057 - acc: 0.7164 - val_loss: 1.6126 - val_categorical_crossentropy: 1.0463 - val_acc: 0.6325\n",
      "Train on 50000 samples, validate on 10000 samples\n",
      "Epoch 1/10\n",
      "50000/50000 [==============================] - 21s 416us/sample - loss: 1.3551 - categorical_crossentropy: 0.7893 - acc: 0.7221 - val_loss: 1.5888 - val_categorical_crossentropy: 1.0235 - val_acc: 0.6346\n",
      "Epoch 2/10\n",
      "50000/50000 [==============================] - 21s 415us/sample - loss: 1.3385 - categorical_crossentropy: 0.7736 - acc: 0.7301 - val_loss: 1.5895 - val_categorical_crossentropy: 1.0251 - val_acc: 0.6370\n",
      "Epoch 3/10\n",
      "50000/50000 [==============================] - 21s 414us/sample - loss: 1.3232 - categorical_crossentropy: 0.7592 - acc: 0.7335 - val_loss: 1.5508 - val_categorical_crossentropy: 0.9873 - val_acc: 0.6461\n",
      "Epoch 4/10\n",
      "50000/50000 [==============================] - 21s 414us/sample - loss: 1.3108 - categorical_crossentropy: 0.7477 - acc: 0.7367 - val_loss: 1.5704 - val_categorical_crossentropy: 1.0078 - val_acc: 0.6417\n",
      "Epoch 5/10\n",
      "50000/50000 [==============================] - 21s 415us/sample - loss: 1.2930 - categorical_crossentropy: 0.7309 - acc: 0.7440 - val_loss: 1.5752 - val_categorical_crossentropy: 1.0136 - val_acc: 0.6420\n",
      "Epoch 6/10\n",
      "50000/50000 [==============================] - 21s 421us/sample - loss: 1.2800 - categorical_crossentropy: 0.7188 - acc: 0.7487 - val_loss: 1.6428 - val_categorical_crossentropy: 1.0820 - val_acc: 0.6212\n",
      "Epoch 7/10\n",
      "50000/50000 [==============================] - 21s 415us/sample - loss: 1.2609 - categorical_crossentropy: 0.7005 - acc: 0.7561 - val_loss: 1.5834 - val_categorical_crossentropy: 1.0235 - val_acc: 0.6397\n",
      "Epoch 8/10\n",
      "50000/50000 [==============================] - 21s 415us/sample - loss: 1.2406 - categorical_crossentropy: 0.6811 - acc: 0.7634 - val_loss: 1.6264 - val_categorical_crossentropy: 1.0674 - val_acc: 0.6280\n",
      "Epoch 9/10\n",
      "50000/50000 [==============================] - 21s 415us/sample - loss: 1.2270 - categorical_crossentropy: 0.6685 - acc: 0.7690 - val_loss: 1.5860 - val_categorical_crossentropy: 1.0279 - val_acc: 0.6406\n",
      "Epoch 10/10\n",
      "50000/50000 [==============================] - 21s 416us/sample - loss: 1.2106 - categorical_crossentropy: 0.6529 - acc: 0.7724 - val_loss: 1.5785 - val_categorical_crossentropy: 1.0213 - val_acc: 0.6452\n",
      "Train on 50000 samples, validate on 10000 samples\n",
      "Epoch 1/10\n",
      "50000/50000 [==============================] - 21s 415us/sample - loss: 1.1916 - categorical_crossentropy: 0.6349 - acc: 0.7810 - val_loss: 1.5817 - val_categorical_crossentropy: 1.0254 - val_acc: 0.6426\n",
      "Epoch 2/10\n",
      "50000/50000 [==============================] - 21s 416us/sample - loss: 1.1761 - categorical_crossentropy: 0.6202 - acc: 0.7856 - val_loss: 1.5822 - val_categorical_crossentropy: 1.0267 - val_acc: 0.6452\n",
      "Epoch 3/10\n",
      "50000/50000 [==============================] - 21s 415us/sample - loss: 1.1587 - categorical_crossentropy: 0.6037 - acc: 0.7914 - val_loss: 1.6383 - val_categorical_crossentropy: 1.0837 - val_acc: 0.6367\n",
      "Epoch 4/10\n",
      "50000/50000 [==============================] - 21s 415us/sample - loss: 1.1424 - categorical_crossentropy: 0.5883 - acc: 0.7971 - val_loss: 1.6535 - val_categorical_crossentropy: 1.0999 - val_acc: 0.6408\n",
      "Epoch 5/10\n",
      "50000/50000 [==============================] - 21s 415us/sample - loss: 1.1236 - categorical_crossentropy: 0.5704 - acc: 0.8029 - val_loss: 1.6905 - val_categorical_crossentropy: 1.1377 - val_acc: 0.6272\n",
      "Epoch 6/10\n",
      "50000/50000 [==============================] - 21s 415us/sample - loss: 1.1068 - categorical_crossentropy: 0.5544 - acc: 0.8079 - val_loss: 1.7296 - val_categorical_crossentropy: 1.1777 - val_acc: 0.6236\n",
      "Epoch 7/10\n",
      "50000/50000 [==============================] - 21s 415us/sample - loss: 1.0861 - categorical_crossentropy: 0.5346 - acc: 0.8169 - val_loss: 1.7003 - val_categorical_crossentropy: 1.1492 - val_acc: 0.6271\n",
      "Epoch 8/10\n",
      "50000/50000 [==============================] - 21s 414us/sample - loss: 1.0698 - categorical_crossentropy: 0.5192 - acc: 0.8219 - val_loss: 1.7022 - val_categorical_crossentropy: 1.1520 - val_acc: 0.6282\n",
      "Epoch 9/10\n",
      "50000/50000 [==============================] - 21s 414us/sample - loss: 1.0514 - categorical_crossentropy: 0.5016 - acc: 0.8293 - val_loss: 1.6991 - val_categorical_crossentropy: 1.1497 - val_acc: 0.6313\n",
      "Epoch 10/10\n",
      "50000/50000 [==============================] - 21s 417us/sample - loss: 1.0325 - categorical_crossentropy: 0.4836 - acc: 0.8362 - val_loss: 1.6487 - val_categorical_crossentropy: 1.1001 - val_acc: 0.6410\n",
      "Train on 50000 samples, validate on 10000 samples\n",
      "Epoch 1/10\n",
      "50000/50000 [==============================] - 21s 415us/sample - loss: 1.0143 - categorical_crossentropy: 0.4662 - acc: 0.8430 - val_loss: 1.7739 - val_categorical_crossentropy: 1.2263 - val_acc: 0.6226\n",
      "Epoch 2/10\n",
      "50000/50000 [==============================] - 21s 414us/sample - loss: 1.0052 - categorical_crossentropy: 0.4580 - acc: 0.8453 - val_loss: 1.8514 - val_categorical_crossentropy: 1.3046 - val_acc: 0.6169\n",
      "Epoch 3/10\n",
      "50000/50000 [==============================] - 21s 415us/sample - loss: 0.9860 - categorical_crossentropy: 0.4396 - acc: 0.8516 - val_loss: 1.7265 - val_categorical_crossentropy: 1.1805 - val_acc: 0.6380\n",
      "Epoch 4/10\n",
      "50000/50000 [==============================] - 21s 416us/sample - loss: 0.9610 - categorical_crossentropy: 0.4154 - acc: 0.8613 - val_loss: 1.8011 - val_categorical_crossentropy: 1.2559 - val_acc: 0.6284\n",
      "Epoch 5/10\n",
      "50000/50000 [==============================] - 21s 415us/sample - loss: 0.9483 - categorical_crossentropy: 0.4036 - acc: 0.8650 - val_loss: 1.7366 - val_categorical_crossentropy: 1.1922 - val_acc: 0.6324\n",
      "Epoch 6/10\n",
      "50000/50000 [==============================] - 21s 415us/sample - loss: 0.9233 - categorical_crossentropy: 0.3793 - acc: 0.8771 - val_loss: 1.9648 - val_categorical_crossentropy: 1.4213 - val_acc: 0.6065\n",
      "Epoch 7/10\n",
      "50000/50000 [==============================] - 21s 416us/sample - loss: 0.9109 - categorical_crossentropy: 0.3678 - acc: 0.8789 - val_loss: 1.9211 - val_categorical_crossentropy: 1.3784 - val_acc: 0.6163\n",
      "Epoch 8/10\n",
      "50000/50000 [==============================] - 21s 415us/sample - loss: 0.8993 - categorical_crossentropy: 0.3570 - acc: 0.8823 - val_loss: 1.8783 - val_categorical_crossentropy: 1.3364 - val_acc: 0.6174\n",
      "Epoch 9/10\n",
      "50000/50000 [==============================] - 21s 416us/sample - loss: 0.8815 - categorical_crossentropy: 0.3400 - acc: 0.8868 - val_loss: 1.9734 - val_categorical_crossentropy: 1.4323 - val_acc: 0.6088\n",
      "Epoch 10/10\n",
      "50000/50000 [==============================] - 21s 415us/sample - loss: 0.8649 - categorical_crossentropy: 0.3243 - acc: 0.8941 - val_loss: 1.8264 - val_categorical_crossentropy: 1.2861 - val_acc: 0.6319\n",
      "Train on 50000 samples, validate on 10000 samples\n",
      "Epoch 1/10\n",
      "50000/50000 [==============================] - 21s 415us/sample - loss: 0.8476 - categorical_crossentropy: 0.3077 - acc: 0.9015 - val_loss: 2.0260 - val_categorical_crossentropy: 1.4865 - val_acc: 0.6073\n",
      "Epoch 2/10\n",
      "50000/50000 [==============================] - 21s 413us/sample - loss: 0.8279 - categorical_crossentropy: 0.2888 - acc: 0.9083 - val_loss: 1.8820 - val_categorical_crossentropy: 1.3433 - val_acc: 0.6278\n",
      "Epoch 3/10\n",
      "50000/50000 [==============================] - 21s 413us/sample - loss: 0.8176 - categorical_crossentropy: 0.2793 - acc: 0.9113 - val_loss: 1.9487 - val_categorical_crossentropy: 1.4108 - val_acc: 0.6245\n",
      "Epoch 4/10\n",
      "50000/50000 [==============================] - 21s 418us/sample - loss: 0.8029 - categorical_crossentropy: 0.2654 - acc: 0.9162 - val_loss: 1.9607 - val_categorical_crossentropy: 1.4236 - val_acc: 0.6199\n",
      "Epoch 5/10\n",
      "50000/50000 [==============================] - 21s 415us/sample - loss: 0.7901 - categorical_crossentropy: 0.2534 - acc: 0.9196 - val_loss: 2.0219 - val_categorical_crossentropy: 1.4856 - val_acc: 0.6162\n",
      "Epoch 6/10\n",
      "50000/50000 [==============================] - 21s 414us/sample - loss: 0.7751 - categorical_crossentropy: 0.2392 - acc: 0.9253 - val_loss: 2.0006 - val_categorical_crossentropy: 1.4651 - val_acc: 0.6158\n",
      "Epoch 7/10\n",
      "50000/50000 [==============================] - 21s 413us/sample - loss: 0.7576 - categorical_crossentropy: 0.2225 - acc: 0.9331 - val_loss: 1.9573 - val_categorical_crossentropy: 1.4225 - val_acc: 0.6249\n",
      "Epoch 8/10\n",
      "50000/50000 [==============================] - 21s 413us/sample - loss: 0.7491 - categorical_crossentropy: 0.2147 - acc: 0.9342 - val_loss: 2.1382 - val_categorical_crossentropy: 1.6042 - val_acc: 0.6093\n",
      "Epoch 9/10\n",
      "50000/50000 [==============================] - 21s 413us/sample - loss: 0.7330 - categorical_crossentropy: 0.1994 - acc: 0.9401 - val_loss: 2.1175 - val_categorical_crossentropy: 1.5843 - val_acc: 0.6042\n",
      "Epoch 10/10\n",
      "50000/50000 [==============================] - 21s 411us/sample - loss: 0.7283 - categorical_crossentropy: 0.1955 - acc: 0.9404 - val_loss: 2.3274 - val_categorical_crossentropy: 1.7949 - val_acc: 0.5788\n",
      "Train on 50000 samples, validate on 10000 samples\n",
      "Epoch 1/10\n",
      "50000/50000 [==============================] - 21s 411us/sample - loss: 0.7163 - categorical_crossentropy: 0.1843 - acc: 0.9455 - val_loss: 2.2438 - val_categorical_crossentropy: 1.7121 - val_acc: 0.6038\n",
      "Epoch 2/10\n",
      "50000/50000 [==============================] - 21s 412us/sample - loss: 0.7106 - categorical_crossentropy: 0.1793 - acc: 0.9448 - val_loss: 2.2680 - val_categorical_crossentropy: 1.7371 - val_acc: 0.6028\n",
      "Epoch 3/10\n",
      "50000/50000 [==============================] - 21s 413us/sample - loss: 0.6918 - categorical_crossentropy: 0.1612 - acc: 0.9530 - val_loss: 2.1626 - val_categorical_crossentropy: 1.6325 - val_acc: 0.6138\n",
      "Epoch 4/10\n",
      "50000/50000 [==============================] - 21s 413us/sample - loss: 0.6915 - categorical_crossentropy: 0.1618 - acc: 0.9521 - val_loss: 2.3963 - val_categorical_crossentropy: 1.8669 - val_acc: 0.6010\n",
      "Epoch 5/10\n",
      "50000/50000 [==============================] - 21s 414us/sample - loss: 0.6831 - categorical_crossentropy: 0.1541 - acc: 0.9560 - val_loss: 2.1332 - val_categorical_crossentropy: 1.6046 - val_acc: 0.6048\n",
      "Epoch 6/10\n",
      "50000/50000 [==============================] - 21s 413us/sample - loss: 0.6684 - categorical_crossentropy: 0.1402 - acc: 0.9603 - val_loss: 2.2355 - val_categorical_crossentropy: 1.7077 - val_acc: 0.6034\n",
      "Epoch 7/10\n",
      "50000/50000 [==============================] - 21s 415us/sample - loss: 0.6686 - categorical_crossentropy: 0.1411 - acc: 0.9591 - val_loss: 2.2510 - val_categorical_crossentropy: 1.7239 - val_acc: 0.6111\n",
      "Epoch 8/10\n",
      "50000/50000 [==============================] - 21s 414us/sample - loss: 0.6548 - categorical_crossentropy: 0.1281 - acc: 0.9640 - val_loss: 2.2642 - val_categorical_crossentropy: 1.7379 - val_acc: 0.6101\n",
      "Epoch 9/10\n",
      "50000/50000 [==============================] - 22s 433us/sample - loss: 0.6477 - categorical_crossentropy: 0.1218 - acc: 0.9655 - val_loss: 2.1733 - val_categorical_crossentropy: 1.6477 - val_acc: 0.6202\n",
      "Epoch 10/10\n",
      "50000/50000 [==============================] - 21s 429us/sample - loss: 0.6381 - categorical_crossentropy: 0.1129 - acc: 0.9703 - val_loss: 2.3369 - val_categorical_crossentropy: 1.8121 - val_acc: 0.6004\n",
      "Train on 50000 samples, validate on 10000 samples\n",
      "Epoch 1/10\n",
      "50000/50000 [==============================] - 21s 414us/sample - loss: 0.6391 - categorical_crossentropy: 0.1147 - acc: 0.9679 - val_loss: 2.3684 - val_categorical_crossentropy: 1.8444 - val_acc: 0.5929\n",
      "Epoch 2/10\n",
      "50000/50000 [==============================] - 21s 414us/sample - loss: 0.6320 - categorical_crossentropy: 0.1083 - acc: 0.9703 - val_loss: 2.2936 - val_categorical_crossentropy: 1.7703 - val_acc: 0.6114\n",
      "Epoch 3/10\n",
      "50000/50000 [==============================] - 21s 414us/sample - loss: 0.6331 - categorical_crossentropy: 0.1102 - acc: 0.9690 - val_loss: 2.4260 - val_categorical_crossentropy: 1.9034 - val_acc: 0.6019\n",
      "Epoch 4/10\n",
      "50000/50000 [==============================] - 21s 414us/sample - loss: 0.6206 - categorical_crossentropy: 0.0984 - acc: 0.9740 - val_loss: 2.5127 - val_categorical_crossentropy: 1.9908 - val_acc: 0.6036\n",
      "Epoch 5/10\n",
      "50000/50000 [==============================] - 21s 413us/sample - loss: 0.6182 - categorical_crossentropy: 0.0968 - acc: 0.9735 - val_loss: 2.3542 - val_categorical_crossentropy: 1.8331 - val_acc: 0.6180\n",
      "Epoch 6/10\n",
      "50000/50000 [==============================] - 21s 415us/sample - loss: 0.6143 - categorical_crossentropy: 0.0936 - acc: 0.9742 - val_loss: 2.5114 - val_categorical_crossentropy: 1.9911 - val_acc: 0.6081\n",
      "Epoch 7/10\n",
      "50000/50000 [==============================] - 21s 415us/sample - loss: 0.6083 - categorical_crossentropy: 0.0884 - acc: 0.9766 - val_loss: 2.3708 - val_categorical_crossentropy: 1.8512 - val_acc: 0.6173\n",
      "Epoch 8/10\n",
      "50000/50000 [==============================] - 21s 413us/sample - loss: 0.5979 - categorical_crossentropy: 0.0787 - acc: 0.9804 - val_loss: 2.4441 - val_categorical_crossentropy: 1.9253 - val_acc: 0.6135\n",
      "Epoch 9/10\n",
      "50000/50000 [==============================] - 21s 415us/sample - loss: 0.5915 - categorical_crossentropy: 0.0730 - acc: 0.9824 - val_loss: 2.4898 - val_categorical_crossentropy: 1.9718 - val_acc: 0.6056\n",
      "Epoch 10/10\n",
      "50000/50000 [==============================] - 21s 415us/sample - loss: 0.5925 - categorical_crossentropy: 0.0748 - acc: 0.9809 - val_loss: 2.4649 - val_categorical_crossentropy: 1.9476 - val_acc: 0.6111\n",
      "Train on 50000 samples, validate on 10000 samples\n",
      "Epoch 1/10\n",
      "50000/50000 [==============================] - 21s 416us/sample - loss: 0.5873 - categorical_crossentropy: 0.0704 - acc: 0.9828 - val_loss: 2.6598 - val_categorical_crossentropy: 2.1432 - val_acc: 0.5875\n",
      "Epoch 2/10\n",
      "50000/50000 [==============================] - 21s 415us/sample - loss: 0.5841 - categorical_crossentropy: 0.0679 - acc: 0.9837 - val_loss: 2.3913 - val_categorical_crossentropy: 1.8755 - val_acc: 0.6167\n",
      "Epoch 3/10\n",
      "50000/50000 [==============================] - 21s 421us/sample - loss: 0.5802 - categorical_crossentropy: 0.0648 - acc: 0.9837 - val_loss: 2.6691 - val_categorical_crossentropy: 2.1541 - val_acc: 0.6098\n",
      "Epoch 4/10\n",
      "50000/50000 [==============================] - 21s 416us/sample - loss: 0.5858 - categorical_crossentropy: 0.0711 - acc: 0.9812 - val_loss: 2.5452 - val_categorical_crossentropy: 2.0309 - val_acc: 0.6109\n",
      "Epoch 5/10\n",
      "50000/50000 [==============================] - 21s 416us/sample - loss: 0.5742 - categorical_crossentropy: 0.0603 - acc: 0.9858 - val_loss: 2.5792 - val_categorical_crossentropy: 2.0656 - val_acc: 0.6030\n",
      "Epoch 6/10\n",
      "50000/50000 [==============================] - 21s 416us/sample - loss: 0.5720 - categorical_crossentropy: 0.0588 - acc: 0.9858 - val_loss: 2.4441 - val_categorical_crossentropy: 1.9313 - val_acc: 0.6192\n",
      "Epoch 7/10\n",
      "50000/50000 [==============================] - 21s 417us/sample - loss: 0.5734 - categorical_crossentropy: 0.0609 - acc: 0.9847 - val_loss: 2.7122 - val_categorical_crossentropy: 2.2001 - val_acc: 0.5968\n",
      "Epoch 8/10\n",
      "50000/50000 [==============================] - 21s 417us/sample - loss: 0.5696 - categorical_crossentropy: 0.0579 - acc: 0.9863 - val_loss: 2.5186 - val_categorical_crossentropy: 2.0073 - val_acc: 0.6209\n",
      "Epoch 9/10\n",
      "50000/50000 [==============================] - 21s 417us/sample - loss: 0.5651 - categorical_crossentropy: 0.0541 - acc: 0.9867 - val_loss: 2.5296 - val_categorical_crossentropy: 2.0191 - val_acc: 0.6083\n",
      "Epoch 10/10\n",
      "50000/50000 [==============================] - 21s 416us/sample - loss: 0.5660 - categorical_crossentropy: 0.0558 - acc: 0.9865 - val_loss: 2.7999 - val_categorical_crossentropy: 2.2900 - val_acc: 0.5934\n",
      "Train on 50000 samples, validate on 10000 samples\n",
      "Epoch 1/10\n",
      "50000/50000 [==============================] - 21s 414us/sample - loss: 0.5622 - categorical_crossentropy: 0.0527 - acc: 0.9871 - val_loss: 2.6302 - val_categorical_crossentropy: 2.1211 - val_acc: 0.6136\n",
      "Epoch 2/10\n",
      "50000/50000 [==============================] - 21s 415us/sample - loss: 0.5596 - categorical_crossentropy: 0.0509 - acc: 0.9872 - val_loss: 2.5909 - val_categorical_crossentropy: 2.0825 - val_acc: 0.6047\n",
      "Epoch 3/10\n",
      "50000/50000 [==============================] - 21s 414us/sample - loss: 0.5604 - categorical_crossentropy: 0.0524 - acc: 0.9871 - val_loss: 2.6421 - val_categorical_crossentropy: 2.1344 - val_acc: 0.6132\n",
      "Epoch 4/10\n",
      "50000/50000 [==============================] - 21s 415us/sample - loss: 0.5556 - categorical_crossentropy: 0.0483 - acc: 0.9886 - val_loss: 2.6405 - val_categorical_crossentropy: 2.1336 - val_acc: 0.6077\n",
      "Epoch 5/10\n",
      "50000/50000 [==============================] - 21s 417us/sample - loss: 0.5590 - categorical_crossentropy: 0.0524 - acc: 0.9867 - val_loss: 2.6538 - val_categorical_crossentropy: 2.1476 - val_acc: 0.6046\n",
      "Epoch 6/10\n",
      "50000/50000 [==============================] - 21s 413us/sample - loss: 0.5519 - categorical_crossentropy: 0.0461 - acc: 0.9892 - val_loss: 2.5491 - val_categorical_crossentropy: 2.0437 - val_acc: 0.6205\n",
      "Epoch 7/10\n",
      "50000/50000 [==============================] - 21s 418us/sample - loss: 0.5442 - categorical_crossentropy: 0.0391 - acc: 0.9914 - val_loss: 2.6359 - val_categorical_crossentropy: 2.1312 - val_acc: 0.6159\n",
      "Epoch 8/10\n",
      "50000/50000 [==============================] - 21s 417us/sample - loss: 0.5414 - categorical_crossentropy: 0.0370 - acc: 0.9919 - val_loss: 2.5829 - val_categorical_crossentropy: 2.0790 - val_acc: 0.6073\n",
      "Epoch 9/10\n",
      "50000/50000 [==============================] - 21s 415us/sample - loss: 0.5447 - categorical_crossentropy: 0.0411 - acc: 0.9907 - val_loss: 2.5963 - val_categorical_crossentropy: 2.0931 - val_acc: 0.6147\n",
      "Epoch 10/10\n",
      "50000/50000 [==============================] - 21s 415us/sample - loss: 0.5407 - categorical_crossentropy: 0.0379 - acc: 0.9915 - val_loss: 2.8711 - val_categorical_crossentropy: 2.3687 - val_acc: 0.5990\n",
      "Train on 50000 samples, validate on 10000 samples\n",
      "Epoch 1/10\n",
      "50000/50000 [==============================] - 21s 417us/sample - loss: 0.5397 - categorical_crossentropy: 0.0376 - acc: 0.9920 - val_loss: 2.5936 - val_categorical_crossentropy: 2.0919 - val_acc: 0.6177\n",
      "Epoch 2/10\n",
      "50000/50000 [==============================] - 21s 418us/sample - loss: 0.5405 - categorical_crossentropy: 0.0392 - acc: 0.9908 - val_loss: 2.7103 - val_categorical_crossentropy: 2.2094 - val_acc: 0.6020\n",
      "Epoch 3/10\n",
      "50000/50000 [==============================] - 21s 415us/sample - loss: 0.5397 - categorical_crossentropy: 0.0391 - acc: 0.9907 - val_loss: 3.0118 - val_categorical_crossentropy: 2.5115 - val_acc: 0.5902\n",
      "Epoch 4/10\n",
      "50000/50000 [==============================] - 21s 416us/sample - loss: 0.5405 - categorical_crossentropy: 0.0406 - acc: 0.9893 - val_loss: 2.8349 - val_categorical_crossentropy: 2.3354 - val_acc: 0.6065\n",
      "Epoch 5/10\n",
      "50000/50000 [==============================] - 21s 415us/sample - loss: 0.5350 - categorical_crossentropy: 0.0359 - acc: 0.9918 - val_loss: 2.6492 - val_categorical_crossentropy: 2.1504 - val_acc: 0.6159\n",
      "Epoch 6/10\n",
      "50000/50000 [==============================] - 21s 415us/sample - loss: 0.5352 - categorical_crossentropy: 0.0367 - acc: 0.9915 - val_loss: 2.6038 - val_categorical_crossentropy: 2.1057 - val_acc: 0.6195\n",
      "Epoch 7/10\n",
      "50000/50000 [==============================] - 21s 416us/sample - loss: 0.5360 - categorical_crossentropy: 0.0382 - acc: 0.9908 - val_loss: 2.7115 - val_categorical_crossentropy: 2.2141 - val_acc: 0.6182\n",
      "Epoch 8/10\n",
      "50000/50000 [==============================] - 21s 416us/sample - loss: 0.5309 - categorical_crossentropy: 0.0339 - acc: 0.9918 - val_loss: 2.9882 - val_categorical_crossentropy: 2.4916 - val_acc: 0.5893\n",
      "Epoch 9/10\n",
      "50000/50000 [==============================] - 21s 418us/sample - loss: 0.5352 - categorical_crossentropy: 0.0390 - acc: 0.9897 - val_loss: 2.8710 - val_categorical_crossentropy: 2.3751 - val_acc: 0.6016\n",
      "Epoch 10/10\n",
      "50000/50000 [==============================] - 21s 417us/sample - loss: 0.5342 - categorical_crossentropy: 0.0386 - acc: 0.9898 - val_loss: 3.0459 - val_categorical_crossentropy: 2.5506 - val_acc: 0.5917\n",
      "Train on 50000 samples, validate on 10000 samples\n",
      "Epoch 1/10\n",
      "50000/50000 [==============================] - 21s 420us/sample - loss: 0.5379 - categorical_crossentropy: 0.0430 - acc: 0.9881 - val_loss: 2.7900 - val_categorical_crossentropy: 2.2954 - val_acc: 0.5982\n",
      "Epoch 2/10\n",
      "50000/50000 [==============================] - 21s 416us/sample - loss: 0.5342 - categorical_crossentropy: 0.0400 - acc: 0.9896 - val_loss: 2.7341 - val_categorical_crossentropy: 2.2403 - val_acc: 0.6130\n",
      "Epoch 3/10\n",
      "50000/50000 [==============================] - 21s 416us/sample - loss: 0.5249 - categorical_crossentropy: 0.0315 - acc: 0.9926 - val_loss: 2.6013 - val_categorical_crossentropy: 2.1082 - val_acc: 0.6300\n",
      "Epoch 4/10\n",
      "50000/50000 [==============================] - 21s 414us/sample - loss: 0.5226 - categorical_crossentropy: 0.0298 - acc: 0.9929 - val_loss: 2.7323 - val_categorical_crossentropy: 2.2399 - val_acc: 0.6191\n",
      "Epoch 5/10\n",
      "50000/50000 [==============================] - 21s 415us/sample - loss: 0.5177 - categorical_crossentropy: 0.0257 - acc: 0.9948 - val_loss: 2.6790 - val_categorical_crossentropy: 2.1873 - val_acc: 0.6190\n",
      "Epoch 6/10\n",
      "50000/50000 [==============================] - 21s 415us/sample - loss: 0.5187 - categorical_crossentropy: 0.0274 - acc: 0.9938 - val_loss: 2.7049 - val_categorical_crossentropy: 2.2139 - val_acc: 0.6160\n",
      "Epoch 7/10\n",
      "50000/50000 [==============================] - 21s 416us/sample - loss: 0.5178 - categorical_crossentropy: 0.0272 - acc: 0.9941 - val_loss: 2.6718 - val_categorical_crossentropy: 2.1816 - val_acc: 0.6170\n",
      "Epoch 8/10\n",
      "50000/50000 [==============================] - 21s 414us/sample - loss: 0.5139 - categorical_crossentropy: 0.0241 - acc: 0.9952 - val_loss: 2.8809 - val_categorical_crossentropy: 2.3914 - val_acc: 0.6055\n",
      "Epoch 9/10\n",
      "50000/50000 [==============================] - 21s 417us/sample - loss: 0.5118 - categorical_crossentropy: 0.0227 - acc: 0.9950 - val_loss: 2.8091 - val_categorical_crossentropy: 2.3204 - val_acc: 0.6164\n",
      "Epoch 10/10\n",
      "50000/50000 [==============================] - 21s 415us/sample - loss: 0.5093 - categorical_crossentropy: 0.0210 - acc: 0.9960 - val_loss: 2.7279 - val_categorical_crossentropy: 2.2399 - val_acc: 0.6197\n"
     ]
    }
   ],
   "source": [
    "max_probs_arr_train=[]\n",
    "max_probs_arr_test=[]\n",
    "for i in range(15):\n",
    "    history2=model2.fit(x_train, y_train,\n",
    "              batch_size=batch_size,\n",
    "              epochs=10,\n",
    "              validation_data=(x_test, y_test),\n",
    "              shuffle=True)\n",
    "    #print('epoch '+str(i))\n",
    "    pred_train=model2.predict(x_train)\n",
    "    max_probs_train=pred_train[np.arange(len(pred_train)),np.argmax(pred_train,axis=-1)]\n",
    "    max_probs_arr_train.append(max_probs_train)\n",
    "    pred_test=model2.predict(x_test)\n",
    "    max_probs_test=pred_test[np.arange(len(pred_test)),np.argmax(pred_test,axis=-1)]\n",
    "    max_probs_arr_test.append(max_probs_test)\n",
    "    #plt.hist(max_probs_rand2,bins=100,range=(0,1));"
   ]
  },
  {
   "cell_type": "code",
   "execution_count": 58,
   "metadata": {},
   "outputs": [
    {
     "name": "stdout",
     "output_type": "stream",
     "text": [
      "0\n"
     ]
    },
    {
     "data": {
      "image/png": "[encoded data removed]",
      "text/plain": [
       "<Figure size 432x288 with 1 Axes>"
      ]
     },
     "metadata": {
      "needs_background": "light"
     },
     "output_type": "display_data"
    },
    {
     "name": "stdout",
     "output_type": "stream",
     "text": [
      "1\n"
     ]
    },
    {
     "data": {
      "image/png": "[encoded data removed]",
      "text/plain": [
       "<Figure size 432x288 with 1 Axes>"
      ]
     },
     "metadata": {
      "needs_background": "light"
     },
     "output_type": "display_data"
    },
    {
     "name": "stdout",
     "output_type": "stream",
     "text": [
      "2\n"
     ]
    },
    {
     "data": {
      "image/png": "[encoded data removed]",
      "text/plain": [
       "<Figure size 432x288 with 1 Axes>"
      ]
     },
     "metadata": {
      "needs_background": "light"
     },
     "output_type": "display_data"
    },
    {
     "name": "stdout",
     "output_type": "stream",
     "text": [
      "3\n"
     ]
    },
    {
     "data": {
      "image/png": "[encoded data removed]",
      "text/plain": [
       "<Figure size 432x288 with 1 Axes>"
      ]
     },
     "metadata": {
      "needs_background": "light"
     },
     "output_type": "display_data"
    },
    {
     "name": "stdout",
     "output_type": "stream",
     "text": [
      "4\n"
     ]
    },
    {
     "data": {
      "image/png": "[encoded data removed]",
      "text/plain": [
       "<Figure size 432x288 with 1 Axes>"
      ]
     },
     "metadata": {
      "needs_background": "light"
     },
     "output_type": "display_data"
    },
    {
     "name": "stdout",
     "output_type": "stream",
     "text": [
      "5\n"
     ]
    },
    {
     "data": {
      "image/png": "[encoded data removed]",
      "text/plain": [
       "<Figure size 432x288 with 1 Axes>"
      ]
     },
     "metadata": {
      "needs_background": "light"
     },
     "output_type": "display_data"
    },
    {
     "name": "stdout",
     "output_type": "stream",
     "text": [
      "6\n"
     ]
    },
    {
     "data": {
      "image/png": "[encoded data removed]",
      "text/plain": [
       "<Figure size 432x288 with 1 Axes>"
      ]
     },
     "metadata": {
      "needs_background": "light"
     },
     "output_type": "display_data"
    },
    {
     "name": "stdout",
     "output_type": "stream",
     "text": [
      "7\n"
     ]
    },
    {
     "data": {
      "image/png": "[encoded data removed]",
      "text/plain": [
       "<Figure size 432x288 with 1 Axes>"
      ]
     },
     "metadata": {
      "needs_background": "light"
     },
     "output_type": "display_data"
    },
    {
     "name": "stdout",
     "output_type": "stream",
     "text": [
      "8\n"
     ]
    },
    {
     "data": {
      "image/png": "[encoded data removed]",
      "text/plain": [
       "<Figure size 432x288 with 1 Axes>"
      ]
     },
     "metadata": {
      "needs_background": "light"
     },
     "output_type": "display_data"
    },
    {
     "name": "stdout",
     "output_type": "stream",
     "text": [
      "9\n"
     ]
    },
    {
     "data": {
      "image/png": "[encoded data removed]",
      "text/plain": [
       "<Figure size 432x288 with 1 Axes>"
      ]
     },
     "metadata": {
      "needs_background": "light"
     },
     "output_type": "display_data"
    },
    {
     "name": "stdout",
     "output_type": "stream",
     "text": [
      "10\n"
     ]
    },
    {
     "data": {
      "image/png": "[encoded data removed]",
      "text/plain": [
       "<Figure size 432x288 with 1 Axes>"
      ]
     },
     "metadata": {
      "needs_background": "light"
     },
     "output_type": "display_data"
    },
    {
     "name": "stdout",
     "output_type": "stream",
     "text": [
      "11\n"
     ]
    },
    {
     "data": {
      "image/png": "[encoded data removed]",
      "text/plain": [
       "<Figure size 432x288 with 1 Axes>"
      ]
     },
     "metadata": {
      "needs_background": "light"
     },
     "output_type": "display_data"
    },
    {
     "name": "stdout",
     "output_type": "stream",
     "text": [
      "12\n"
     ]
    },
    {
     "data": {
      "image/png": "[encoded data removed]",
      "text/plain": [
       "<Figure size 432x288 with 1 Axes>"
      ]
     },
     "metadata": {
      "needs_background": "light"
     },
     "output_type": "display_data"
    },
    {
     "name": "stdout",
     "output_type": "stream",
     "text": [
      "13\n"
     ]
    },
    {
     "data": {
      "image/png": "[encoded data removed]",
      "text/plain": [
       "<Figure size 432x288 with 1 Axes>"
      ]
     },
     "metadata": {
      "needs_background": "light"
     },
     "output_type": "display_data"
    },
    {
     "name": "stdout",
     "output_type": "stream",
     "text": [
      "14\n"
     ]
    },
    {
     "data": {
      "image/png": "[encoded data removed]",
      "text/plain": [
       "<Figure size 432x288 with 1 Axes>"
      ]
     },
     "metadata": {
      "needs_background": "light"
     },
     "output_type": "display_data"
    }
   ],
   "source": [
    "#also do above with actual data\n",
    "for i in range(15):\n",
    "    print(i)\n",
    "    plt.hist(max_probs_arr[i],bins=100,range=(0,1));\n",
    "    plt.show()"
   ]
  },
  {
   "cell_type": "code",
   "execution_count": 64,
   "metadata": {},
   "outputs": [
    {
     "name": "stdout",
     "output_type": "stream",
     "text": [
      "0\n"
     ]
    },
    {
     "data": {
      "image/png": "[encoded data removed]",
      "text/plain": [
       "<Figure size 432x288 with 1 Axes>"
      ]
     },
     "metadata": {
      "needs_background": "light"
     },
     "output_type": "display_data"
    },
    {
     "name": "stdout",
     "output_type": "stream",
     "text": [
      "1\n"
     ]
    },
    {
     "data": {
      "image/png": "[encoded data removed]",
      "text/plain": [
       "<Figure size 432x288 with 1 Axes>"
      ]
     },
     "metadata": {
      "needs_background": "light"
     },
     "output_type": "display_data"
    },
    {
     "name": "stdout",
     "output_type": "stream",
     "text": [
      "2\n"
     ]
    },
    {
     "data": {
      "image/png": "[encoded data removed]",
      "text/plain": [
       "<Figure size 432x288 with 1 Axes>"
      ]
     },
     "metadata": {
      "needs_background": "light"
     },
     "output_type": "display_data"
    },
    {
     "name": "stdout",
     "output_type": "stream",
     "text": [
      "3\n"
     ]
    },
    {
     "data": {
      "image/png": "[encoded data removed]",
      "text/plain": [
       "<Figure size 432x288 with 1 Axes>"
      ]
     },
     "metadata": {
      "needs_background": "light"
     },
     "output_type": "display_data"
    },
    {
     "name": "stdout",
     "output_type": "stream",
     "text": [
      "4\n"
     ]
    },
    {
     "data": {
      "image/png": "[encoded data removed]",
      "text/plain": [
       "<Figure size 432x288 with 1 Axes>"
      ]
     },
     "metadata": {
      "needs_background": "light"
     },
     "output_type": "display_data"
    },
    {
     "name": "stdout",
     "output_type": "stream",
     "text": [
      "5\n"
     ]
    },
    {
     "data": {
      "image/png": "[encoded data removed]",
      "text/plain": [
       "<Figure size 432x288 with 1 Axes>"
      ]
     },
     "metadata": {
      "needs_background": "light"
     },
     "output_type": "display_data"
    },
    {
     "name": "stdout",
     "output_type": "stream",
     "text": [
      "6\n"
     ]
    },
    {
     "data": {
      "image/png": "[encoded data removed]",
      "text/plain": [
       "<Figure size 432x288 with 1 Axes>"
      ]
     },
     "metadata": {
      "needs_background": "light"
     },
     "output_type": "display_data"
    },
    {
     "name": "stdout",
     "output_type": "stream",
     "text": [
      "7\n"
     ]
    },
    {
     "data": {
      "image/png": "[encoded data removed]",
      "text/plain": [
       "<Figure size 432x288 with 1 Axes>"
      ]
     },
     "metadata": {
      "needs_background": "light"
     },
     "output_type": "display_data"
    },
    {
     "name": "stdout",
     "output_type": "stream",
     "text": [
      "8\n"
     ]
    },
    {
     "data": {
      "image/png": "[encoded data removed]",
      "text/plain": [
       "<Figure size 432x288 with 1 Axes>"
      ]
     },
     "metadata": {
      "needs_background": "light"
     },
     "output_type": "display_data"
    },
    {
     "name": "stdout",
     "output_type": "stream",
     "text": [
      "9\n"
     ]
    },
    {
     "data": {
      "image/png": "[encoded data removed]",
      "text/plain": [
       "<Figure size 432x288 with 1 Axes>"
      ]
     },
     "metadata": {
      "needs_background": "light"
     },
     "output_type": "display_data"
    },
    {
     "name": "stdout",
     "output_type": "stream",
     "text": [
      "10\n"
     ]
    },
    {
     "data": {
      "image/png": "[encoded data removed]",
      "text/plain": [
       "<Figure size 432x288 with 1 Axes>"
      ]
     },
     "metadata": {
      "needs_background": "light"
     },
     "output_type": "display_data"
    },
    {
     "name": "stdout",
     "output_type": "stream",
     "text": [
      "11\n"
     ]
    },
    {
     "data": {
      "image/png": "[encoded data removed]",
      "text/plain": [
       "<Figure size 432x288 with 1 Axes>"
      ]
     },
     "metadata": {
      "needs_background": "light"
     },
     "output_type": "display_data"
    },
    {
     "name": "stdout",
     "output_type": "stream",
     "text": [
      "12\n"
     ]
    },
    {
     "data": {
      "image/png": "[encoded data removed]",
      "text/plain": [
       "<Figure size 432x288 with 1 Axes>"
      ]
     },
     "metadata": {
      "needs_background": "light"
     },
     "output_type": "display_data"
    },
    {
     "name": "stdout",
     "output_type": "stream",
     "text": [
      "13\n"
     ]
    },
    {
     "data": {
      "image/png": "[encoded data removed]",
      "text/plain": [
       "<Figure size 432x288 with 1 Axes>"
      ]
     },
     "metadata": {
      "needs_background": "light"
     },
     "output_type": "display_data"
    },
    {
     "name": "stdout",
     "output_type": "stream",
     "text": [
      "14\n"
     ]
    },
    {
     "data": {
      "image/png": "[encoded data removed]",
      "text/plain": [
       "<Figure size 432x288 with 1 Axes>"
      ]
     },
     "metadata": {
      "needs_background": "light"
     },
     "output_type": "display_data"
    }
   ],
   "source": [
    "for i in range(15):\n",
    "    print(i)\n",
    "    plt.hist(max_probs_arr_train[i],bins=100,range=(0,1));\n",
    "    plt.show()"
   ]
  },
  {
   "cell_type": "code",
   "execution_count": 65,
   "metadata": {},
   "outputs": [
    {
     "name": "stdout",
     "output_type": "stream",
     "text": [
      "0\n"
     ]
    },
    {
     "data": {
      "image/png": "[encoded data removed]",
      "text/plain": [
       "<Figure size 432x288 with 1 Axes>"
      ]
     },
     "metadata": {
      "needs_background": "light"
     },
     "output_type": "display_data"
    },
    {
     "name": "stdout",
     "output_type": "stream",
     "text": [
      "1\n"
     ]
    },
    {
     "data": {
      "image/png": "[encoded data removed]",
      "text/plain": [
       "<Figure size 432x288 with 1 Axes>"
      ]
     },
     "metadata": {
      "needs_background": "light"
     },
     "output_type": "display_data"
    },
    {
     "name": "stdout",
     "output_type": "stream",
     "text": [
      "2\n"
     ]
    },
    {
     "data": {
      "image/png": "[encoded data removed]",
      "text/plain": [
       "<Figure size 432x288 with 1 Axes>"
      ]
     },
     "metadata": {
      "needs_background": "light"
     },
     "output_type": "display_data"
    },
    {
     "name": "stdout",
     "output_type": "stream",
     "text": [
      "3\n"
     ]
    },
    {
     "data": {
      "image/png": "[encoded data removed]",
      "text/plain": [
       "<Figure size 432x288 with 1 Axes>"
      ]
     },
     "metadata": {
      "needs_background": "light"
     },
     "output_type": "display_data"
    },
    {
     "name": "stdout",
     "output_type": "stream",
     "text": [
      "4\n"
     ]
    },
    {
     "data": {
      "image/png": "[encoded data removed]",
      "text/plain": [
       "<Figure size 432x288 with 1 Axes>"
      ]
     },
     "metadata": {
      "needs_background": "light"
     },
     "output_type": "display_data"
    },
    {
     "name": "stdout",
     "output_type": "stream",
     "text": [
      "5\n"
     ]
    },
    {
     "data": {
      "image/png": "[encoded data removed]",
      "text/plain": [
       "<Figure size 432x288 with 1 Axes>"
      ]
     },
     "metadata": {
      "needs_background": "light"
     },
     "output_type": "display_data"
    },
    {
     "name": "stdout",
     "output_type": "stream",
     "text": [
      "6\n"
     ]
    },
    {
     "data": {
      "image/png": "[encoded data removed]",
      "text/plain": [
       "<Figure size 432x288 with 1 Axes>"
      ]
     },
     "metadata": {
      "needs_background": "light"
     },
     "output_type": "display_data"
    },
    {
     "name": "stdout",
     "output_type": "stream",
     "text": [
      "7\n"
     ]
    },
    {
     "data": {
      "image/png": "[encoded data removed]",
      "text/plain": [
       "<Figure size 432x288 with 1 Axes>"
      ]
     },
     "metadata": {
      "needs_background": "light"
     },
     "output_type": "display_data"
    },
    {
     "name": "stdout",
     "output_type": "stream",
     "text": [
      "8\n"
     ]
    },
    {
     "data": {
      "image/png": "[encoded data removed]",
      "text/plain": [
       "<Figure size 432x288 with 1 Axes>"
      ]
     },
     "metadata": {
      "needs_background": "light"
     },
     "output_type": "display_data"
    },
    {
     "name": "stdout",
     "output_type": "stream",
     "text": [
      "9\n"
     ]
    },
    {
     "data": {
      "image/png": "[encoded data removed]",
      "text/plain": [
       "<Figure size 432x288 with 1 Axes>"
      ]
     },
     "metadata": {
      "needs_background": "light"
     },
     "output_type": "display_data"
    },
    {
     "name": "stdout",
     "output_type": "stream",
     "text": [
      "10\n"
     ]
    },
    {
     "data": {
      "image/png": "[encoded data removed]",
      "text/plain": [
       "<Figure size 432x288 with 1 Axes>"
      ]
     },
     "metadata": {
      "needs_background": "light"
     },
     "output_type": "display_data"
    },
    {
     "name": "stdout",
     "output_type": "stream",
     "text": [
      "11\n"
     ]
    },
    {
     "data": {
      "image/png": "[encoded data removed]",
      "text/plain": [
       "<Figure size 432x288 with 1 Axes>"
      ]
     },
     "metadata": {
      "needs_background": "light"
     },
     "output_type": "display_data"
    },
    {
     "name": "stdout",
     "output_type": "stream",
     "text": [
      "12\n"
     ]
    },
    {
     "data": {
      "image/png": "[encoded data removed]",
      "text/plain": [
       "<Figure size 432x288 with 1 Axes>"
      ]
     },
     "metadata": {
      "needs_background": "light"
     },
     "output_type": "display_data"
    },
    {
     "name": "stdout",
     "output_type": "stream",
     "text": [
      "13\n"
     ]
    },
    {
     "data": {
      "image/png": "[encoded data removed]",
      "text/plain": [
       "<Figure size 432x288 with 1 Axes>"
      ]
     },
     "metadata": {
      "needs_background": "light"
     },
     "output_type": "display_data"
    },
    {
     "name": "stdout",
     "output_type": "stream",
     "text": [
      "14\n"
     ]
    },
    {
     "data": {
      "image/png": "[encoded data removed]",
      "text/plain": [
       "<Figure size 432x288 with 1 Axes>"
      ]
     },
     "metadata": {
      "needs_background": "light"
     },
     "output_type": "display_data"
    }
   ],
   "source": [
    "for i in range(15):\n",
    "    print(i)\n",
    "    plt.hist(max_probs_arr_test[i],bins=100,range=(0,1));\n",
    "    plt.show()"
   ]
  },
  {
   "cell_type": "code",
   "execution_count": 69,
   "metadata": {},
   "outputs": [
    {
     "name": "stdout",
     "output_type": "stream",
     "text": [
      "[[ 0.1095177   1.56485466  0.86696461]\n",
      " [-1.16017337  0.23350588  0.99935723]\n",
      " [-0.19703579 -0.89339499 -0.55810075]\n",
      " [-0.77746101  1.53325224  0.03042566]\n",
      " [-0.25788091 -0.44489058 -0.1149531 ]\n",
      " [ 2.54503251  0.07235279  1.51366551]\n",
      " [-0.41352681 -0.19003042 -0.14458576]\n",
      " [ 2.37116815 -0.47991624 -0.28993877]\n",
      " [ 0.9958151  -1.61562785  0.59581913]\n",
      " [-0.85008124  0.76202861  0.31040693]\n",
      " [-0.8533318   0.44683617 -0.91024055]\n",
      " [ 0.02393105  1.13235516 -1.32239575]\n",
      " [ 2.25882797  0.33039773  1.49815016]\n",
      " [-1.07148244  0.11032187 -0.62777993]\n",
      " [-0.3247835  -1.82994575  0.67407962]\n",
      " [ 0.40970969  1.18589884  0.56970764]\n",
      " [-0.13636022  0.52685132  2.07502885]\n",
      " [ 1.15133467 -0.64934685 -1.42717834]\n",
      " [-0.31341484  1.04436353 -1.55146768]\n",
      " [-2.23566964  0.64129598  0.57732037]\n",
      " [-1.16027043  0.0754196  -0.6935676 ]\n",
      " [-1.37846671  0.08850029  0.47366631]\n",
      " [ 0.41523568  0.25488527 -0.16561748]\n",
      " [ 0.14153975  0.0969178  -0.83123066]\n",
      " [ 0.28542396 -0.14373868  1.51477584]\n",
      " [-2.1144411   0.15700047  1.00165408]\n",
      " [-1.13926576 -2.76012178  1.31648205]\n",
      " [-0.69888373 -1.37757435  0.3343396 ]\n",
      " [ 0.52389379 -2.24489793 -0.78476541]\n",
      " [ 1.06889197 -0.52320647  1.01043813]\n",
      " [-0.69571404 -1.16289326  0.15665378]\n",
      " [ 2.29737405 -2.03422157 -0.32080486]]\n"
     ]
    }
   ],
   "source": [
    "print(x_rand[0][0])"
   ]
  },
  {
   "cell_type": "code",
   "execution_count": 68,
   "metadata": {},
   "outputs": [
    {
     "name": "stdout",
     "output_type": "stream",
     "text": [
      "[[-0.28121656 -0.2904184  -0.272762  ]\n",
      " [-0.3417282  -0.35075825 -0.3406073 ]\n",
      " [-0.31784582 -0.3460663  -0.35130537]\n",
      " [-0.24929157 -0.3242303  -0.3563872 ]\n",
      " [-0.13406172 -0.2518796  -0.31870103]\n",
      " [-0.05432341 -0.18374744 -0.27757806]\n",
      " [ 0.02206933 -0.12268624 -0.23199037]\n",
      " [ 0.04356331 -0.11271378 -0.21382466]\n",
      " [ 0.05692065 -0.08735809 -0.18045619]\n",
      " [ 0.05516279 -0.07699654 -0.16585878]\n",
      " [-0.01660705 -0.14487293 -0.22945985]\n",
      " [-0.04080406 -0.16114703 -0.23396876]\n",
      " [ 0.02501225 -0.0991011  -0.1757606 ]\n",
      " [ 0.03280276 -0.11083832 -0.19533703]\n",
      " [ 0.00535029 -0.13814858 -0.22266653]\n",
      " [-0.02593207 -0.16931179 -0.2538093 ]\n",
      " [ 0.00575948 -0.13370737 -0.22189823]\n",
      " [-0.00590163 -0.13358232 -0.2335603 ]\n",
      " [-0.04506794 -0.16884515 -0.28069678]\n",
      " [ 0.01417804 -0.1057376  -0.22539553]\n",
      " [ 0.01525122 -0.10868725 -0.2361283 ]\n",
      " [-0.00768566 -0.13576707 -0.25952908]\n",
      " [ 0.00466084 -0.13529578 -0.2396498 ]\n",
      " [ 0.01753843 -0.12274209 -0.22718188]\n",
      " [ 0.07040161 -0.07430843 -0.17893204]\n",
      " [ 0.11526155 -0.02976137 -0.13466308]\n",
      " [ 0.13695264 -0.00827026 -0.10172793]\n",
      " [ 0.10460478 -0.03300822 -0.12305185]\n",
      " [ 0.10357058 -0.02657068 -0.11311665]\n",
      " [ 0.1056478  -0.016895   -0.095853  ]\n",
      " [ 0.08473122 -0.04199991 -0.117654  ]\n",
      " [ 0.06990451 -0.04499993 -0.11330768]]\n"
     ]
    }
   ],
   "source": [
    "print(x_train[0][0])"
   ]
  },
  {
   "cell_type": "code",
   "execution_count": 70,
   "metadata": {},
   "outputs": [],
   "source": [
    "x_rand=np.random.uniform(0,1,(10000,32,32,3))"
   ]
  },
  {
   "cell_type": "code",
   "execution_count": 71,
   "metadata": {},
   "outputs": [
    {
     "data": {
      "image/png": "[encoded data removed]",
      "text/plain": [
       "<Figure size 432x288 with 1 Axes>"
      ]
     },
     "metadata": {
      "needs_background": "light"
     },
     "output_type": "display_data"
    }
   ],
   "source": [
    "pred_rand2=model2.predict(x_rand)\n",
    "max_probs_rand2=pred_rand2[np.arange(len(pred_rand2)),np.argmax(pred_rand2,axis=-1)]\n",
    "plt.hist(max_probs_rand2,bins=100,range=(0,1));"
   ]
  },
  {
   "cell_type": "code",
   "execution_count": 72,
   "metadata": {},
   "outputs": [
    {
     "name": "stdout",
     "output_type": "stream",
     "text": [
      "Model: \"model_7\"\n",
      "__________________________________________________________________________________________________\n",
      "Layer (type)                    Output Shape         Param #     Connected to                     \n",
      "==================================================================================================\n",
      "input_8 (InputLayer)            [(None, 32, 32, 3)]  0                                            \n",
      "__________________________________________________________________________________________________\n",
      "conv2d_217 (Conv2D)             (None, 32, 32, 16)   448         input_8[0][0]                    \n",
      "__________________________________________________________________________________________________\n",
      "batch_normalization_196 (BatchN (None, 32, 32, 16)   64          conv2d_217[0][0]                 \n",
      "__________________________________________________________________________________________________\n",
      "activation_196 (Activation)     (None, 32, 32, 16)   0           batch_normalization_196[0][0]    \n",
      "__________________________________________________________________________________________________\n",
      "conv2d_218 (Conv2D)             (None, 32, 32, 16)   272         activation_196[0][0]             \n",
      "__________________________________________________________________________________________________\n",
      "batch_normalization_197 (BatchN (None, 32, 32, 16)   64          conv2d_218[0][0]                 \n",
      "__________________________________________________________________________________________________\n",
      "activation_197 (Activation)     (None, 32, 32, 16)   0           batch_normalization_197[0][0]    \n",
      "__________________________________________________________________________________________________\n",
      "conv2d_219 (Conv2D)             (None, 32, 32, 16)   2320        activation_197[0][0]             \n",
      "__________________________________________________________________________________________________\n",
      "batch_normalization_198 (BatchN (None, 32, 32, 16)   64          conv2d_219[0][0]                 \n",
      "__________________________________________________________________________________________________\n",
      "activation_198 (Activation)     (None, 32, 32, 16)   0           batch_normalization_198[0][0]    \n",
      "__________________________________________________________________________________________________\n",
      "conv2d_221 (Conv2D)             (None, 32, 32, 64)   1088        activation_196[0][0]             \n",
      "__________________________________________________________________________________________________\n",
      "conv2d_220 (Conv2D)             (None, 32, 32, 64)   1088        activation_198[0][0]             \n",
      "__________________________________________________________________________________________________\n",
      "add_63 (Add)                    (None, 32, 32, 64)   0           conv2d_221[0][0]                 \n",
      "                                                                 conv2d_220[0][0]                 \n",
      "__________________________________________________________________________________________________\n",
      "batch_normalization_199 (BatchN (None, 32, 32, 64)   256         add_63[0][0]                     \n",
      "__________________________________________________________________________________________________\n",
      "activation_199 (Activation)     (None, 32, 32, 64)   0           batch_normalization_199[0][0]    \n",
      "__________________________________________________________________________________________________\n",
      "conv2d_222 (Conv2D)             (None, 32, 32, 16)   1040        activation_199[0][0]             \n",
      "__________________________________________________________________________________________________\n",
      "batch_normalization_200 (BatchN (None, 32, 32, 16)   64          conv2d_222[0][0]                 \n",
      "__________________________________________________________________________________________________\n",
      "activation_200 (Activation)     (None, 32, 32, 16)   0           batch_normalization_200[0][0]    \n",
      "__________________________________________________________________________________________________\n",
      "conv2d_223 (Conv2D)             (None, 32, 32, 16)   2320        activation_200[0][0]             \n",
      "__________________________________________________________________________________________________\n",
      "batch_normalization_201 (BatchN (None, 32, 32, 16)   64          conv2d_223[0][0]                 \n",
      "__________________________________________________________________________________________________\n",
      "activation_201 (Activation)     (None, 32, 32, 16)   0           batch_normalization_201[0][0]    \n",
      "__________________________________________________________________________________________________\n",
      "conv2d_224 (Conv2D)             (None, 32, 32, 64)   1088        activation_201[0][0]             \n",
      "__________________________________________________________________________________________________\n",
      "add_64 (Add)                    (None, 32, 32, 64)   0           add_63[0][0]                     \n",
      "                                                                 conv2d_224[0][0]                 \n",
      "__________________________________________________________________________________________________\n",
      "batch_normalization_202 (BatchN (None, 32, 32, 64)   256         add_64[0][0]                     \n",
      "__________________________________________________________________________________________________\n",
      "activation_202 (Activation)     (None, 32, 32, 64)   0           batch_normalization_202[0][0]    \n",
      "__________________________________________________________________________________________________\n",
      "conv2d_225 (Conv2D)             (None, 32, 32, 16)   1040        activation_202[0][0]             \n",
      "__________________________________________________________________________________________________\n",
      "batch_normalization_203 (BatchN (None, 32, 32, 16)   64          conv2d_225[0][0]                 \n",
      "__________________________________________________________________________________________________\n",
      "activation_203 (Activation)     (None, 32, 32, 16)   0           batch_normalization_203[0][0]    \n",
      "__________________________________________________________________________________________________\n",
      "conv2d_226 (Conv2D)             (None, 32, 32, 16)   2320        activation_203[0][0]             \n",
      "__________________________________________________________________________________________________\n",
      "batch_normalization_204 (BatchN (None, 32, 32, 16)   64          conv2d_226[0][0]                 \n",
      "__________________________________________________________________________________________________\n",
      "activation_204 (Activation)     (None, 32, 32, 16)   0           batch_normalization_204[0][0]    \n",
      "__________________________________________________________________________________________________\n",
      "conv2d_227 (Conv2D)             (None, 32, 32, 64)   1088        activation_204[0][0]             \n",
      "__________________________________________________________________________________________________\n",
      "add_65 (Add)                    (None, 32, 32, 64)   0           add_64[0][0]                     \n",
      "                                                                 conv2d_227[0][0]                 \n",
      "__________________________________________________________________________________________________\n",
      "batch_normalization_205 (BatchN (None, 32, 32, 64)   256         add_65[0][0]                     \n",
      "__________________________________________________________________________________________________\n",
      "activation_205 (Activation)     (None, 32, 32, 64)   0           batch_normalization_205[0][0]    \n",
      "__________________________________________________________________________________________________\n",
      "conv2d_228 (Conv2D)             (None, 16, 16, 64)   4160        activation_205[0][0]             \n",
      "__________________________________________________________________________________________________\n",
      "batch_normalization_206 (BatchN (None, 16, 16, 64)   256         conv2d_228[0][0]                 \n",
      "__________________________________________________________________________________________________\n",
      "activation_206 (Activation)     (None, 16, 16, 64)   0           batch_normalization_206[0][0]    \n",
      "__________________________________________________________________________________________________\n",
      "conv2d_229 (Conv2D)             (None, 16, 16, 64)   36928       activation_206[0][0]             \n",
      "__________________________________________________________________________________________________\n",
      "batch_normalization_207 (BatchN (None, 16, 16, 64)   256         conv2d_229[0][0]                 \n",
      "__________________________________________________________________________________________________\n",
      "activation_207 (Activation)     (None, 16, 16, 64)   0           batch_normalization_207[0][0]    \n",
      "__________________________________________________________________________________________________\n",
      "conv2d_231 (Conv2D)             (None, 16, 16, 128)  8320        add_65[0][0]                     \n",
      "__________________________________________________________________________________________________\n",
      "conv2d_230 (Conv2D)             (None, 16, 16, 128)  8320        activation_207[0][0]             \n",
      "__________________________________________________________________________________________________\n",
      "add_66 (Add)                    (None, 16, 16, 128)  0           conv2d_231[0][0]                 \n",
      "                                                                 conv2d_230[0][0]                 \n",
      "__________________________________________________________________________________________________\n",
      "batch_normalization_208 (BatchN (None, 16, 16, 128)  512         add_66[0][0]                     \n",
      "__________________________________________________________________________________________________\n",
      "activation_208 (Activation)     (None, 16, 16, 128)  0           batch_normalization_208[0][0]    \n",
      "__________________________________________________________________________________________________\n",
      "conv2d_232 (Conv2D)             (None, 16, 16, 64)   8256        activation_208[0][0]             \n",
      "__________________________________________________________________________________________________\n",
      "batch_normalization_209 (BatchN (None, 16, 16, 64)   256         conv2d_232[0][0]                 \n",
      "__________________________________________________________________________________________________\n",
      "activation_209 (Activation)     (None, 16, 16, 64)   0           batch_normalization_209[0][0]    \n",
      "__________________________________________________________________________________________________\n",
      "conv2d_233 (Conv2D)             (None, 16, 16, 64)   36928       activation_209[0][0]             \n",
      "__________________________________________________________________________________________________\n",
      "batch_normalization_210 (BatchN (None, 16, 16, 64)   256         conv2d_233[0][0]                 \n",
      "__________________________________________________________________________________________________\n",
      "activation_210 (Activation)     (None, 16, 16, 64)   0           batch_normalization_210[0][0]    \n",
      "__________________________________________________________________________________________________\n",
      "conv2d_234 (Conv2D)             (None, 16, 16, 128)  8320        activation_210[0][0]             \n",
      "__________________________________________________________________________________________________\n",
      "add_67 (Add)                    (None, 16, 16, 128)  0           add_66[0][0]                     \n",
      "                                                                 conv2d_234[0][0]                 \n",
      "__________________________________________________________________________________________________\n",
      "batch_normalization_211 (BatchN (None, 16, 16, 128)  512         add_67[0][0]                     \n",
      "__________________________________________________________________________________________________\n",
      "activation_211 (Activation)     (None, 16, 16, 128)  0           batch_normalization_211[0][0]    \n",
      "__________________________________________________________________________________________________\n",
      "conv2d_235 (Conv2D)             (None, 16, 16, 64)   8256        activation_211[0][0]             \n",
      "__________________________________________________________________________________________________\n",
      "batch_normalization_212 (BatchN (None, 16, 16, 64)   256         conv2d_235[0][0]                 \n",
      "__________________________________________________________________________________________________\n",
      "activation_212 (Activation)     (None, 16, 16, 64)   0           batch_normalization_212[0][0]    \n",
      "__________________________________________________________________________________________________\n",
      "conv2d_236 (Conv2D)             (None, 16, 16, 64)   36928       activation_212[0][0]             \n",
      "__________________________________________________________________________________________________\n",
      "batch_normalization_213 (BatchN (None, 16, 16, 64)   256         conv2d_236[0][0]                 \n",
      "__________________________________________________________________________________________________\n",
      "activation_213 (Activation)     (None, 16, 16, 64)   0           batch_normalization_213[0][0]    \n",
      "__________________________________________________________________________________________________\n",
      "conv2d_237 (Conv2D)             (None, 16, 16, 128)  8320        activation_213[0][0]             \n",
      "__________________________________________________________________________________________________\n",
      "add_68 (Add)                    (None, 16, 16, 128)  0           add_67[0][0]                     \n",
      "                                                                 conv2d_237[0][0]                 \n",
      "__________________________________________________________________________________________________\n",
      "batch_normalization_214 (BatchN (None, 16, 16, 128)  512         add_68[0][0]                     \n",
      "__________________________________________________________________________________________________\n",
      "activation_214 (Activation)     (None, 16, 16, 128)  0           batch_normalization_214[0][0]    \n",
      "__________________________________________________________________________________________________\n",
      "conv2d_238 (Conv2D)             (None, 8, 8, 128)    16512       activation_214[0][0]             \n",
      "__________________________________________________________________________________________________\n",
      "batch_normalization_215 (BatchN (None, 8, 8, 128)    512         conv2d_238[0][0]                 \n",
      "__________________________________________________________________________________________________\n",
      "activation_215 (Activation)     (None, 8, 8, 128)    0           batch_normalization_215[0][0]    \n",
      "__________________________________________________________________________________________________\n",
      "conv2d_239 (Conv2D)             (None, 8, 8, 128)    147584      activation_215[0][0]             \n",
      "__________________________________________________________________________________________________\n",
      "batch_normalization_216 (BatchN (None, 8, 8, 128)    512         conv2d_239[0][0]                 \n",
      "__________________________________________________________________________________________________\n",
      "activation_216 (Activation)     (None, 8, 8, 128)    0           batch_normalization_216[0][0]    \n",
      "__________________________________________________________________________________________________\n",
      "conv2d_241 (Conv2D)             (None, 8, 8, 256)    33024       add_68[0][0]                     \n",
      "__________________________________________________________________________________________________\n",
      "conv2d_240 (Conv2D)             (None, 8, 8, 256)    33024       activation_216[0][0]             \n",
      "__________________________________________________________________________________________________\n",
      "add_69 (Add)                    (None, 8, 8, 256)    0           conv2d_241[0][0]                 \n",
      "                                                                 conv2d_240[0][0]                 \n",
      "__________________________________________________________________________________________________\n",
      "batch_normalization_217 (BatchN (None, 8, 8, 256)    1024        add_69[0][0]                     \n",
      "__________________________________________________________________________________________________\n",
      "activation_217 (Activation)     (None, 8, 8, 256)    0           batch_normalization_217[0][0]    \n",
      "__________________________________________________________________________________________________\n",
      "conv2d_242 (Conv2D)             (None, 8, 8, 128)    32896       activation_217[0][0]             \n",
      "__________________________________________________________________________________________________\n",
      "batch_normalization_218 (BatchN (None, 8, 8, 128)    512         conv2d_242[0][0]                 \n",
      "__________________________________________________________________________________________________\n",
      "activation_218 (Activation)     (None, 8, 8, 128)    0           batch_normalization_218[0][0]    \n",
      "__________________________________________________________________________________________________\n",
      "conv2d_243 (Conv2D)             (None, 8, 8, 128)    147584      activation_218[0][0]             \n",
      "__________________________________________________________________________________________________\n",
      "batch_normalization_219 (BatchN (None, 8, 8, 128)    512         conv2d_243[0][0]                 \n",
      "__________________________________________________________________________________________________\n",
      "activation_219 (Activation)     (None, 8, 8, 128)    0           batch_normalization_219[0][0]    \n",
      "__________________________________________________________________________________________________\n",
      "conv2d_244 (Conv2D)             (None, 8, 8, 256)    33024       activation_219[0][0]             \n",
      "__________________________________________________________________________________________________\n",
      "add_70 (Add)                    (None, 8, 8, 256)    0           add_69[0][0]                     \n",
      "                                                                 conv2d_244[0][0]                 \n",
      "__________________________________________________________________________________________________\n",
      "batch_normalization_220 (BatchN (None, 8, 8, 256)    1024        add_70[0][0]                     \n",
      "__________________________________________________________________________________________________\n",
      "activation_220 (Activation)     (None, 8, 8, 256)    0           batch_normalization_220[0][0]    \n",
      "__________________________________________________________________________________________________\n",
      "conv2d_245 (Conv2D)             (None, 8, 8, 128)    32896       activation_220[0][0]             \n",
      "__________________________________________________________________________________________________\n",
      "batch_normalization_221 (BatchN (None, 8, 8, 128)    512         conv2d_245[0][0]                 \n",
      "__________________________________________________________________________________________________\n",
      "activation_221 (Activation)     (None, 8, 8, 128)    0           batch_normalization_221[0][0]    \n",
      "__________________________________________________________________________________________________\n",
      "conv2d_246 (Conv2D)             (None, 8, 8, 128)    147584      activation_221[0][0]             \n",
      "__________________________________________________________________________________________________\n",
      "batch_normalization_222 (BatchN (None, 8, 8, 128)    512         conv2d_246[0][0]                 \n",
      "__________________________________________________________________________________________________\n",
      "activation_222 (Activation)     (None, 8, 8, 128)    0           batch_normalization_222[0][0]    \n",
      "__________________________________________________________________________________________________\n",
      "conv2d_247 (Conv2D)             (None, 8, 8, 256)    33024       activation_222[0][0]             \n",
      "__________________________________________________________________________________________________\n",
      "add_71 (Add)                    (None, 8, 8, 256)    0           add_70[0][0]                     \n",
      "                                                                 conv2d_247[0][0]                 \n",
      "__________________________________________________________________________________________________\n",
      "batch_normalization_223 (BatchN (None, 8, 8, 256)    1024        add_71[0][0]                     \n",
      "__________________________________________________________________________________________________\n",
      "activation_223 (Activation)     (None, 8, 8, 256)    0           batch_normalization_223[0][0]    \n",
      "__________________________________________________________________________________________________\n",
      "average_pooling2d_7 (AveragePoo (None, 1, 1, 256)    0           activation_223[0][0]             \n",
      "__________________________________________________________________________________________________\n",
      "flatten_7 (Flatten)             (None, 256)          0           average_pooling2d_7[0][0]        \n",
      "__________________________________________________________________________________________________\n",
      "dense_7 (Dense)                 (None, 10)           2570        flatten_7[0][0]                  \n",
      "==================================================================================================\n",
      "Total params: 849,002\n",
      "Trainable params: 843,786\n",
      "Non-trainable params: 5,216\n",
      "__________________________________________________________________________________________________\n"
     ]
    }
   ],
   "source": [
    "if version == 2:\n",
    "    model3 = resnet_v2(input_shape=input_shape, depth=depth)\n",
    "else:\n",
    "    model3 = resnet_v1(input_shape=input_shape, depth=depth)\n",
    "\n",
    "model3.compile(loss='categorical_crossentropy',\n",
    "              optimizer=SGD(momentum=.9,lr=1e-3),\n",
    "              metrics=['categorical_crossentropy','accuracy'])\n",
    "model3.summary()"
   ]
  },
  {
   "cell_type": "code",
   "execution_count": null,
   "metadata": {},
   "outputs": [],
   "source": []
  }
 ],
 "metadata": {
  "kernelspec": {
   "display_name": "Python 3",
   "language": "python",
   "name": "python3"
  },
  "language_info": {
   "codemirror_mode": {
    "name": "ipython",
    "version": 3
   },
   "file_extension": ".py",
   "mimetype": "text/x-python",
   "name": "python",
   "nbconvert_exporter": "python",
   "pygments_lexer": "ipython3",
   "version": "3.5.3"
  }
 },
 "nbformat": 4,
 "nbformat_minor": 2
}
